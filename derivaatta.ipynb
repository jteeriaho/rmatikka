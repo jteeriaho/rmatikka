{
 "cells": [
  {
   "cell_type": "markdown",
   "id": "58d5a3e4",
   "metadata": {},
   "source": [
    "# Derivaatta   "
   ]
  },
  {
   "cell_type": "markdown",
   "id": "df527138",
   "metadata": {},
   "source": [
    "Differentiaalilaskennan keskeinen käsite on **derivaatta**, joka kuvaa funktion muutosnopeutta annetussa pisteessä.    \n",
    "Derivaatta voidaan määritellä algebrallisesti raja-arvona.    \n",
    "Seuraavassa kuitenkin määritellään derivaatta sen geometrisen tulkinnan kautta.     \n"
   ]
  },
  {
   "cell_type": "markdown",
   "id": "1e1c9a40",
   "metadata": {},
   "source": [
    "```{admonition} **Derivaatan geometrinen tulkinta**\n",
    ":class: tip\n",
    "Funktion f(x) derivaatta kohdassa $x_0$ on sen kuvaajan tangentin kulmakerroin ko. kohdassa. Sitä merkitään $f'(x_0)$\n",
    "\n",
    "![deri1](images/kuva1.PNG)\n",
    "```"
   ]
  },
  {
   "cell_type": "markdown",
   "id": "01f76da9",
   "metadata": {},
   "source": [
    "\n",
    "## Funktion derivaatan laskeminen annetussa pisteessä"
   ]
  },
  {
   "cell_type": "markdown",
   "id": "a3a94a53",
   "metadata": {},
   "source": [
    "```{admonition} Määritä käyrän $y =f(x) = x^2 -1$ tangentin kulmakerroin kohdassa x = 2\n",
    ":class: tip\n",
    "Tarkastellaan pisteen (2,3) ja sen lähellä olevan pisteen $(2+h, (2+h)^2-1)$ kautta kulkevan sekantin kulmakerrointa     \n",
    "\n",
    "$k=\\frac{y_2-y_1}{x_2-x_1}=\\frac{(2+h)^2-1-3}{h}=\\frac{(2+h)^2-4}{h}$      \n",
    "\n",
    "![dergraf](images/kuva2.PNG)\n",
    "\n",
    "Kun x-koordinaattien erotus h lähestyy arvoa 0, saadaan kulmakertoimen raja-arvona tangentin kulmakerroin \n",
    "\n",
    "$f'(2) = \\underset{h\\to 0}{lim}\\frac{(2+h)^2-4}{h}=\\underset{h\\to 0}{lim}\\hspace{2mm}(h+4)=0+4=4$\n",
    "\n",
    "```"
   ]
  },
  {
   "cell_type": "markdown",
   "id": "f188a1d1",
   "metadata": {},
   "source": [
    "> Em. raja-arvo voidaan laskea paitsi laskimella, myös sieventämällä osoittajaa:     \n",
    ">\n",
    ">    $(2+h)^2 - 4 = (2+h)(2+h)- 4 = 4 + 2h + 2h + h^2 - 4 = h^2 + 4h$  =>  \n",
    ">   \n",
    ">  $\\frac{(2+h)^2-4}{h}= \\frac{h^2+4h}{h}= \\frac{h(h+4)}{h}=h+4$  , joka lähestyy arvoa 4, kun h-> 0"
   ]
  },
  {
   "cell_type": "markdown",
   "id": "ea9cb2cd",
   "metadata": {},
   "source": [
    "## Käyrän derivaatan numeerinen määrittäminen (x,y) - datasta "
   ]
  },
  {
   "cell_type": "markdown",
   "id": "88afe6f1",
   "metadata": {},
   "source": [
    "Mm. fysiikassa tarvitaan menetelmää, jolla voidaan määrittää käyrän y = f(x) derivaatta annetussa kohdassa perustuen (x,y) dataan tarkasteltavan kohdan ympäristössä.  Seuraavassa sovelletaan tätä menetelmää edelliseen esimerkkiin. "
   ]
  },
  {
   "cell_type": "markdown",
   "id": "3313e9a7",
   "metadata": {},
   "source": [
    "```{admonition} Määritä käyrän $y =f(x) = x^2 -1$ tangentin kulmakerroin kohdassa x = 2 perustuen ao. taulukkoon funktion arvoista tarkastelukohdan ympäristössä.     \n",
    ":class: tip\n",
    "| x   | f(x)  |\n",
    "|-----|-------|\n",
    "| 1.8 | 2.24  |\n",
    "| 1.9 | 2.61  |\n",
    "| 2.0 | 3.00  |\n",
    "| 2.1 | 3.41  |\n",
    "| 2.2 | 3.84  |\n",
    "     \n",
    "\n",
    "Menetelmä perustuu siihen, että säännöllisellä käyrällä tarkastelupisteen tangentin arvo on yleensä likimain sama kuin tarkastelupisteen molemmilta puolilta valittujen lähimpien pisteiden välisen sekantin kulmakerroin. Ts.\n",
    "\n",
    "$f'(2)\\approx \\frac{f(2.1)-f(1.9)}{2.1-1.9}=\\frac{3.41-2.61}{0.2}=4.0$\n",
    "\n",
    "```"
   ]
  },
  {
   "cell_type": "markdown",
   "id": "faaaac48",
   "metadata": {},
   "source": [
    "##  Derivaattafunktio"
   ]
  },
  {
   "cell_type": "markdown",
   "id": "e46766b1",
   "metadata": {},
   "source": [
    "Derivaatan laskeminen kullekin käyrän pisteelle erikseen vaikkapa edellä esitetyllä raja-arvomenettelyllä on hankalaa.  Se ei ole edes tarpeellista, jos löydetään käyrälle ns. **derivaattafunktio** eli lauseke, josta voidaan laskea käyrän tai funktion derivaatta missä tahansa kohdassa x."
   ]
  },
  {
   "cell_type": "markdown",
   "id": "c5b6d280",
   "metadata": {},
   "source": [
    "```{admonition} Määritä käyrän $y = x^2 - 1$  derivaattafunktio \n",
    ":class: tip\n",
    "Tarkastellaan käyrän mielivaltaisen pisteen $(x,x^2-1)$ ja viereisen pisteen $(x+h,(x+h)^2-1)$ välisen sekantin kulmakerrointa     \n",
    "\n",
    "   $k=\\frac{y_2-y_1}{x_2-x_1}=\\frac{(x+h)^2-1-(x^2-1)}{h}=\\frac{(x+h)^2-x^2}{h}$    \n",
    "\n",
    "![der3](images/kuva3.PNG)\n",
    "   \n",
    "Derivaatta kohdassa x saadaan kulmakertoimen raja-arvona kun h lähestyy 0:aa  \n",
    "\n",
    "$f'(x)=\\underset{h\\to 0}{lim}\\frac{(x+h)^2-x^2}{h}=\\underset{h\\to 0}{lim}\\hspace{2mm}(h+2x)=0+2x=2x$     \n",
    "\n",
    "Tulos: funktion $f(x)=x^2-1 $   derivaattafunktio $f'(x) = 2x$"
   ]
  },
  {
   "cell_type": "markdown",
   "id": "24840aa8",
   "metadata": {},
   "source": [
    "Em. raja-arvo voidaan laskea ilman laskinta sieventämällä osoittajaa:     \n",
    "\n",
    "   $(x+h)^2 - x^2 = (x+h)(x+h)- x^2 = x^2 + 2xh + 2xh + h^2 - x^2 = h^2 + 2xh$  =>  \n",
    "   \n",
    " $\\frac{(x+h)^2-x^2}{h}= \\frac{h^2+2xh}{h}=\\frac{h(h+2x)}{h}= h+2 x$ , joka lähestyy arvoa 2x, kun h-> 0"
   ]
  },
  {
   "cell_type": "markdown",
   "id": "5a77b10e",
   "metadata": {},
   "source": [
    "## Derivaatan algebrallinen määritelmä"
   ]
  },
  {
   "cell_type": "markdown",
   "id": "00a1b569",
   "metadata": {},
   "source": [
    "Merkitsemällä tarkastelupistettä, jossa derivaatta lasketaan $(x_0,f(x_0))$ ja viereistä pistettä\n",
    "$(x_0+h,f(x_0+h))$ = $(x,f(x)$, voidaan derivaatta laskea raja-arvona $f'(x_0)=\\underset{h\\to 0}{lim}\\frac{f(x_0+h)-f(x_0)}{h}$ tai yhtäpitävästi raja-arvona\n",
    "$f'(x_0)=\\underset{x\\to x_0}{lim}\\frac{f(x)-f(x_0)}{x-x_0}$      \n",
    "\n",
    "Sekantin kulmakertoimen lauseketta $\\frac{f(x)-f(x_0)}{x-x_0}$ kutsutaan **erotusosamääräksi**"
   ]
  },
  {
   "cell_type": "markdown",
   "id": "3be272ba",
   "metadata": {},
   "source": [
    "```{admonition} **Derivaatan algebrallinen määritelmä**\n",
    ":class: tip\n",
    "Funktion f(x) derivaatta kohdassa $x_0$ on erotusosamäärän raja-arvo     \n",
    "\n",
    "$f'(x_0)=\\underset{x\\to x_0}{lim}\\frac{f(x)-f(x_0)}{x-x_0}$\n",
    "     \n",
    " \n",
    "```"
   ]
  },
  {
   "cell_type": "markdown",
   "id": "507db0c1",
   "metadata": {},
   "source": [
    "## Derivaatan merkintätapoja"
   ]
  },
  {
   "cell_type": "markdown",
   "id": "cab88cf7",
   "metadata": {},
   "source": [
    "Funktion y = f(x) derivaattaa voidaan merkitä useilla tavoilla.\n",
    "\n",
    "1.   $f'(x)$     \n",
    "\n",
    "\n",
    "2.    $y'$     \n",
    "\n",
    "\n",
    "3.    Df(x)  \n",
    "\n",
    "\n",
    "4.    $\\frac{dy}{dx}$      \n",
    "\n",
    "\n",
    "5.    $\\frac{df(x)}{dx}$       \n"
   ]
  }
 ],
 "metadata": {
  "jupytext": {
   "cell_metadata_filter": "-all",
   "notebook_metadata_filter": "-all",
   "text_representation": {
    "extension": ".md",
    "format_name": "markdown"
   }
  },
  "kernelspec": {
   "display_name": "Python 3 (ipykernel)",
   "language": "python",
   "name": "python3"
  },
  "language_info": {
   "codemirror_mode": {
    "name": "ipython",
    "version": 3
   },
   "file_extension": ".py",
   "mimetype": "text/x-python",
   "name": "python",
   "nbconvert_exporter": "python",
   "pygments_lexer": "ipython3",
   "version": "3.9.7"
  }
 },
 "nbformat": 4,
 "nbformat_minor": 5
}
