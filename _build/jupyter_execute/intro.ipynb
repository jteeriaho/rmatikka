{
 "cells": [
  {
   "cell_type": "markdown",
   "id": "090d0208",
   "metadata": {},
   "source": [
    "# Sisällysluettelo\n",
    "\n",
    "**Elinkaarilaskentaa:** Koronkorkolaskennan perusteita. Elinkaarilaskennan menetelmiä: *Nykyarvomenetelmä, annuiteettimenetelmä, sisäisen koron menetelmä*  \n",
    "\n",
    "**Tilasto-oppia:** Deskriptiivistä tilasto-oppia. Jatkuvat tilastojakaumat. Tilastollinen virheen arviointi. Regressioanalyysi \n",
    "\n",
    "**Differentiaalilaskentaa:** Raja-arvo pisteessä. Derivaatan määritelmä ja laskeminen raja-arvona. Perusfunktioiden derivaatat. Tulon ja osamäärän derivaatta. Yhdistetyn funktion derivaatta. Korkeammat derivaatat. Osittaisderivaatat. Newtonin menetelmä. Virheen arviointia derivaatoilla. Funktion ääriarvot. \n",
    "\n",
    "**Integraalilaskentaa:** Integraalifunktio. Integroimiskaavoja. Määrätty integraali. Määrätyn integraalin sovelluksia."
   ]
  }
 ],
 "metadata": {
  "kernelspec": {
   "display_name": "Python 3 (ipykernel)",
   "language": "python",
   "name": "python3"
  },
  "language_info": {
   "codemirror_mode": {
    "name": "ipython",
    "version": 3
   },
   "file_extension": ".py",
   "mimetype": "text/x-python",
   "name": "python",
   "nbconvert_exporter": "python",
   "pygments_lexer": "ipython3",
   "version": "3.9.7"
  }
 },
 "nbformat": 4,
 "nbformat_minor": 5
}