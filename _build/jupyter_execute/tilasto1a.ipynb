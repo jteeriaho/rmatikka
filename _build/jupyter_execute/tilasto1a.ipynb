{
 "cells": [
  {
   "cell_type": "markdown",
   "id": "58d5a3e4",
   "metadata": {},
   "source": [
    "# Tilastolliset tunnusluvut   "
   ]
  },
  {
   "cell_type": "markdown",
   "id": "c8b5b567",
   "metadata": {},
   "source": [
    "## Tilastolliset muuttujat"
   ]
  },
  {
   "cell_type": "markdown",
   "id": "c30486f7",
   "metadata": {},
   "source": [
    "Tilastotutkimoksen kohderyhmää kutsutaan tilasto-opissa **populaatioksi** \n",
    " \n",
    "Suuresta populaatiosta otetaan usen satunnaisvalinnalla **otos**, johon tutkimus kohdistetaan.\n",
    "\n",
    "Tilastotutkimuksissa mitattavia ominaisuuksia ja suureita sanotaan **tilastomuuttujiksi**.   \n",
    "\n",
    "Muuttujat voivat olla **numeerisia** tai **luokkamuuttujia**\n",
    "\n",
    "> Jos numeerisen muuttujan mahdolliset arvot voidaan luetella, muuttujaa sanotaan **diskreetiksi**    \n",
    ">  \n",
    "> Jos numeerisen muuttujan kahden arvon välissä voi olla ääretön määrä arvoja, muuttuja on **jatkuva**"
   ]
  },
  {
   "cell_type": "markdown",
   "id": "42ccff8a",
   "metadata": {},
   "source": [
    "### Diskreetin muuttujan arvojen jakauman esittäminen"
   ]
  },
  {
   "cell_type": "markdown",
   "id": "d98926b4",
   "metadata": {},
   "source": [
    "Tavanomaisia diskreetin jakauman esitystapoja ovat **frekvenssitaulu** ja **pylväskaavio**"
   ]
  },
  {
   "cell_type": "markdown",
   "id": "dd3a8f77",
   "metadata": {},
   "source": [
    "```{admonition} Esim. Kokeeseen, jonka maksimipistemäärä oli 20, osallistui 28 opiskelijaa. Kokeen arvosanat olivat 19,11,16,12,7,11,10,15,7,11,17,9,7,14,14,13,8,16,12,19,8,12,14,5,16,18,13 ja 11. Laadi arvosanajakaumasta frekvenssitaulu ja pylväskaavio.      \n",
    ":class: dropdown        \n",
    "**Frekvenssitaulu**\n",
    "\n",
    "| pisteet | lkm | pisteet | lkm |\n",
    "|---------|-----|---------|-----|\n",
    "| 5       | 1   | 13      | 2   |\n",
    "| 7       | 3   | 14      | 3   |\n",
    "| 8       | 2   | 15      | 1   |\n",
    "| 9       | 2   | 16      | 3   |\n",
    "| 10      | 1   | 17      | 1   |\n",
    "| 11      | 4   | 18      | 1   |\n",
    "| 12      | 3   | 19      | 2   |\n",
    "\n",
    "**Pylväskaavio**        \n",
    "\n",
    "![pylvas](images/kuva43.PNG)  \n",
    "```"
   ]
  },
  {
   "cell_type": "markdown",
   "id": "56dc579e",
   "metadata": {},
   "source": [
    "### Tilastollisia tunnuslukuja"
   ]
  },
  {
   "cell_type": "markdown",
   "id": "13eb948f",
   "metadata": {},
   "source": [
    "Muuttujan arvojen jakaumaa voidaan kuvata myös **tilastollisilla tunnusluvuilla**.     \n",
    "\n",
    "**Keskiluvut** pyrkivät kuvaamaan muuttujan keskimääräistä tai tyypillistä arvoa. Keskilukuja ovat *keskiarvo, mediaani ja tyyppiarvo*   \n",
    "\n",
    "**Hajontaluvut** kuvaavat arvojen jakautumista ja hajontaa. Hajontalukuja ovat *varianssi, keskihajonta, ylä- ja alaneljännes, sekä prosenttipiste*. "
   ]
  },
  {
   "cell_type": "markdown",
   "id": "1e1c9a40",
   "metadata": {},
   "source": [
    "```{admonition} **Keskiarvon ja keskihajonnan kaavat**\n",
    ":class: tip\n",
    "\n",
    "keskiarvo:      $\\hspace{1cm}\\mu=\\frac{x_1+x_2+...+x_n}{n}=\\frac{\\sum x_i}{n}$\n",
    "\n",
    "keskihajonta:   $\\hspace{5mm}\\sigma=\\sqrt{\\frac{\\sum (x_i-\\mu)^2}{n}}$   *(ns. populaatiokeskihajonta)*     \n",
    "\n",
    "$x_1, x_2,...$  ovat muuttujan arvot, n = arvojen lukumäärä\n",
    "\n",
    "```"
   ]
  },
  {
   "cell_type": "markdown",
   "id": "ac3be2f8",
   "metadata": {},
   "source": [
    "*Mediaani* on lukujoukon keskimmäinen luku: puolet joukon luvuista on pienempiä ja puolet suurempia kuin mediaani   \n",
    "    \n",
    "*Tyyppiarvo* eli *moodi* on muuttujan arvo, jonka frekvenssi on suurin  \n",
    "\n",
    "*Prosenttipiste*, jonka parametrina on prosenttiluku p ilmoittaa muuttujan arvon, jonka alapuolelle jää p prosenttia arvoista\n",
    "\n",
    "*Ylä- ja alaneljännes* ovat prosenttipisteen erikoistapauksia vastaten prosenttiarvoja 75 ja 25.      \n",
    "\n",
    "*P90-arvo* on mm. rakennusten sisäilmamittauksissa käytetty viitearvo, joka tarkoittaa prosenttipistettä, kun p = 90."
   ]
  },
  {
   "cell_type": "markdown",
   "id": "fc7d980f",
   "metadata": {},
   "source": [
    "### Tilastolliset tunnusluvut Excelissä"
   ]
  },
  {
   "cell_type": "markdown",
   "id": "d6ed13d6",
   "metadata": {},
   "source": [
    "```{admonition} Excelissä on funktiot kaikille em. tilastollisille tunnusluvuille. Alkuperäiset muuttujan arvot kannattaa kirjoittaa samaan sarakkeeseen tai samalle riville. Jos aiemman esimerkin koetulokset kirjoitetaan solualueelle $A1:A28$, voidaan tunnusluvut laskea Excel-funktioilla ao. taulukon mukaisesti \n",
    ":class: tip\n",
    "\n",
    "| tunnusluku   | suom.Excel                  | engl.Excel              |\n",
    "|:-------------|:----------------------------|:------------------------|\n",
    "| keskiarvo    | =keskiarvo(A1:A28)          | =average(A1:A28)        |\n",
    "| keskihajonta | =keskihajonta.p(A1:A28)     | =stdev.p(A1:A28)        |\n",
    "| mediaani     | =mediaani(A1:A28)           | =median(A1:A28)         |\n",
    "| tyyppiarvo   | =moodi(A1:A28)              | =mode(A1:A28)           |\n",
    "| yläneljännes | =neljännes(A1:A28;3)        | =quartile(A1:A28;3)     |\n",
    "| alaneljännes | =neljännes(A1:A28;1)        | =quartile(A1:A28;1)     |\n",
    "| P90- arvo    | =prosenttipiste(A1:A28;90%) | =percentile(A1:A28;90%) |\n",
    "| suurin arvo  | =suurin(A1:A28)             | =max(A1:A28)            |\n",
    "| pienin arvo  | =pienin(A1:A28)             | =min(A1:A28)            |\n",
    "| lukumäärä    | =laske(A1:A28)              | =count(A1:A28)          |\n",
    "\n",
    "```"
   ]
  },
  {
   "cell_type": "markdown",
   "id": "83919c6d",
   "metadata": {},
   "source": [
    "## Jatkuvan muuttujan esittäminen ja tunnusluvut"
   ]
  },
  {
   "cell_type": "markdown",
   "id": "257926d4",
   "metadata": {},
   "source": [
    "Muuttuja on **jatkuva**, kun mahdollisia arvoja on ääretön tai hyvin suuri määrä. Tällöin muuttujan eri arvojen frekvensseistä muodostettava frekvenssitaulukko ja siitä laadittu pylväskaavio eivät ole mielekkäitä esitystapoja analyysin kannalta.   \n",
    "\n",
    "Ratkaisu ongelmaan on aineiston luokittelu. \n"
   ]
  },
  {
   "cell_type": "markdown",
   "id": "96074e88",
   "metadata": {},
   "source": [
    "```{admonition} **Muuttujan arvojen luokittelusta**\n",
    ":class: tip\n",
    "\n",
    "1. Sopiva luokkien määrä on 5 - 16, enintään $\\sqrt{n}$ , missä n on havaintojen lukumäärä            \n",
    "2. Luokkien alarajojen tulisi olla mielellään pyöreitä lukuja       \n",
    "3. Luokan ylärajan tulisi olla mittaustarkkuuden verran seuraavan luokan alarajan alapuolella     \n",
    "4. Pienimmän muuttujan arvon tulee sijaita alimmassa luokassa, suurimman arvon ylimmässä      \n",
    "```"
   ]
  },
  {
   "cell_type": "markdown",
   "id": "7c0efb14",
   "metadata": {},
   "source": [
    "Esim.  Alla on 30 koehenkilön reaktioajan mittaustulokset. Reaktioajat on luokiteltu viiteen tasaväliseen luokkaan ja jakauma on esitetty pylväskaaviona.   \n",
    "\n",
    "\n",
    "![luokat](images/kuva44.PNG)"
   ]
  },
  {
   "cell_type": "markdown",
   "id": "86fb5b3d",
   "metadata": {},
   "source": [
    "### Jatkuvan muuttujan tunnusluvuista"
   ]
  },
  {
   "cell_type": "markdown",
   "id": "ff167db3",
   "metadata": {},
   "source": [
    "A. Mikäli alkuperäinen data on kokonaisuudessaan tallessa sähköisessä muodossa, voidaan se siirtää Exceliin, ja laskea Excelin tilastofunktioita käyttäen tunnuslukujen tarkat arvot.       \n",
    "\n",
    "Reaktioaikaesimerkissä saadaan tunnusluvuille seuraavat arvot:      \n",
    "> keskiarvo 861.2     \n",
    "> keskihajonta 153.0     \n",
    "> mediaani   891     \n",
    "> alaneljännes 718     \n",
    "> yläneljännes 1008    \n",
    "> P90 prosenttipiste 1061     \n",
    "\n",
    "B. Usein alkuperäinen data ei ole käytettävissä, joten tunnusluvut on pyrittävä määrittämään luokitellun aineiston perusteella."
   ]
  },
  {
   "cell_type": "markdown",
   "id": "bae421ed",
   "metadata": {},
   "source": [
    "```{admonition} **Keskiarvon ja keskihajonnan laskeminen luokitellusta aineistosta**\n",
    ":class: tip\n",
    "\n",
    "keskiarvo:      $\\hspace{1cm}\\mu=\\frac{\\sum f_ix_i}{n}$\n",
    "\n",
    "keskihajonta:   $\\hspace{5mm}\\sigma=\\sqrt{\\frac{\\sum f_i(x_i-\\mu)^2}{n}}$       \n",
    "\n",
    "missä $x_i$  ja $f_i$ on luokan i luokkakeskus ja frekvenssi, n = arvojen kokonaismäärä\n",
    "\n",
    "```"
   ]
  },
  {
   "cell_type": "markdown",
   "id": "a0ea7a01",
   "metadata": {},
   "source": [
    "```{admonition} Määritä esimerkin reaktioaikojen keskiarvo luokitellusta aineistosta\n",
    ":class: dropdown\n",
    "keskiarvo:  $\\mu=\\frac{5\\cdot 650+7\\cdot 750+4\\cdot 850+6\\cdot 950+8\\cdot 1050}{30}=870$\n",
    "\n",
    "keskihajonta: $\\sigma=\\sqrt{\\frac{5\\cdot (650-870)^2 + 7\\cdot (750-870)^2+...+ 8\\cdot (1050-870)^2}{30}} = 146$     \n",
    "\n",
    "Ero alkuperäisestä datasta laskettuihin tarkkoihin arvoihin 861.2 ja 153.0 on pieni. \n",
    "```    "
   ]
  },
  {
   "cell_type": "markdown",
   "id": "83a1bd0e",
   "metadata": {},
   "source": [
    "### Otantakeskihajonta ja populaatiokeskihajonta"
   ]
  },
  {
   "cell_type": "markdown",
   "id": "e357421c",
   "metadata": {},
   "source": [
    "**Kokonaistutkimuksessa** mitataan muuttujan arvo koko populaatiosta.     \n",
    "**Otantatutkimuksessa** valitaan jotain otantamenetelmää käyttäen populaatiosta osajoukko, jota sanotaan **otokseksi** *(sample)*.       \n",
    "\n",
    "Otoksesta lasketut tunnusluvut poikkeavat sitä enemmän populaation tunnusluvuista, mitä pienempi on **otoskoko** *(sample size)*\n",
    "\n",
    "Keskihajonta lasketaan hieman eri kaavalla riippuen siitä, onko kyseessä kokonaistutkimus vai otantatutkimus.    \n",
    "Niistä käytetään termejä *populaatiokeskihajonta* ja *otoskeskihajonta*.        \n",
    "\n",
    "Suurilla otoskoon arvoilla kaavojen antamien arvojen ero on erittäin pieni."
   ]
  },
  {
   "cell_type": "markdown",
   "id": "c1ad9ce5",
   "metadata": {},
   "source": [
    "```{admonition} **Otoskeskihajonta ja populaatiokeskihajonta**\n",
    ":class: tip\n",
    "\n",
    "populaatiokeskihajonta:   $\\sigma=\\sqrt{\\frac{\\sum (x_i-\\mu)^2}{n}}$     \n",
    "\n",
    "otoskeskihajonta:   $\\hspace{10mm}s=\\sqrt{\\frac{\\sum (x_i-\\mu)^2}{n-1}}$ \n",
    "\n",
    "```"
   ]
  }
 ],
 "metadata": {
  "jupytext": {
   "cell_metadata_filter": "-all",
   "notebook_metadata_filter": "-all",
   "text_representation": {
    "extension": ".md",
    "format_name": "markdown"
   }
  },
  "kernelspec": {
   "display_name": "Python 3 (ipykernel)",
   "language": "python",
   "name": "python3"
  },
  "language_info": {
   "codemirror_mode": {
    "name": "ipython",
    "version": 3
   },
   "file_extension": ".py",
   "mimetype": "text/x-python",
   "name": "python",
   "nbconvert_exporter": "python",
   "pygments_lexer": "ipython3",
   "version": "3.9.7"
  }
 },
 "nbformat": 4,
 "nbformat_minor": 5
}