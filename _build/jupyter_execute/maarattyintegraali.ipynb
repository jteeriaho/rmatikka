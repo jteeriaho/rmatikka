{
 "cells": [
  {
   "cell_type": "markdown",
   "id": "58d5a3e4",
   "metadata": {},
   "source": [
    "# Määrätty integraali    "
   ]
  },
  {
   "cell_type": "markdown",
   "id": "70013ac7",
   "metadata": {},
   "source": [
    "Olkoon f(x) välillä $[a,b]$ määritelty jatkuva funktio, joka saa positiivia arvoja ko. välillä.    \n",
    "\n",
    "Pinta-ala, joka käyrän y = f(x) ja x- akselin väliin välillä $[a,b]$ voidaan määrittää seuraavasti:      \n",
    "Jaetaan väli $[a,b]$ n:ään yhtäsuureen osaväliin, joiden leveys $\\Delta x = \\frac{b-a}{n}$.       \n",
    "![integ](images/kuva27.PNG)        \n",
    "\n",
    "\n",
    "Pinta-alan likiarvo saadaan laskemalla summa $\\sum_{i=0}^{n}f(x_i)\\Delta x$, missä $x_i$:t ovat osavälien keskipisteitä.    \n",
    "\n",
    "Kun osavälien lukumäärä n lähestyy ääretöntä, saadaan raja-arvona kysytty pinta-ala.    \n",
    "\n",
    "$A = \\underset{\\Delta x \\to 0}{lim}\\hspace{3mm} \\Sigma f(x_i)\\Delta x$         \n",
    "        \n",
    "Summalauseketta kaavan oikella puolen kutsutaan **Riemannin summaksi**."
   ]
  },
  {
   "cell_type": "markdown",
   "id": "8ce9a48c",
   "metadata": {},
   "source": [
    "## Määrätyn integraalin määritelmä"
   ]
  },
  {
   "cell_type": "markdown",
   "id": "1e1c9a40",
   "metadata": {},
   "source": [
    "```{admonition} **Määritelmä**\n",
    ":class: tip\n",
    "\n",
    "Funktion f(x) määrätty integraali a:sta b:hen $\\int_{a}^{b}f(x)dx$ määritellään Riemannin summan raja-arvona         \n",
    "\n",
    "$\\int_{a}^{b}f(x)dx = \\underset{n\\to \\infty }{lim}\\hspace{3mm} \\overset{n}{\\underset{i=0}{\\Sigma}}f(x_i)\\Delta x$\n",
    "\n",
    "\n",
    "```"
   ]
  },
  {
   "cell_type": "markdown",
   "id": "c3ce3f82",
   "metadata": {},
   "source": [
    "```{admonition} Esim. Laske integraalin $\\int_{0}^{4} \\sqrt(x) dx$ likiarvo kaavalla $\\sum_{i=0}^{n}f(x_i)\\Delta x$ jakamalla väli $[0,4]$ kahdeksaan osaan.\n",
    ":class: dropdown\n",
    "Osavälin leveys $\\Delta x$ = 0.5.  Osavälien keskipisteet $x_i $ovat 0.25, 0.75, 1.25, ...., 3.75      \n",
    "\n",
    "$\\int_{0}^{4} \\sqrt(x) dx \\approx (\\sqrt {0.25}+ \\sqrt {0.75} + ... + \\sqrt {3.25}  + \\sqrt {3.75})\\cdot 0.5 = 5.352 $      \n",
    "\n",
    "(vrt. Algebralaskimella saatu tarkka arvo =  5.333\n",
    " \n",
    "```"
   ]
  },
  {
   "cell_type": "markdown",
   "id": "e79b0d79",
   "metadata": {},
   "source": [
    "Määrätty integraali lasketaan tarkasti **määrittämällä funktion f(x) integraalifunktio F(x)** ja käyttämällä seuraavaa lausetta:"
   ]
  },
  {
   "cell_type": "markdown",
   "id": "01f76da9",
   "metadata": {},
   "source": [
    "## Määrätyn integraalin laskeminen integraalifunktion avulla"
   ]
  },
  {
   "cell_type": "markdown",
   "id": "fcd4b7da",
   "metadata": {},
   "source": [
    "```{admonition} **Määrätyn integraalin laskeminen integroimalla**\n",
    ":class: tip\n",
    "\n",
    "Olkoon F(x) funktion f(x) integraalifunktio, ts. $F'(x) = f(x) $. Tällöin määrätty integraali voidaan laskea kaavalla        \n",
    "\n",
    "\n",
    " $\\int_{a}^{b}f(x)dx = F(b) - F(a)$        \n",
    " \n",
    "Erotusta F(b)- F(a) on tapana merkitä laskuissa  $\\overset{b}{\\underset{a}{/}} F(x)$ , jolloin merkitään         \n",
    "\n",
    "$\\int_{a}^{b}f(x)dx = \\overset{b}{\\underset{a}{/}} F(x)$ \n",
    "\n",
    "```"
   ]
  },
  {
   "cell_type": "markdown",
   "id": "6d7802d0",
   "metadata": {},
   "source": [
    "```{admonition} Esim. Laske $\\int_{1}^{2} 2x dx$\n",
    ":class: dropdown\n",
    "Funktion 2x integraalifunktio F(x) = $\\int 2x dx = x^2$     \n",
    "(*vakion C voi olettaa nollaksi, koska se häviää laskettaessa erotusta F(b)-F(a)*)      \n",
    "\n",
    "$\\int_{1}^{2} 2x dx = \\overset{2}{\\underset{1}{/}} x^2 =2^2 - 1^2 = 3 $\n",
    " \n",
    "```"
   ]
  },
  {
   "cell_type": "markdown",
   "id": "d54ef038",
   "metadata": {},
   "source": [
    "```{admonition} Esim. Laske $\\int_{0}^{4} e^x dx$\n",
    ":class: dropdown\n",
    "Funktion $e^x$ integraalifunktio F(x) = $\\int e^x dx = e^x$        \n",
    "\n",
    "$\\int_{0}^{4} e^x dx = \\overset{4}{\\underset{0}{/}} e^x =e^4 - e^0 = e^4 - 1 \\approx 53.6 $\n",
    " \n",
    "```"
   ]
  },
  {
   "cell_type": "markdown",
   "id": "df4e7185",
   "metadata": {},
   "source": [
    "```{admonition} Esim. Laske $\\int_{0}^{\\frac {\\pi}{2}} cos(x) dx$\n",
    ":class: dropdown\n",
    "Funktion cos(x) integraalifunktio F(x) = sin(x)         \n",
    "\n",
    "$\\int_{0}^{\\frac {\\pi}{2}} cos(x) dx = \\overset{\\frac {\\pi}{2}}{\\underset{0}{/}} sin(x) = sin(\\frac {\\pi}{2}) - sin(0) = 1 - 0 = 1 $\n",
    " \n",
    "```"
   ]
  },
  {
   "cell_type": "markdown",
   "id": "44e9578a",
   "metadata": {},
   "source": [
    "## Määrätyn integraalin ominaisuuksia"
   ]
  },
  {
   "cell_type": "markdown",
   "id": "9be12986",
   "metadata": {},
   "source": [
    "```{admonition} **Määrätyn integraalin ominaisuuksia**\n",
    ":class: tip\n",
    "\n",
    "$1.$ Integroimisrajat yhtä suuret   \n",
    "\n",
    "$\\int_{a}^{a}f(x)dx = 0$\n",
    "\n",
    "$2.$ Integroimisrajojen vaihto muuttaa etumerkin         \n",
    "\n",
    "$\\int_{a}^{b}f(x)dx = - \\int_{b}^{a}f(x)dx$\n",
    "\n",
    "$3.$ Yhteenlaskuominaisuus      \n",
    "\n",
    "$\\int_{a}^{c}f(x)dx + \\int_{c}^{b}f(x)dx  = \\int_{a}^{b}f(x)dx$           \n",
    "\n",
    "Ominaisuuden nojalla funktion määrätty integraali voidaan laskea myös paloittain. Pisteen c ei välttämättä tarvitse olla välillä $[a,b]$\n",
    "\n",
    "```"
   ]
  },
  {
   "cell_type": "markdown",
   "id": "7f29a145",
   "metadata": {},
   "source": [
    "## Määrätty integraali laskimissa "
   ]
  },
  {
   "cell_type": "markdown",
   "id": "8ca0efb7",
   "metadata": {},
   "source": [
    "Mm. lukioissa käytetyissä laskimissa on toiminto määrätyn integraalin laskemiseen.      \n",
    "\n",
    "WolframAlphassa edellisten esimerkkien integroinnin suoritetaan seuraavilla komennoilla:       \n",
    "\n",
    "$\\color {red} {\\text{integrate 2x from 1 to 2}}$       \n",
    "\n",
    "$\\color {red} {\\text{integrate e^x from 0 to 4}}$    \n",
    "\n",
    "$\\color {red} {\\text{integrate cos(x) from 0 to pi/2}}$"
   ]
  }
 ],
 "metadata": {
  "jupytext": {
   "cell_metadata_filter": "-all",
   "notebook_metadata_filter": "-all",
   "text_representation": {
    "extension": ".md",
    "format_name": "markdown"
   }
  },
  "kernelspec": {
   "display_name": "Python 3 (ipykernel)",
   "language": "python",
   "name": "python3"
  },
  "language_info": {
   "codemirror_mode": {
    "name": "ipython",
    "version": 3
   },
   "file_extension": ".py",
   "mimetype": "text/x-python",
   "name": "python",
   "nbconvert_exporter": "python",
   "pygments_lexer": "ipython3",
   "version": "3.9.7"
  }
 },
 "nbformat": 4,
 "nbformat_minor": 5
}