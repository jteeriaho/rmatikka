{
 "cells": [
  {
   "cell_type": "markdown",
   "id": "58d5a3e4",
   "metadata": {},
   "source": [
    "# Elinkaarilaskennan menetelmiä  "
   ]
  },
  {
   "cell_type": "markdown",
   "id": "8df0985e",
   "metadata": {},
   "source": [
    "Elinkaarilaskennassa pyritään arvioimaan investoinnin kannattavuutta ja määrittelemään vuotuisen korvauksen suuruus ottaen huomioon kaikki kiinteistön elinkaaren aikaiset kustannukset.    \n",
    "\n",
    "Elinkaarilaskennassa käytetään seuraavia menetelmiä:  \n",
    "\n",
    "> 1. Nykyarvomenetelmä     \n",
    ">        \n",
    "> 2. Sisäisen koron menetelmä     \n",
    ">       \n",
    "> 3. Annuiteettimenetelmä (harvinainen) "
   ]
  },
  {
   "cell_type": "markdown",
   "id": "1e1c9a40",
   "metadata": {},
   "source": [
    "```{admonition} **Esimerkki, johon sovelletaan em. menetelmiä**\n",
    ":class: tip\n",
    "Esimerkkinä on rakennusinvestointi, jossa investointikustannukset (sis. mm. rakennuskustannukset, tontti, liittymät) ovat yhteensä 1.2 milj. euroa. Pitoaika on 20 vuotta ja sen lopuksi arvioidaan rakennuksesta saatavan myyntituloa 0.5 miljoonaa euroa. Ao. taulukkoon on arvioitu vuotuiset menot (kiinteistönhoito ja kunnossapito), sekä tuotot koko pitoajalta. \n",
    "![nykya](images/kuva39.PNG)\n",
    "\n",
    "```"
   ]
  },
  {
   "cell_type": "markdown",
   "id": "01f76da9",
   "metadata": {},
   "source": [
    "## Nykyarvomenetelmä "
   ]
  },
  {
   "cell_type": "markdown",
   "id": "d7ac688e",
   "metadata": {},
   "source": [
    "1. Luodaan taulukon oikealle puolen uusi sarake, johon lasketaan summakaavalla kullekin vuodelle nettotuotto (ns. rahavirta)       \n",
    "\n",
    "\n",
    "\n",
    "2. Luodaan vielä toinen uusi sarake, johon lasketaan nettotuottojen nykyarvot käyttämällä edeltäkäsin määriteltyä diskonttokorkoa.  Käytettävän korkokannan valinta voidaan tehdä kahdella tavalla\n",
    "\n",
    "> **A. TUOTON NÄKÖKULMA**. Siinä yritys määrittää tavoitekoron investoinnille. Pääomalla voi olla vaihtoehtoisia sijoituskohteita, joiden tuottoon korkoa verrataan.  Koron määrityksessä tulee ottaa rahoituskustannusten lisäksi huomioon riski (esim. rakentaminen muuttotappioalueelle voi sisältää riskejä),  sekä yrityksen tavoite investoinnista saatavalle voitolle. Tuottoperusteista korkoa käytettäessä investointi on kannattava, jos nettotuottojen nykyarvojen summa ylittää investoidun rahamäärän.  \n",
    "\n",
    "> **B. KUSTANNUSTEN NÄKÖKULMA**. Tässä menetelmässä riittää, kun nykyarvon laskennassa käytettävä korko kattaa rahoituskustannukset, sekä riskit.  Yrityksen tavoittelemaa voittoa ei korkoon sisällytetä.  Voitto näkyy laskelmassa nettotuottojen nykyarvon ja investoidun summan erotuksena.  "
   ]
  },
  {
   "cell_type": "markdown",
   "id": "6d7802d0",
   "metadata": {},
   "source": [
    "```{admonition} Tee esimerkin tapauksessa kannattavuuslaskelma nykyarvomenetelmällä käyttäen a) tuottoperustaista 15% korkokantaa, b) kustannusperustaista 5% korkoa.\n",
    ":class: dropdown\n",
    "![nykya2](images/kuva40.PNG)      \n",
    "    \n",
    "> Soluun E7 kirjoitetaan kaava $\\color{blue}{\\text{=summa(B7:D7)}}$      \n",
    "> Soluun F7 kirjoitetaan kaava $\\color{blue}{\\text{=-NA(\\$F\\$3;A7;;E7)}}$    <sup>1),2)</sup>\n",
    ">        \n",
    "> Molemmat kaavat kopioidaan alas     \n",
    ">      \n",
    "> Soluun F27 kirjoitetaan kaava $\\color{blue}{\\text{=summa(F7:F26)}}$ , joka laskee nykyarvojen summaksi n. 1.43 milj. euroa \n",
    "> Soluun F28 kirjoitetaan investointikustannus $\\color{blue}{\\text{-1 200 000}}$      \n",
    "> Soluun F29 kirjoitetaan investoinnin nettonykyarvon laskukaava $\\color{blue}{\\text{+F27+F28}}$\n",
    "\n",
    "\n",
    "> **Johtopäätökset**:         \n",
    "> Kohdassa a) nettonykyarvo on 180 000 € negatiivinen => 15% tuottotavoite jää saavuttamatta ja jos sitä pidetään kannattavuusrajana, investointi **ei ole kannattava**     \n",
    "\n",
    "> Kohdassa b) viivan alla jäävä 20 vuoden nettotuotto on nykyrahassa 750 000 €. Sen verran jää investoinnista käteen lainojen hoidon + riskivarausten 4.5 prosentin osuuden jälkeen). Ristiriitaa ei kuitenkaan ole a) -kohdan tuloksen kanssa, koska viivan alle jäävä tulos ei täytä 16% tuottotavoitetta.       \n",
    "\n",
    "<sup>1)</sup> englannikielisessä Excelissä nykyarvofunktio on PV      \n",
    "<sup>2)</sup> dollarimerkit Excelissä kiinnittävät soluviittauksen absoluuttiseksi \n",
    "  \n",
    "```"
   ]
  },
  {
   "cell_type": "markdown",
   "id": "a21ce6ad",
   "metadata": {},
   "source": [
    "## Sisäisen koron menetelmä"
   ]
  },
  {
   "cell_type": "markdown",
   "id": "eeb38527",
   "metadata": {},
   "source": [
    " ```{admonition} **Sisäisen koron menetelmä** (*Internal Rate of Return method*)\n",
    ":class: tip\n",
    "Sisäisen koron menetelmässä ei valita korkokantaa laskeman lähtökohdaksi, vaan menetelmä antaa tuloksenaan koron, jota käyttämällä nettotuottojen nykyarvojen summa täsmää investoidun rahamäärän kanssa.  \n",
    "\n",
    "Menetelmässä kannattaa käyttää Excelin IRR- funktiota. jonka ainoa argumentti on kassavirta, jossa 1. rivi sisältää investoidun rahamäärän miinusmerkkisenä, ja seuraavilla riveillä on vuotuiset nettotuotot. \n",
    "\n",
    "```"
   ]
  },
  {
   "cell_type": "markdown",
   "id": "4f541d32",
   "metadata": {},
   "source": [
    "```{admonition} Laske esimerkin investoinnin sisäinen korko.\n",
    "![irr](images/kuva42.PNG)    \n",
    "     \n",
    "\n",
    "> Sisäisen koron menetelmässä on vain neljä saraketta, joista neljäs sisältää nettokassavirran kultakin vuodelta     \n",
    "> Lisäksi taulukkoon tarvitaan investointivuodelle 0  oma rivi, jonka nettokassavirta on investoitu summa      \n",
    "> Soluun E28 kirjoitetaan funktio $\\color{blue}{\\text{=IRR(E7:E27)}}$, joka laskee sisäisen koron.\n",
    ">        \n",
    "\n",
    "> **Johtopäätökset**:         \n",
    "> Investoinnin nettotuottoprosentti on 12%, joka ei yllä yrityksen itselleen asettamaan 15% kannattavuuskriteeriin.. \n",
    " \n",
    "```"
   ]
  },
  {
   "cell_type": "markdown",
   "id": "a878af10",
   "metadata": {},
   "source": [
    "**Annuiteettimenetelmä** on kolmas kustannuslaskennan menetelmä. Se on kyselyjen mukaan harvoin käytetty ja sen takia menetelmä kuitataan maininnalla useimmissa oppimateriaaleissa *(mm. Aalto - yliopisto)*. Myöskään tällä kurssilla ei kyseistä menetelmää käsitellä."
   ]
  }
 ],
 "metadata": {
  "jupytext": {
   "cell_metadata_filter": "-all",
   "notebook_metadata_filter": "-all",
   "text_representation": {
    "extension": ".md",
    "format_name": "markdown"
   }
  },
  "kernelspec": {
   "display_name": "Python 3 (ipykernel)",
   "language": "python",
   "name": "python3"
  },
  "language_info": {
   "codemirror_mode": {
    "name": "ipython",
    "version": 3
   },
   "file_extension": ".py",
   "mimetype": "text/x-python",
   "name": "python",
   "nbconvert_exporter": "python",
   "pygments_lexer": "ipython3",
   "version": "3.9.7"
  }
 },
 "nbformat": 4,
 "nbformat_minor": 5
}