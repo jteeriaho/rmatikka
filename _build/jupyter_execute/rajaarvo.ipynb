{
 "cells": [
  {
   "cell_type": "markdown",
   "id": "58d5a3e4",
   "metadata": {},
   "source": [
    "# Raja-arvot   "
   ]
  },
  {
   "cell_type": "markdown",
   "id": "8df0985e",
   "metadata": {},
   "source": [
    "Differentiaalilaskennan keskeinen käsite on derivaatta. Derivaatan määrittelyyn tarvitaan *raja-arvon* käsitettä.   \n",
    "\n",
    "Tällä kurssilla riittää raja-arvon käsitteen intuitiivinen ymmärtäminen. Lisäksi opetellaan murtolausekkeiden raja-arvojen laskeminen yksinkertaisissa tapauksissa sellaisissa kohdissa, joissa lausekeen arvoa ei ole määritelty.     "
   ]
  },
  {
   "cell_type": "markdown",
   "id": "1e1c9a40",
   "metadata": {},
   "source": [
    "```{admonition} **Raja-arvon intuitiivinen määritelmä**\n",
    ":class: tip\n",
    "Vaikka funktio f(x) ei olisi määritelty kohdassa $x = x_0$, on mahdollista, että funktion arvot lähenevät rajatta tiettyä äärellistä arvoa **a**, kun muuttujan x:n arvot lähestyvät arvoa $x_0$. Tällöin lukua a kutsutaan funktion f **raja-arvoksi**, kun x lähestyy arvoa $x_0$.   Tätä merkitään seuraavasti:      \n",
    "\n",
    "$\\underset{x\\to x_0}{lim}f(x)=a$   \n",
    "\n",
    "\n",
    "```\n",
    "\n",
    "Esim. funktiota $y = \\frac {x^2 -1}{x-1}$ ei ole määritelty kohdassa x = 1, mutta kuvaajan perusteella funktion arvot lähestyvät molemmilta puolilta raja-arvoa 2 lähestyttäessä kohtaa x = 1.    \n",
    "\n",
    "![der0](images/kuva0.PNG)"
   ]
  },
  {
   "cell_type": "markdown",
   "id": "01f76da9",
   "metadata": {},
   "source": [
    "## Murtofunktion raja-arvo nimittäjän nollakohdassa  "
   ]
  },
  {
   "cell_type": "markdown",
   "id": "d7ac688e",
   "metadata": {},
   "source": [
    "Murtofunktio ei ole määritelty nimittäjän nollakohdissa.    \n",
    "\n",
    "Sillä voi silti olla äärellinen raja-arvo siinä edellyttäen, että ko. nimittäjän nollakohta on myös osoittajan nollakohta.     \n",
    "\n",
    "Raja-arvo voidaan usein laskea helposti sen jälkeen, kun nimittäjän ja osoittajan yhteinen tekijä on supistettu pois."
   ]
  },
  {
   "cell_type": "markdown",
   "id": "6d7802d0",
   "metadata": {},
   "source": [
    "```{admonition} Laske lausekkeen $ \\frac{3x^2+2x}{2x} $ raja-arvo kohdassa x = 0\n",
    ":class: dropdown\n",
    "Esitetään osoittaja tulomuodossa, ja supistetaan yhteinen tekijä pois         \n",
    "$ \\frac{3x^2+2x}{2x}=\\frac{x(3x+2)}{2x}=\\frac{(3x+2)}{2} $    \n",
    "Supistamisen jälkeen sijoitus x = 0 antaa raja-arvoksi $\\frac{(3\\cdot 0+2)}{2}=1$    \n",
    "```"
   ]
  },
  {
   "cell_type": "markdown",
   "id": "a0bbee21",
   "metadata": {},
   "source": [
    "```{admonition} Mitä arvoa lähestyy $ \\frac{x^2-4}{x-2} $ , kun x lähestyy arvoa 2 ?\n",
    ":class: dropdown\n",
    "\n",
    "Viedään osoittaja tulomuotoon kaavalla $\\color {red} {a^2-b^2 =(a-b)(a+b)}$ ja supistetaan.  \n",
    "$ \\frac{x^2-4}{x-2}= \\frac{(x-2)(x+2)}{x-2}=x+2$    \n",
    "Sijoitus x = 2 antaa raja-arvoksi 2+2 = 4\n",
    "```"
   ]
  },
  {
   "cell_type": "markdown",
   "id": "4c127493",
   "metadata": {},
   "source": [
    "## Raja-arvomerkintä"
   ]
  },
  {
   "cell_type": "markdown",
   "id": "a878af10",
   "metadata": {},
   "source": [
    "Edelliset laskut voi kirjoittaa seuraavasti käyttämällä raja-arvomerkintää       \n",
    "\n",
    "$\\underset{x\\to 0}{lim}\\frac{3x^{2}+2x}{2x}=\\underset{x\\to 0}{lim}\\frac{x(3x+2)}{2x}=\\underset{x\\to 0}{lim}\\hspace{2mm}\\frac{3x+2}{2}=\\frac{3\\cdot 0+2}{2}=1$\n",
    "\n",
    "$\\underset{x\\to 2}{lim}\\frac{x^{2}-4}{x-2}=\\underset{x\\to 2}{lim}\\frac{(x-2)(x+2)}{x-2}=\\underset{x\\to 2}{lim}\\hspace{2mm}(x+2)=2+2=4$"
   ]
  },
  {
   "cell_type": "markdown",
   "id": "a21ce6ad",
   "metadata": {},
   "source": [
    "## Raja-arvot WolframAlpha -laskimessa"
   ]
  },
  {
   "cell_type": "markdown",
   "id": "eeb38527",
   "metadata": {},
   "source": [
    "WolframAlphassa on raja-arvojen laskemista varten komento **limit**. Esimerkki:     \n",
    "\n",
    "$\\color{red} {limit\\hspace{2mm} (x^2-4)/(x-2)\\hspace{2mm}as\\hspace{2mm}x->2}$   \n",
    "\n",
    "antaa tulokseksi 4"
   ]
  },
  {
   "cell_type": "markdown",
   "id": "ea9cb2cd",
   "metadata": {},
   "source": [
    "## Raja-arvon numeerinen määrittäminen"
   ]
  },
  {
   "cell_type": "markdown",
   "id": "88afe6f1",
   "metadata": {},
   "source": [
    "Raja-arvo $\\underset{x\\to x_0}{lim}f(x)$  voidaan määrittää tai arvioida numeerisesti sijoittamalla muuttujalle x arvoja, jotka lähestyvät kohtaa $x_0$ molemmilta puolilta.   "
   ]
  },
  {
   "cell_type": "markdown",
   "id": "3313e9a7",
   "metadata": {},
   "source": [
    "```{admonition} Esim. Mitä arvoa lähestyy lauseke $f(x) = \\frac{3x^{2}+2x}{2x}$, kun x lähestyy nollaa?\n",
    ":class: tip\n",
    "Taulukossa on laskettu lausekkeen f(x) arvoja 0:n läheisyydessä.     \n",
    "Lauseke ei ole määritelty kohdassa x = 0, mutta taulukon perusteella lausekkeen arvo näyttää lähestyvän molemmita puolilta arvoa 1, kun x lähestyy arvoa 0.\n",
    "\n",
    "| x    | -0.01 | -0.001 |    0    | 0.001  | 0.01  |\n",
    "|------|-------|--------|---------|--------|-------|\n",
    "| f(x) | 0.985 | 0.9985 | ei määr | 1.0015 | 1.015 |\n",
    "\n",
    "```"
   ]
  }
 ],
 "metadata": {
  "jupytext": {
   "cell_metadata_filter": "-all",
   "notebook_metadata_filter": "-all",
   "text_representation": {
    "extension": ".md",
    "format_name": "markdown"
   }
  },
  "kernelspec": {
   "display_name": "Python 3 (ipykernel)",
   "language": "python",
   "name": "python3"
  },
  "language_info": {
   "codemirror_mode": {
    "name": "ipython",
    "version": 3
   },
   "file_extension": ".py",
   "mimetype": "text/x-python",
   "name": "python",
   "nbconvert_exporter": "python",
   "pygments_lexer": "ipython3",
   "version": "3.9.7"
  }
 },
 "nbformat": 4,
 "nbformat_minor": 5
}