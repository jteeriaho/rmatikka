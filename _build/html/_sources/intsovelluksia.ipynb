{
 "cells": [
  {
   "cell_type": "markdown",
   "id": "58d5a3e4",
   "metadata": {},
   "source": [
    "# Integraalin sovelluksia  "
   ]
  },
  {
   "cell_type": "markdown",
   "id": "91ee57c2",
   "metadata": {},
   "source": [
    "Integraalilaskentaa voidaan käyttää pinta-alojen ja tilavuuksien laskentaan.  Rakenustekniikassa sen sovelluksia ovat esim. kappaleiden painopisteiden ja hitaus- ja jäyhyysmomenttien laskeminen. "
   ]
  },
  {
   "cell_type": "markdown",
   "id": "01f76da9",
   "metadata": {},
   "source": [
    "## Pinta-alojen laskeminen    "
   ]
  },
  {
   "cell_type": "markdown",
   "id": "ae771b93",
   "metadata": {},
   "source": [
    "Määrätty integraali $\\int_{a}^{b}f(x)dx$ antaa käyrän y = f(x) ja x- akselin välisen alueen pinta-alan vain jos $f(x) \\ge 0 $ koko välillä $[a,b]$. Seuraavassa tarkastellaan tapauksia, jossa f(x) on negatiivinen tai sen merkki vaihtelee ko. välillä. "
   ]
  },
  {
   "cell_type": "markdown",
   "id": "a3a94a53",
   "metadata": {},
   "source": [
    "```{admonition} Pinta-alojen laskeminen integroimalla eri tapauksissa.       \n",
    ":class: tip    \n",
    "\n",
    "$\\text{1.}$ Kun $f(x) \\ge 0$ välillä $[a,b]$, käyrän ja x- akselin välinen pinta-ala A = $\\int_{a}^{b}f(x)dx$        \n",
    "\n",
    "<br>      \n",
    "      \n",
    "$\\text{2.}$ Kun $f(x) \\le 0$ välillä $[a,b]$, käyrän ja x- akselin välinen pinta-ala A = -$\\int_{a}^{b}f(x)dx$       \n",
    "![ala2](images/kuva28.PNG)        \n",
    "       \n",
    "<br>       \n",
    "\n",
    "$\\text{3.}$ Kun f(x):n merkki vaihtelee välillä $[a,b]$ voidaan pinta-ala määrittää integroimalla funktio |f(x)|, jossa itseisarvo peilaa funktion negatiiviset osat x - akselin yläpuolelle, ts.       \n",
    "A = $\\int_{a}^{b}|f(x)|dx$        \n",
    "![ala2](images/kuva29.PNG)         \n",
    "        \n",
    "<br>        \n",
    "\n",
    "$\\text{4.}$ Kahden käyrän $f(x)$  ja $g(x)$ välinen alue välillä $[a,b]$ voidaan laskea kahden pinta-alan erotuksena, ja se voidaan laskea kaavalla A = $\\int_{a}^{b}|f(x) - g(x)|dx$       \n",
    "![ala2](images/kuva30.PNG)\n",
    "```"
   ]
  },
  {
   "cell_type": "markdown",
   "id": "6d7802d0",
   "metadata": {},
   "source": [
    "```{admonition} Laske käyrän y = -ln(x) ja x-akselin välisen alueen ala välillä [1,4].\n",
    ":class: dropdown    \n",
    "Alla tarvittavat WolframAlpha komennot:   \n",
    "\n",
    "Piirretään kuva alueesta ( W.A)) $\\color {red}{\\text {plot -log(x) from 1 to 4 }} $     \n",
    "![alan](images/kuva31.PNG)        \n",
    "\n",
    "Lasketaan pinta-ala:  $\\color {red}{\\text {- integrate -log(x) from 1 to 4}} $        \n",
    "\n",
    "Pinta-alaksi saadaan 2.55\n",
    "```\n"
   ]
  },
  {
   "cell_type": "markdown",
   "id": "51c466d8",
   "metadata": {},
   "source": [
    "```{admonition} Laske käyrien y = x ja y = $x^2$  väliin jäävän suljetun alueen ala.\n",
    ":class: dropdown    \n",
    "Alla tarvittavat WolframAlpha komennot:   \n",
    "\n",
    "Piirretään kuva alueesta:  $\\color {red}{\\text {plot x, x^2 from -1 to 2 }} $    \n",
    "![alav](images/kuva32.PNG)        \n",
    "\n",
    "\n",
    "Kuvan perusteella integroimisrajat ovat 0 ja 1.    \n",
    "\n",
    "Lasketaan pinta-ala:  $\\color {red}{\\text {integrate abs(x-x^2) from 0 to 1}} $      \n",
    "\n",
    "Pinta-alaksi saadaan 0.167\n",
    "\n",
    "```\n"
   ]
  },
  {
   "cell_type": "markdown",
   "id": "ea9cb2cd",
   "metadata": {},
   "source": [
    "## Pyörähdyskappaleen tilavuus"
   ]
  },
  {
   "cell_type": "markdown",
   "id": "f4a58254",
   "metadata": {},
   "source": [
    "Käyrän y = f(x) pyörähtäessä x - akselin ympäri välillä $[a,b]$ jää käyrän ja x- akselin väliin kappale, jonka poikkileikkaukset ovat ympyröitä.       \n",
    "![pytila](images/kuva33.PNG)         \n",
    "\n",
    "Kappeleen tilavuus V voidaan esittää äärettömän tiheänä summana ohuista sylintereistä, joiden paksuus on $\\Delta x$ ja säde f(x). Kun jakovälin $\\Delta x$ lähestyy nollaa, saadaan tilavuus raja-arvona $\\underset{\\Delta x\\to 0}{lim}\\sum \\pi f(x)^2 \\Delta x$.    \n",
    "\n",
    "Summalauseke on määrätyn integraalin määritelmän nojalla sama kuin integraali $ V = \\pi \\int_{a}^{b} f(x)^2 dx $"
   ]
  },
  {
   "cell_type": "markdown",
   "id": "211ff55f",
   "metadata": {},
   "source": [
    "```{admonition} Pyörähdyskappaleen tilavuuden kaava       \n",
    ":class: tip    \n",
    "\n",
    "$ V = \\pi \\int_{a}^{b} f(x)^2 dx $       \n",
    "\n",
    "``` "
   ]
  },
  {
   "cell_type": "markdown",
   "id": "3e0f56e3",
   "metadata": {},
   "source": [
    "```{admonition} Esim. Johda integroimalla r - säteisen pallon tilavuuden kaava\n",
    ":class: dropdown    \n",
    "Pallo voidaan ajatella pyörähdyskappaleena, jossa origokeskisen, r -säteinen ympyrän kaari $y = \\sqrt {r^2 -x^2}$ pyörähtää välillä       \n",
    "$[-r,r]$ x-akselin ympäri.  Pyörähdyskappaleen tilavuuden kaavalla pallon tilavuus        \n",
    "\n",
    "$ V = \\pi \\int_{-r}^{r} (\\sqrt {r^2 - x^2})^2 dx $  \n",
    "    = $\\pi \\int_{-r}^{r} (r^2 - x^2) dx $     \n",
    "    = $\\pi \\overset{r}{\\underset{-r}{/}} (r^2x-\\frac {x^3}{3})$       \n",
    "    = $=\\pi ((r^3-\\frac {r^3}{3})-({(-r)}^3-\\frac {(-r)^3}{3})$       \n",
    "    = $\\frac{4}{3} \\pi r^3$\n",
    "```"
   ]
  },
  {
   "cell_type": "markdown",
   "id": "faaaac48",
   "metadata": {},
   "source": [
    "## Tasoalueen painopiste"
   ]
  },
  {
   "cell_type": "markdown",
   "id": "49995329",
   "metadata": {},
   "source": [
    "x - akselilla kohdissa $x_i$ sijaitsevien pistemäisten massojen $m_i$  muodostaman systeemin painopisteen x- koordinaatti lasketaan kaavalla  $x_P = \\frac{m_1x_1+m_2x_2+...+m_nx_n}{m_1+m_2+...+m_n}$.     \n",
    "\n",
    "Painopisteen x- koordinaatti on siten niiden koordinaattien painotettu keskiarvo, jossa painokertoimina ovat massat.\n",
    "\n",
    "Käyrän y = f(x), missä $f(x)\\ge 0$ ja x-akselin välisen alueen voidaan ajatella muodostuvan kapeista pylväistä, joiden massoina voidaan käyttää niiden pinta-aloja $f(x) \\Delta x$.  Painopisteen x - koordinaatin kaava on \n",
    "\n",
    "\n",
    "$x_p=\\frac{1}{A}\\int_{a}^{b}x f(x)dx \\hspace{2 cm}$        \n",
    "    \n",
    "missä A = $\\int_{a}^{b}f(x)dx$ on alueen pinta-ala.       \n",
    "\n",
    "Kunkin pylvään painopisteen y -koordinaatti on keskellä pylvästä korkeudella $\\frac{1}{2}f(x)$.   Alueen painopisteen y-koordinaatti $y_p$ saadaan painotettuna keskiarvona       \n",
    "$y_p=\\frac{1}{A}\\int_{a}^{b}\\frac{1}{2}f(x)f(x)dx = \\frac{1}{A}\\int_{a}^{b}\\frac{1}{2}f(x)^2dx$    \n",
    "\n",
    "Mikäli sallitaan, että käyrä y = f(x) saa myös negatiivisia arvoja, kaavat monimutkaistuvat hieman. "
   ]
  },
  {
   "cell_type": "markdown",
   "id": "45c07634",
   "metadata": {},
   "source": [
    "```{admonition} Käyrän y = f(x), missä $f(x) \\ge 0$ ja x- akselin välisen alueen painopiste $P=(x_p,y_p)$      \n",
    ":class: tip    \n",
    "\n",
    "$x_p=\\frac{1}{A}\\int_{a}^{b}xf(x)dx \\hspace{2 cm}$      \n",
    "\n",
    "$y_p=\\frac{1}{A}\\int_{a}^{b}\\frac{1}{2}f(x)^2dx$ \n",
    "\n",
    "missä A = $\\int_{a}^{b}f(x)dx$\n",
    "\n",
    "``` "
   ]
  },
  {
   "cell_type": "markdown",
   "id": "3b3a1a1a",
   "metadata": {},
   "source": [
    "```{admonition} Laske käyrän $y = \\sqrt{x}$ ja x-akselin välillä $[0,4]$ väliin jäävän alueen painopiste\n",
    ":class: dropdown  \n",
    "\n",
    "![pp](images/kuva34.PNG)\n",
    "\n",
    "Alueen pinta-ala $A = \\int_{0}^{4}\\sqrt{x}\\hspace{1mm} dx$ = 5.333        \n",
    "\n",
    "$x_p=\\frac{1}{A}\\int_{a}^{b}xf(x)dx =\\frac{1}{5.333}\\int_{0}^{4}x \\sqrt{x}\\hspace{1mm} dx$ = 2.40     \n",
    "\n",
    "$y_p=\\frac{1}{A}\\int_{a}^{b}\\frac{1}{2}f(x)^2dx =\\frac{1}{5.333}\\int_{0}^{4}\\frac{1}{2}x \\hspace{1mm} dx$ = 0.75  \n",
    "\n",
    "Vastaus: Painopiste P = (2.40, 0.75)\n",
    "```"
   ]
  }
 ],
 "metadata": {
  "jupytext": {
   "cell_metadata_filter": "-all",
   "notebook_metadata_filter": "-all",
   "text_representation": {
    "extension": ".md",
    "format_name": "markdown"
   }
  },
  "kernelspec": {
   "display_name": "Python 3 (ipykernel)",
   "language": "python",
   "name": "python3"
  },
  "language_info": {
   "codemirror_mode": {
    "name": "ipython",
    "version": 3
   },
   "file_extension": ".py",
   "mimetype": "text/x-python",
   "name": "python",
   "nbconvert_exporter": "python",
   "pygments_lexer": "ipython3",
   "version": "3.9.7"
  }
 },
 "nbformat": 4,
 "nbformat_minor": 5
}
