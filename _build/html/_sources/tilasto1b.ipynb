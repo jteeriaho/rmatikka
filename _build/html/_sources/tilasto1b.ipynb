{
 "cells": [
  {
   "cell_type": "markdown",
   "id": "58d5a3e4",
   "metadata": {},
   "source": [
    "# Todennäköisyysjakaumat   "
   ]
  },
  {
   "cell_type": "markdown",
   "id": "c30486f7",
   "metadata": {},
   "source": [
    "       \n",
    "Tilasto-oppiin läheisesti liittyvä käsite on **todennäköisyys**.     \n",
    "\n",
    "Monet tilastomuuttujat, kuten esim. ihmisen pituus tai elinaika, tai vaikkapa metsikön puiden läpimitta, noudattavat jakaumaa, jota voidaan kuvata jollakin tunnetulla todennäköisyysjakaumalla. Yleisesti käytettyjä jakaumia ovat mm.  Gaussin normaalijakauma ja Weibull-jakauma. Todennäköisyysjakaumien käyttö tilastomuuttujan mallinnuksessa säästää tiedonkeruuta. Kun dataa on riittävästi mallin parametrien laskemiseen, voidaan siirtyä datan keruusta matemaattisen mallin avulla suoritettavaan laskentaan.  \n"
   ]
  },
  {
   "cell_type": "markdown",
   "id": "42ccff8a",
   "metadata": {},
   "source": [
    "## Todennäköisyyden määritelmä"
   ]
  },
  {
   "cell_type": "markdown",
   "id": "b4c79135",
   "metadata": {},
   "source": [
    "Todennäköisyys jaetaan usein kahteen tyyppiin: **klassinen todennäköisyys** ja **tilastollinen todennäköisyys** . Klassista todennäköisyyttä tarvitaan esim. kun lasketaan korttipelien erilaisten käsien todennäköisyyksiä tai nopanheiton tuloksia.  Tilastollista eli empiiristä todennäköisyyttä voi hyödyntää esim. vakioveikkauksessa tai vakuutusten hinnoittelussa."
   ]
  },
  {
   "cell_type": "markdown",
   "id": "1e1c9a40",
   "metadata": {},
   "source": [
    "```{admonition} **Klassinen todennäköisyys**\n",
    ":class: tip\n",
    "Nimitykset:     \n",
    "E = **tapahtuma-avaruus** eli *otosavaruus* , joka koostuu alkeistapauksista joiden tiedetään olevan yhtä todennäköisiä     \n",
    "A = **tapahtuma**, joka on E:n osajoukko, jonka todennäköisyys halutaan laskea\n",
    "\n",
    "Tapahtuman A todennäköisyys P(A) määritellään seuraavasti:      \n",
    "\n",
    "$P(A)=\\frac {k}{n}$       \n",
    "\n",
    "missä n = kaikkien mahdollisten alkeistapausten lukumäärä ja k = tapahtuman A kannalta suotuisten alkeistapausten lukumäärä\n",
    "\n",
    "```"
   ]
  },
  {
   "cell_type": "markdown",
   "id": "dca77bf2",
   "metadata": {},
   "source": [
    "```{admonition} Laatikossa on 8 palloa, joista 4 punaista, 3 sinistä ja 1 keltainen. Laatikosta otetaan umpimähkään 1 pallo. Millä todennäköisyydellä se on sininen?\n",
    ":class: dropdown\n",
    "Ratkaisu P(sininen)=$\\frac {3}{8}$        \n",
    "*(8 yhtä todennäköisestä alkeistapauksesta 3 on \"suotuisaa\" eli antaa sinisen pallon)*\n",
    "\n",
    "```"
   ]
  },
  {
   "cell_type": "markdown",
   "id": "46128168",
   "metadata": {},
   "source": [
    "```{admonition} **Tilastollinen eli empiirinen todennäköisyys**\n",
    ":class: tip    \n",
    "Tapahtuman A tilastollinen todennäköisyys on tapahtuman A suhteellisen frekvenssin           \n",
    "\n",
    "P(A)= $\\frac {n(A)}{n}$            \n",
    "\n",
    "raja-arvo, kun satunnaista koetta toistetaan äärettömän monta kertaa.\n",
    "\n",
    "```"
   ]
  },
  {
   "cell_type": "markdown",
   "id": "873cce9c",
   "metadata": {},
   "source": [
    "```{admonition} Ampumahiihtäjä Tero Sipilä ampui makuulta vuosien 2021 aikana 670 kilpailulaukausta, joista 525 osui maaliin.  Mikä on Teron osumistodennäköisyys makuuammunnassa?\n",
    ":class: dropdown\n",
    "Ratkaisu P(osuma)=$\\frac {525}{670} = 0.784 = 78.4\\%$        \n",
    "\n",
    "```"
   ]
  },
  {
   "cell_type": "markdown",
   "id": "a0125815",
   "metadata": {},
   "source": [
    "Esim. **kolikon heitossa** kruunan klassinen todennäköisyys on 1/2, koska kruuna on yksi kahdesta yhtä todennäköisestä alkeistapauksesta.   \n",
    "\n",
    "Tilastollinen todennäköisyys on 50%, jos heittojen määrän lähestyessä ääretöntä kruunien määrä lähestyy 50 prosenttia.    \n",
    " "
   ]
  },
  {
   "cell_type": "markdown",
   "id": "83919c6d",
   "metadata": {},
   "source": [
    "## Diskreetin todennäköisyysjakauman odotusarvo ja keskihajonta"
   ]
  },
  {
   "cell_type": "markdown",
   "id": "9cf60156",
   "metadata": {},
   "source": [
    "Kun jossakin toistokokeessa on äärellinen määrä mahdollisia tuloksia, joiden todennäköisyydet tunnetaan, puhutaan **diskreetistä todennäköisyysjakaumasta**.    \n",
    "\n",
    "Jakauma voidaan esittää frekvenssitaulukkoa muistuttavana taulukkona, jonka sarakkeina ovat muuttujan mahdolliset arvot $x_i$ ja niiden todennäköisyydet $p_i$.      \n",
    "\n",
    "Jakaumaa käyttäen voidaan laskea kaksi parametria: **odotusarvo** ja **keskihajonta**.    \n",
    "\n",
    "Odotusarvo (expected value) tarkoittaa raja-arvoa, jota toistokokeiden keskiarvo lähestyisi, kun toistojen määrä lähestyisi ääretöntä. "
   ]
  },
  {
   "cell_type": "markdown",
   "id": "03b0cc2d",
   "metadata": {},
   "source": [
    "```{admonition} **Diskreetin todennäköisyysjakauman parametrit**\n",
    ":class: tip\n",
    "\n",
    "Odotusarvo $\\hspace{5mm}\\mu=\\sum p_ix_i$   \n",
    "\n",
    "Keskihajonta $\\hspace{2mm}\\sigma=\\sum p_i(x_i-\\mu)^2$  \n",
    "\n",
    "```"
   ]
  },
  {
   "cell_type": "markdown",
   "id": "5a835c90",
   "metadata": {},
   "source": [
    "Ampumahiihdon pystyammunnassa on maalina 5 taulua, jotka pitää pudottaa. Erään suomalaisen ampujahiihtäjän todennäköisyydet eri tuloksille ovat viimeisen kahden vuoden kilpailuissa olleet seuraavat:       \n",
    "\n",
    "| osumat | todennäköisyys |\n",
    "|:------:|----------------|\n",
    "|    5   | 4.5%           |\n",
    "|    4   | 58.2%          |\n",
    "|    3   | 32.5%          |\n",
    "|    2   | 4.6%           |\n",
    "|    1   | 0.2%           |\n",
    "|    0   | 0%             |\n",
    "\n",
    "Mikä on tämän perusteella yksittäisen ammunnan tuloksen odotusarvo ja keskihajonta?   \n",
    "\n",
    "Odotusarvo $\\mu=\\sum p_ix_i=0.045\\cdot 5+0.582\\cdot 4+0.325\\cdot 3+0.046\\cdot 2+0.002\\cdot 1=3.62$     \n",
    "\n",
    "Keskihajonta $\\sigma=\\sum p_i(x_i-\\mu)^2$       \n",
    "$\\hspace{30mm}=0.045\\cdot (5-3.62)^2+0.582\\cdot (4-3.62)^2$      \n",
    "$\\hspace{30mm}+0.325\\cdot (3-3.62)^2+0.046\\cdot (2-3.62)^2+0.002\\cdot (1-3.62)^2=0.43$"
   ]
  },
  {
   "cell_type": "markdown",
   "id": "01f76da9",
   "metadata": {},
   "source": [
    "## Jatkuvat todennäköisyysjakaumat "
   ]
  },
  {
   "cell_type": "markdown",
   "id": "f6a1e3b6",
   "metadata": {},
   "source": [
    "### Tiheysfunktio p(x)"
   ]
  },
  {
   "cell_type": "markdown",
   "id": "8e403f25",
   "metadata": {},
   "source": [
    "Jatkuvassa todennäköisyysjakaumassa muuttuja voi saada mitä tahansa arvoja tietyllä välillä. Diskreetin jakauman taulukko $(x_i,p_i)$ -pareineen korvautuu **tiheysfunktiolla p(x)**, jonka arvo kuvaa muuttujan arvon x todennäköisyyttä.     \n",
    "\n",
    "Tiheysfunktion englanninkielinen nimi on *probability density function* ja useissa symbolisen laskennan ohjelmistoissa sen lyhenne on pdf(x)"
   ]
  },
  {
   "cell_type": "markdown",
   "id": "96074e88",
   "metadata": {},
   "source": [
    "```{admonition} **Tiheysfunktion p(x) ominaisuuksia**\n",
    ":class: tip\n",
    "\n",
    "$1.$ Funktio p(x) kuvaa muuttujan arvon x todennäköisyyttä.   \n",
    "\n",
    "\n",
    "$2.$ $p(x) \\ge 0$  ts. tiheysfunktio voi saada vain positiivisia arvoja.\n",
    "\n",
    "\n",
    "$3.$ Tiheysfunktion p(x) ja x- akselin välinen pinta-ala on 1 \n",
    "![pdf](images/kuva45.PNG)\n",
    "```"
   ]
  },
  {
   "cell_type": "markdown",
   "id": "49d82262",
   "metadata": {},
   "source": [
    "### Kertymäfunktio $\\varphi(x)$"
   ]
  },
  {
   "cell_type": "markdown",
   "id": "b5873aad",
   "metadata": {},
   "source": [
    "**Kertymäfunktion $\\varphi(x)$** arvo pisteessä x antaa todennäköisyyden sille, että muuttujan arvo on pienempi kuin x.       \n",
    "\n",
    "Kertymäfunktio laskee tiheysfunktion p(x) ja x- akselin välisen pinta-alan välillä $]-\\infty ,x]$.       \n",
    "\n",
    "Kertymäfunktio on englanniksi *cumulative density function* ja sen lyhenne useissa symbolisen laskennan ohjelmistoissa on cdf(x)"
   ]
  },
  {
   "cell_type": "markdown",
   "id": "fa921753",
   "metadata": {},
   "source": [
    "```{admonition} **Kertymäfunktion $\\varphi(x)$ ominaisuuksia**\n",
    ":class: tip\n",
    "\n",
    "$1.$ $\\varphi(x_0) = P(x \\le x_0) $ *(=todennäköisyys, että $x \\le x_0$)*  \n",
    "\n",
    "\n",
    "$2.$ Kertymäfunktio kasvaa nollasta maksimiarvoonsa 1\n",
    "\n",
    "\n",
    "$3.$ Kuvassa keltaisen alueen pinta-ala edustaa kertymäfunktion arvoa kohdassa x \n",
    "![pdf](images/kuva46.PNG)\n",
    "```"
   ]
  },
  {
   "cell_type": "markdown",
   "id": "3922c225",
   "metadata": {},
   "source": [
    "## Gaussin normaalijakauma"
   ]
  },
  {
   "cell_type": "markdown",
   "id": "335aa353",
   "metadata": {},
   "source": [
    "Tavallisin ja ehkä yleisimmin käytetty jatkuva jakauma on **Gaussin normaalijakauma**, jonka tiheysfunktion ja kertymäfunktion määräävät kaksi parametria:  keskiarvo μ  ja keskihajonta σ  "
   ]
  },
  {
   "cell_type": "markdown",
   "id": "98f2c712",
   "metadata": {},
   "source": [
    "```{admonition} **Gaussin normaalijakauman tiheys- ja kertymäfunktiot**\n",
    ":class: tip\n",
    "\n",
    "Tiheysfunktio $p(x) = \\frac{1}{\\sqrt{2\\pi\\sigma^2}} e^-{\\frac{(x-\\mu)^2}{2\\sigma^{2}}}$ \n",
    "\n",
    "\n",
    "Kertymäfunktio $\\varphi(x) = \\frac{1}{2}[1+erf(\\frac{x-\\mu}{\\sqrt{2}\\sigma})]$       \n",
    "\n",
    "*kaavan erf(x) on erikoisfunktio, jonka englanninkielinen nimitys on \"error function\"*\n",
    "\n",
    "\n",
    "Tiheysfunktion kuvaajaa sanotaan Gaussin kellokäyräksi\n",
    "![pdf](images/kuva47.PNG)        \n",
    "\n",
    "Normaalijakauman kertymäfunktion kuvaaja näyttää seuraavalta:       \n",
    "![cdf](images/kuva48.PNG)\n",
    "```"
   ]
  },
  {
   "cell_type": "markdown",
   "id": "9a34fe69",
   "metadata": {},
   "source": [
    "Ym. kaavoja ei tarvitse tuntea esitetyssä muodossaan.  Käytännössä normaalijakauman tiheys- ja kertymäfunktiot löytyvät helposti käytettävässä muodossa mm. Excelissä, sekä useissa symbolisissa laskimissa.     \n",
    "\n",
    "Merkintä:   Jos muuttuja x noudattaa normaalijakaumaa, jossa keskiarvo on 𝜇  ja keskihajonta σ , merkitään tätä yleisesti  x ~  N(μ, σ)   tai  pitemmässä muodossa x ~ normal(μ, σ)       \n",
    "\n",
    "Sanotaan myös:  *” x on normaalijakautunut parametrein μ ja  σ”*"
   ]
  },
  {
   "cell_type": "markdown",
   "id": "87c52f63",
   "metadata": {},
   "source": [
    "### Normaalijakauman funktiot Excelissä"
   ]
  },
  {
   "cell_type": "markdown",
   "id": "b3643824",
   "metadata": {},
   "source": [
    "*suomenkielinen Excel:*    **= NORMAALIJAKAUMA**(muuttujan arvo; keskiarvo; keskihajonta; kumulatiivinen)        \n",
    "\n",
    "*englanninkielinen Excel:* **= NORM.DIST**(muuttujan arvo; keskiarvo; keskihajonta; kumulatiivinen) \n",
    "\n",
    "Funktion argumentit:  muuttujan x arvo, keskiarvo, keskihajonta, sekä boolen muuttuja kumulatiivinen, johon sijoitetaan 0 tai 1. (Arvo 0 merkitsee tiheysfunktiota ja arvo 1 kertymäfunktiota)\n",
    "\n",
    "\n",
    "Lisäksi Excelissä on kertymäfunktion $\\varphi(x)$ käänteisfunktio **NORMAALIJAKAUMA.KÄÄNTEINEN**, englanninkielisessä Excelissä **NORMINV**, jonka käytöstä on esimerkkejä tuonnenpana."
   ]
  },
  {
   "cell_type": "markdown",
   "id": "2dab3c93",
   "metadata": {},
   "source": [
    "## Normaalijakauman käytön perustapauksia"
   ]
  },
  {
   "cell_type": "markdown",
   "id": "2f1170f0",
   "metadata": {},
   "source": [
    "Seuraavassa oletetaan, että muuttuja **x on \"normaalijakautunut\"**."
   ]
  },
  {
   "cell_type": "markdown",
   "id": "b0857b0b",
   "metadata": {},
   "source": [
    "```{admonition} Todennäköisyys sille, että muuttujan arvo $x \\le$ a saadaan kertymäfunktion arvona kohdassa a\n",
    ":class: tip\n",
    "![pxlea](images/kuva49.PNG)\n",
    "$P(x\\le a) = \\varphi(a)$   \n",
    "\n",
    "```"
   ]
  },
  {
   "cell_type": "markdown",
   "id": "56dab239",
   "metadata": {},
   "source": [
    "```{admonition} Todennäköisyys sille, että muuttujan arvo $x \\ge a$\n",
    ":class: tip\n",
    "![pxlea](images/kuva50.PNG)\n",
    "$P(x\\ge a) = 1 - \\varphi(a)$   \n",
    "\n",
    "```"
   ]
  },
  {
   "cell_type": "markdown",
   "id": "7d2bf538",
   "metadata": {},
   "source": [
    "```{admonition} Todennäköisyys sille, että $a \\le x \\le b$ \n",
    ":class: tip\n",
    "![pxlea](images/kuva51.PNG)\n",
    "$P(a\\le x \\le b) = \\varphi(b)-\\varphi(a)$   \n",
    "\n",
    "```"
   ]
  },
  {
   "cell_type": "markdown",
   "id": "b77b1e5e",
   "metadata": {},
   "source": [
    "Kääntäen voidaan kysyä annettua todennäköisyyskertymää P  vastaavaa muuttujan arvoa x.     \n",
    "Tällöin tarvitaan kertymäfunktion  **käänteisfunktiota $\\varphi ^{-1}$** .     \n",
    "\n",
    "> Excelissä käänteisfunktio on NORMAALIJAKAUMA.KÄÄNTEINEN  (engl. kielisessä versiossa NORM.INV)"
   ]
  },
  {
   "cell_type": "markdown",
   "id": "d340cd7d",
   "metadata": {},
   "source": [
    "```{admonition} Muuttujan arvo, joka vastaa todennäköisyyskertymää P\n",
    ":class: tip\n",
    "![pxlea](images/kuva52.PNG)\n",
    "$x = \\varphi^{-1}(P)$   \n",
    "\n",
    "```"
   ]
  },
  {
   "cell_type": "markdown",
   "id": "1dd6960a",
   "metadata": {},
   "source": [
    "````{admonition} Esim. Suomen miespuolisen väestön keskipituus on 180.7 cm ja keskihajonta 7.4 cm.   Oletetaan, että Suomen miespuolisen väestön pituus noudattaa normaalijakaumaa N(180.7cm, 7.4cm). a) Millä todennäköisyydellä miehen pituus $\\ge 213cm$, b) Mikä on pituuden P90 prosenttipiste? c) Millä todennäköisyydellä pituus on välillä 190cm-200cm?  \n",
    ":class: dropdown    \n",
    "Vastauksia: a) 0.0000064  b) 190.2 cm   c) 9.7 pros\n",
    "``` {admonition} Ratkaisu\n",
    ":class: dropdown   \n",
    "a) $P(x \\ge 213) = 1 - \\varphi(213) = 1-0,99999364= 0,00000636$  (n. 6 miljoonasta)       \n",
    "$Excel: \\hspace{5mm}\\color{red}{=1-NORMAALIJAKAUMA(213;180,7;7,4;1)}$\n",
    "\n",
    "b) P90 prosenttipiste = $\\varphi^{-1}(0.90) = 190.2 $          \n",
    "$Excel: \\hspace{5mm}\\color{red}{=NORMAALIJAKAUMA.KÄÄNTEINEN(0,90;180,7;7,4)}$\n",
    "\n",
    "c) $P(190\\le x \\le 200) = \\varphi(200)-\\varphi(190) = 0.996 – 0.899 = 0.097 = 9.7\\%$\n",
    "$Excel: \\hspace{5mm}\\color{red}{=NORMAALIJAKAUMA(200;180,7;7,4,1)}$      \n",
    "$\\hspace{18mm}\\color{red}{-NORMAALIJAKAUMA(190;180,7;7,4,1)}$\n",
    "\n",
    "```  \n",
    "````"
   ]
  },
  {
   "cell_type": "markdown",
   "id": "37d03701",
   "metadata": {},
   "source": [
    "````{admonition} Esimerkki sepelin kelpoisuusmäärityksestä, joka perustuu normaalijakauman käyttöön.\n",
    ":class: dropdown\n",
    "Eräs sepelimurske on kelvollista käyttötarkoitukseensa, jos enintään 2.5% sen kivistä ylittää maksimiläpimitaltaan arvon 30 mm.  Alla olevassa taulukossa on satunnaisesti valittujen 80 kivenkappaleen maksimiläpimitat työntömitalla mitattuna.  Täyttääkö murske laatukriteerin? Oletetaan, että kyseisen murskeen kivien läpimitat noudattavat normaalijakaumaa.\n",
    "![sepeli](images/kuva53.PNG)   \n",
    "```{admonition} Ratkaisu\n",
    ":class: dropdown\n",
    "1. Määritetään läpimittajakauman keskiarvo ja keskihajonta:    \n",
    "keskiarvo $\\mu = 20.1$  ja  keskihajonta  $\\sigma = 6.8$        \n",
    "        \n",
    "        \n",
    "2. Lasketaan todennäköisyys sille, että ko. sepelin kiven läpimitta < 30 mm      \n",
    "$\\varphi(30) = 0.927 = 92.7\\% \\hspace{5mm}(\\color{red}{=NORMAALIJAKAUMA(30;20,1;6,8;1)})$    \n",
    "        \n",
    "        \n",
    "3. Johtopäätös: murskeen kivistä 92.7 prosenttia on läpimitaltaan alle 30 mm, kun prosenttiluvun pitäisi olla 97.5. Murske ei ole kelvollista\n",
    "```\n",
    "````"
   ]
  },
  {
   "cell_type": "markdown",
   "id": "4ea10622",
   "metadata": {},
   "source": [
    "Seuraavassa esimerkissä muuttuja ei ole normaalijakautunut. Tästä syystä dataa on oltava enemmän ja laskennassa ei voi käyttää normaalijakauman funktiota. "
   ]
  },
  {
   "cell_type": "markdown",
   "id": "76b2a7c9",
   "metadata": {},
   "source": [
    "````{admonition} Esimerkki P90 arvon määrityksestä muuttujalle, joka ei noudata normaalijakaumaa.\n",
    ":class: dropdown\n",
    "Useiden sisäilman haitallisten yhdisteiden viitearvoina THL:n dokumenteissa ovat ns. P90 –arvoja (ts. arvoja, joita suurempia tavataan vain 10% mittauksissa). Seuraavassa on 144 mitattua sisäilman formaldehydipitoisuutta eri puolilta Suomea. Yksikkönä on 1 μg/m3  Mikä olisi niiden perusteella formaldehydin P90 – arvo pyöristettynä kokonaisluvuksi?  Arvot eivät noudata normaalijakaumaa, joten älä käytä normaalijakaumaan liittyviä funktioita.  \n",
    "![p90](images/kuva54.PNG)   \n",
    "```{admonition} Ratkaisu\n",
    ":class: dropdown\n",
    "Tehtävä ratkeaa käyttämällä Excelin PROSENTTIPISTE – funktiota (engl. Percentile)      \n",
    "\n",
    "$\\color{red}{=PROSENTTIPISTE(A1:N14;0,90)}$ antaa arvoksi 14       \n",
    "\n",
    "Vastaus: $P90 = 14 μg/m^3$\n",
    "\n",
    "\n",
    "```\n",
    "````"
   ]
  }
 ],
 "metadata": {
  "jupytext": {
   "cell_metadata_filter": "-all",
   "notebook_metadata_filter": "-all",
   "text_representation": {
    "extension": ".md",
    "format_name": "markdown"
   }
  },
  "kernelspec": {
   "display_name": "Python 3 (ipykernel)",
   "language": "python",
   "name": "python3"
  },
  "language_info": {
   "codemirror_mode": {
    "name": "ipython",
    "version": 3
   },
   "file_extension": ".py",
   "mimetype": "text/x-python",
   "name": "python",
   "nbconvert_exporter": "python",
   "pygments_lexer": "ipython3",
   "version": "3.9.7"
  }
 },
 "nbformat": 4,
 "nbformat_minor": 5
}
