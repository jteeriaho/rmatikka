{
 "cells": [
  {
   "cell_type": "markdown",
   "id": "58d5a3e4",
   "metadata": {},
   "source": [
    "# Integraalifunktio    "
   ]
  },
  {
   "cell_type": "markdown",
   "id": "ee8d89b1",
   "metadata": {},
   "source": [
    "**Integrointi** on derivoinnin käänteisoperaatio. Funktion f(x) integraalifunktio on mikä tahansa funktio F(x), jonka derivaatta on f(x). Integraalifunktio ei ole yksikäsitteinen, sillä jos F(x) on funktion f(x) integraalifunktio, niin myös F(x) + C, missä C on mielivaltainen vakio,  on f(x):n integraalifunktio,"
   ]
  },
  {
   "cell_type": "markdown",
   "id": "1e1c9a40",
   "metadata": {},
   "source": [
    "```{admonition} **Integraalifunktion määritelmä**\n",
    ":class: tip\n",
    "Jos $F'(x) = f(x)$ eli f(x) on funktion F(x) derivaatta, niin funktiota F(x) sanotaan funktion f(x) **integraalifunktioksi**.      \n",
    "\n",
    "Tällöin kaikki f(x):n integraalifunktiot ovat muotoa F(x) + C, missä C on mielivaltainen vakioa, jota sanotaan *integroimisvakioksi*.  Funktion f(x) integraalifunktion määrittämistä sanotaan integroinniksi.    \n",
    "\n",
    "Merkintä:\n",
    "\n",
    "$ \\int f(x)dx=F(x) + C$\n",
    "\n",
    "\n",
    "*(lukuohje: \"integraali f(x) dee ex = F(x) + C\")*   \n",
    "\n",
    "```"
   ]
  },
  {
   "cell_type": "markdown",
   "id": "74b11d13",
   "metadata": {},
   "source": [
    "```{admonition} Esim. Laske $ \\int 2x dx$\n",
    ":class: dropdown\n",
    "$ \\int 2x dx = x^2 + C$  \n",
    "\n",
    "Perustelu: $D (x^2+ C) = 2x$\n",
    "```"
   ]
  },
  {
   "cell_type": "markdown",
   "id": "d150e9f7",
   "metadata": {},
   "source": [
    "```{admonition} Esim. Laske $ \\int cos(x) dx$\n",
    ":class: dropdown\n",
    "$ \\int cos(x) dx = sin(x) + C$  \n",
    "\n",
    "Perustelu: $D (sin(x)+ C) = cos(x)$\n",
    "```"
   ]
  },
  {
   "cell_type": "markdown",
   "id": "01f76da9",
   "metadata": {},
   "source": [
    "## Integroimiskaavat   "
   ]
  },
  {
   "cell_type": "markdown",
   "id": "ae771b93",
   "metadata": {},
   "source": [
    "Derivoimiskaavoista voidaan johtaa integroimiskaavoja."
   ]
  },
  {
   "cell_type": "markdown",
   "id": "a3a94a53",
   "metadata": {},
   "source": [
    "```{admonition} Perusfunktioiden integroimiskaavoja\n",
    ":class: tip\n",
    "$ \\int a dx = a x + C \\hspace{40mm}\\text{   vakiofunktion y = a integraali}$   \n",
    "\n",
    "$ \\int x^n dx = \\frac {1}{n+1} x^{n+1} + C\\hspace{27mm}\\text{potenssifunktion }y = x^n\\text{ integraali}$      \n",
    "\n",
    "$ \\int \\frac {1}{x} dx = ln(x) + C $   \n",
    "\n",
    "$ \\int e^x dx = e^x + C $ \n",
    "\n",
    "$ \\int cos(x) dx = sin(x) + C $  \n",
    "\n",
    "$ \\int sin(x) dx = cos(x) + C $ \n",
    "```"
   ]
  },
  {
   "cell_type": "markdown",
   "id": "fd85e08b",
   "metadata": {},
   "source": [
    "Integrointi on derivoinnin tapaan **lineaarinen operaatio**, mikä tarkoittaa, että mm. polynomi integroidaan termi kerrallaan siten, että potenssien kertoimet voi siirtää integraalimerkin eteen."
   ]
  },
  {
   "cell_type": "markdown",
   "id": "90fe8bfa",
   "metadata": {},
   "source": [
    "```{admonition} Integrointi on lineaarinen operaatio\n",
    ":class: tip\n",
    "$ \\int (a f(x) + b f(x)) dx = a \\int f(x) dx +  b \\int g(x) dx$   \n",
    "```"
   ]
  },
  {
   "cell_type": "markdown",
   "id": "6d7802d0",
   "metadata": {},
   "source": [
    "```{admonition} Esim. Laske $ \\int (2 x^2 - 5x + 7)dx$\n",
    ":class: dropdown\n",
    "Ratkaisu:  Integroidaan x:n potenssi käyttäen potenssin integroimissääntöä       \n",
    "\n",
    "$ \\int (2 \\color{red}{x^2}\\color{black}{ - 5}\\color{red}{x}\\color{black}{ + 7)dx = 2\\color{red}{\\frac {1}{3}x^3}\\color{black}{ - 5}\\color{red}{\\frac {1}{2}x^2}\\color{black}{ + 7}\\color{red}{x}\\color{black}{ + C}}$       \n",
    "$=\\frac {2}{3}x^3 - \\frac {5}{2}x^2 + 7x + C $\n",
    "\n",
    "```"
   ]
  },
  {
   "cell_type": "markdown",
   "id": "7e1815a3",
   "metadata": {},
   "source": [
    "Potenssin integroimissääntöä voidaan soveltaa myös integroitaessa $\\frac {1}{x^n} $ - tyypin funktioita, sekä juurilausekkeita, jotka voidaan esittää murtopotensseina"
   ]
  },
  {
   "cell_type": "markdown",
   "id": "0ac7f48a",
   "metadata": {},
   "source": [
    "```{admonition} Esim. Laske $ \\int \\frac {1}{x^4} dx$\n",
    ":class: dropdown\n",
    "Ratkaisu:  Käytetään muunnosta $\\frac {1}{x^n} = x^{-n}$      \n",
    "\n",
    "$ \\int \\frac {1}{x^4}dx = \\int x^{-4}dx = \\frac {1}{-3} x^{-3} = -\\frac {1}{3 x^3} + C $\n",
    "\n",
    "```"
   ]
  },
  {
   "cell_type": "markdown",
   "id": "097be39b",
   "metadata": {},
   "source": [
    "```{admonition} Esim. Laske $ \\int \\sqrt{x} dx$\n",
    ":class: dropdown\n",
    "Ratkaisu:  Esitetään juuri murtopotenssimuodossa $ x^{\\frac {1}{2}}$      \n",
    "\n",
    "$ \\int \\sqrt{x} dx  = \\int x^{\\frac {1}{2}}dx = \\frac {1}{\\frac {3}{2}} x^{\\frac {3}{2}} = \\frac {2}{3} x^{\\frac {3}{2}} + C $\n",
    "\n",
    "```"
   ]
  },
  {
   "cell_type": "markdown",
   "id": "128d218d",
   "metadata": {},
   "source": [
    "```{admonition} Esim. Laske $ \\int (2cos(x)-4 sin(x)+5e^x -3)dx$\n",
    ":class: dropdown\n",
    "Ratkaisu:  \n",
    "\n",
    "$ \\int (2cos(x)-4 sin(x)+5e^x -3)dx$     \n",
    "= $2 sin(x) + 4 cos(x) + 5e^x - 3x + C$\n",
    "\n",
    "```"
   ]
  },
  {
   "cell_type": "markdown",
   "id": "ea9cb2cd",
   "metadata": {},
   "source": [
    "## Yhdistettyjen funktioiden integrointi"
   ]
  },
  {
   "cell_type": "markdown",
   "id": "88afe6f1",
   "metadata": {},
   "source": [
    "Yksinkertaisia yhdistettyjä funktioita ovat esimerkiksi tyyppiä g(ax+b) olevat funktiot, missä g(x) on jokin perusfunktio ja a x + b on lineaarinen sisäfunktio.     \n",
    "\n",
    "Yhdistetyn funktion derivoimissäännöstä $D g(f(x)) = g'(f(x)) f'(x)$  voidaan käänteisesti johtaa integroimissääntöjä tavanomaisille integraaleille.  Seuraavassa muutamia kaavoja.  \n"
   ]
  },
  {
   "cell_type": "markdown",
   "id": "3313e9a7",
   "metadata": {},
   "source": [
    "```{admonition} Perusfunktioiden integroimiskaavoja\n",
    ":class: tip\n",
    "$ \\int cos(a x) dx = \\frac {1}{a} sin(a x) + C $   \n",
    "\n",
    "$ \\int sin(a x) dx = -\\frac {1}{a} cos(a x) + C $      \n",
    "\n",
    "$ \\int \\frac {1}{a x + b} dx = \\frac {1}{a} ln(a x+ b) + C $   \n",
    "\n",
    "$ \\int e^{ax} dx = \\frac {1}{a}e^{ax} + C $ \n",
    "\n",
    "$ \\int (a x + b)^n dx = \\frac {1}{a} \\frac {(a x + b)^{n+1}}{{n+1}} + C $  \n",
    "\n",
    "```"
   ]
  },
  {
   "cell_type": "markdown",
   "id": "f9e68330",
   "metadata": {},
   "source": [
    "```{admonition} Esim. Laske $ \\int 3 e^{-4x}dx$\n",
    ":class: dropdown\n",
    "Ratkaisu:  \n",
    "\n",
    "$ \\int 3 e^{-4x}dx = 3 \\frac{1}{-4}e^{-4x} =-\\frac{3}{4}e^{-4x} + C $  \n",
    "\n",
    "```"
   ]
  },
  {
   "cell_type": "markdown",
   "id": "ef10522a",
   "metadata": {},
   "source": [
    "```{admonition} Esim. Laske $ \\int 4 (2x+1)^5 dx$\n",
    ":class: dropdown\n",
    "Ratkaisu:  \n",
    "\n",
    "$ \\int 4 (2x+1)^5 dx = 4\\cdot \\frac{1}{2}\\frac{1}{6}(2x+1)^6 =\\frac{1}{3}(2x+1)^6 + C $  \n",
    "\n",
    "```"
   ]
  },
  {
   "cell_type": "markdown",
   "id": "b71ce194",
   "metadata": {},
   "source": [
    "```{admonition} Esim. Laske $ \\int 5 sin(3x) dx $\n",
    ":class: dropdown\n",
    "Ratkaisu:  \n",
    "\n",
    "$ \\int 5 sin(3x) dx = 5\\cdot \\frac{1}{-3}cos(3x)=-\\frac{5}{3}cos(3x) + C $  \n",
    "\n",
    "```"
   ]
  },
  {
   "cell_type": "markdown",
   "id": "d79aec90",
   "metadata": {},
   "source": [
    "## Integrointi laskimella"
   ]
  },
  {
   "cell_type": "markdown",
   "id": "15622748",
   "metadata": {},
   "source": [
    "Algebralaskimissa on integrointitoiminto.        \n",
    "\n",
    "**WolframAlpha- laskimella** edellinen esimerkki voidaan laskea komennolla       \n",
    "\n",
    "$\\color{red}{\\text{integrate 5 sin(3x)}} $  , joka antaa vastauksen muodossa $\\color{blue}{-\\frac {5}{3}cos(x)\\text{ + costant}} $  \n"
   ]
  }
 ],
 "metadata": {
  "jupytext": {
   "cell_metadata_filter": "-all",
   "notebook_metadata_filter": "-all",
   "text_representation": {
    "extension": ".md",
    "format_name": "markdown"
   }
  },
  "kernelspec": {
   "display_name": "Python 3 (ipykernel)",
   "language": "python",
   "name": "python3"
  },
  "language_info": {
   "codemirror_mode": {
    "name": "ipython",
    "version": 3
   },
   "file_extension": ".py",
   "mimetype": "text/x-python",
   "name": "python",
   "nbconvert_exporter": "python",
   "pygments_lexer": "ipython3",
   "version": "3.9.7"
  }
 },
 "nbformat": 4,
 "nbformat_minor": 5
}
