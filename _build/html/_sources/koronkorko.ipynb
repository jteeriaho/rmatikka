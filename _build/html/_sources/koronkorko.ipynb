{
 "cells": [
  {
   "cell_type": "markdown",
   "id": "58d5a3e4",
   "metadata": {},
   "source": [
    "# Talousmatematiikan perusteita       \n",
    "\n",
    "## Koronkorkolaskut"
   ]
  },
  {
   "cell_type": "markdown",
   "id": "2cd8b736",
   "metadata": {},
   "source": [
    "### Korkolaskuissa käytettävät symbolit"
   ]
  },
  {
   "cell_type": "markdown",
   "id": "8df0985e",
   "metadata": {},
   "source": [
    "> k = nykyarvo (investoitu summa, alkupääoma)       \n",
    ">\n",
    "> K = tuleva arvo (karttunut pääoma)    \n",
    ">\n",
    "> i = korkokanta (laskuissa desimaalimuodossa: esim. 5% = 0.05)      \n",
    ">\n",
    "> t = aika, korkojaksojen lukumäärä      \n",
    "\n",
    "\n",
    "Em. lisäksi kaavoissa käytetään usein symbolia r, jonka laskukaava on r = 1 + i.       \n",
    "Sitä nimitetään *lisäyskertoimeksi* tai *korkotekijäksi*."
   ]
  },
  {
   "cell_type": "markdown",
   "id": "f34b07a4",
   "metadata": {},
   "source": [
    "### Tulevan arvon laskeminen koronkorkomenetelmällä"
   ]
  },
  {
   "cell_type": "markdown",
   "id": "70b6b6d3",
   "metadata": {},
   "source": [
    "> **Koronkorkomenetelmässä** kunkin korkojakson lopussa pääomaan liitetään korko.      \n",
    "> Seuraavan korkojakson aikana korkoa kertyy alkuperäisen pääoman ja siihen liitetyn koron yhteissummalle. "
   ]
  },
  {
   "cell_type": "markdown",
   "id": "1e1c9a40",
   "metadata": {},
   "source": [
    "```{admonition} **Tulevan arvon laskeminen**\n",
    ":class: tip\n",
    " \n",
    "Tuleva arvo $K = k\\cdot (1+i)^t$     \n",
    "\n",
    "k = nykyarvo, i = korkokanta, t = aika (korkojaksojen lukumäärä)\n",
    "\n",
    "```"
   ]
  },
  {
   "cell_type": "markdown",
   "id": "6d7802d0",
   "metadata": {},
   "source": [
    "```{admonition} Esim. Irina tallentaa pankin säästötilille 5000 Euroa 5 vuodeksi. Korkoprosentti on 2.5% p.a *(per annum = vuodessa)*. Laske säästötilin saldo 5 vuoden kuluttua Euron tarkkuudella       \n",
    ":class: dropdown\n",
    "Tehtävässä annettua korkoa vastaava korkotekijä r = 1 + i = 1.025.   \n",
    "     \n",
    "Loppusaldo $K = k\\cdot (1+i)^t = 5000\\cdot 1.025^5 = 5657$\n",
    "```"
   ]
  },
  {
   "cell_type": "markdown",
   "id": "4c127493",
   "metadata": {},
   "source": [
    "### Nykyarvon laskeminen (diskonttaus)"
   ]
  },
  {
   "cell_type": "markdown",
   "id": "65c6637f",
   "metadata": {},
   "source": [
    "Kun halutaan tietää esim. jonkin tulevan tuoton arvo nykyhetkellä, tarvitaan **nykyarvon laskemista eli diskonttausta** "
   ]
  },
  {
   "cell_type": "markdown",
   "id": "c72e602e",
   "metadata": {},
   "source": [
    "```{admonition} **Nykyarvon laskukaava**\n",
    ":class: tip\n",
    " \n",
    "Nykyarvo $k = \\frac{K}{(1+i)^t}\\hspace{1cm}$ joka voidaan esittää myös muodossa       \n",
    "\n",
    "$k = K {(1+i)}^{-t} $      \n",
    "\n",
    "K = tuleva arvo, i = korkokanta, t = aika (korkojaksojen lukumäärä)\n",
    "\n",
    "```"
   ]
  },
  {
   "cell_type": "markdown",
   "id": "a0bbee21",
   "metadata": {},
   "source": [
    "```{admonition} Paavo sijoittaa 20000 € kohteeseen, josta arvioi saavansa 24000 € myydessään sen 5 v kuluttua. Paavo tavoittelee 4.0% prosentin voittoa investoinnille. Toteutuuko tavoite?\n",
    ":class: dropdown\n",
    "\n",
    "Lasketaan myyntihinnan nykyarvo 4 % korkokannalla. $k = K {(1+i)}^{-t} = 24000\\hspace{1mm} {1.04}^{-5} = 19726$              \n",
    "\n",
    "Myyntihinnan nykyarvo on pienempi kuin investoitu summa 20000, joten Paavon tavoite ei toteudu.\n",
    "```"
   ]
  },
  {
   "cell_type": "markdown",
   "id": "a21ce6ad",
   "metadata": {},
   "source": [
    "###  Korkokannan i ratkaiseminen koronkorkokaavasta"
   ]
  },
  {
   "cell_type": "markdown",
   "id": "eeb38527",
   "metadata": {},
   "source": [
    "```{admonition} **Korkokannan laskeminen**\n",
    ":class: tip\n",
    " \n",
    "Korkokanta $i = \\sqrt[t]{\\frac{K}{k}}-1$  \n",
    "\n",
    "K = tuleva arvo, k=nykyarvo, t = aika (korkojaksojen lukumäärä)\n",
    "\n",
    "```"
   ]
  },
  {
   "cell_type": "markdown",
   "id": "e907911c",
   "metadata": {},
   "source": [
    "*Kaavan perustelu:*     \n",
    "$K = k {(1+i)}^{t} \\Rightarrow \\frac{K}{k} = (1+i)^t \\Rightarrow 1+i=\\sqrt[t]{\\frac{K}{k}}\\Rightarrow i = \\sqrt[t]{\\frac{K}{k}}-1 $     "
   ]
  },
  {
   "cell_type": "markdown",
   "id": "ba5149ae",
   "metadata": {},
   "source": [
    "```{admonition} Paavo sijoittaa 20000 € kohteeseen, josta arvioi saavansa 24000 € myydessään sen 5 v kuluttua. Paavo tavoittelee 4.0% prosentin voittoa investoinnille. Toteutuuko tavoite? Laske Paavon saama todellinen korko?\n",
    ":class: dropdown\n",
    "\n",
    "Lasketaan Paavon saama todellinen korko. $i = \\sqrt[t]{\\frac{K}{k}}-1 =\\sqrt[t]{\\frac{24000}{25000}}-1 = 0.037=3.7\\%$              \n",
    "\n",
    "Todellinen korko jää alle Paavon tavoitteen.\n",
    "```"
   ]
  },
  {
   "cell_type": "markdown",
   "id": "ea9cb2cd",
   "metadata": {},
   "source": [
    "###  Ajan ratkaiseminen koronkorkokaavasta"
   ]
  },
  {
   "cell_type": "markdown",
   "id": "74047cbb",
   "metadata": {},
   "source": [
    "Jos halutaan laskea, missä ajassa alkupääoma k karttuu arvoon K korkokannalla i, pitää ratkaista koronkorkokaava ajan t suhteen"
   ]
  },
  {
   "cell_type": "markdown",
   "id": "a5ab7cdf",
   "metadata": {},
   "source": [
    "```{admonition} **Ajan laskeminen**\n",
    ":class: tip\n",
    " \n",
    "Aika (=korkojaksojen määrä)  $t = \\frac {log(\\frac{K}{k})}{log(1+i)}$  \n",
    "\n",
    "K = tuleva arvo, k=nykyarvo, t = aika (korkojaksojen lukumäärä)\n",
    "\n",
    "```"
   ]
  },
  {
   "cell_type": "markdown",
   "id": "b79cbab1",
   "metadata": {},
   "source": [
    "*Kaavan perustelu:*     \n",
    "$K = k {(1+i)}^{t} \\Rightarrow \\frac{K}{k} = (1+i)^t \\Rightarrow log(\\frac{K}{k})= log((1+i)^t)= t\\hspace{1mm} log(1+i)\\Rightarrow t = \\frac {ln(\\frac{K}{k})}{ln(1+i)} $"
   ]
  },
  {
   "cell_type": "markdown",
   "id": "9566fd02",
   "metadata": {},
   "source": [
    "```{admonition} Annen auton arvo on nyt 5000 €. Monenko vuoden kuluttua arvo on enää 1000 € olettaen, että ko. automallin arvo putoaa 15% vuodessa?\n",
    ":class: dropdown\n",
    "Korko on tässä tapauksessa negatiivinen luku -0.015, joten korkotekijä 1 + i = 0.85        \n",
    "\n",
    "$t = \\frac {log(\\frac{K}{k})}{log(1+i)} =  \\frac {log(\\frac{1000}{5000})}{log(0.85)} = 9.9 $       \n",
    "\n",
    "Vastaus:  9.9 vuoden kuluttua.\n",
    "\n",
    "\n",
    "```"
   ]
  },
  {
   "cell_type": "markdown",
   "id": "a219571e",
   "metadata": {},
   "source": [
    "## Annuiteettilaina eli tasaerälaina"
   ]
  },
  {
   "cell_type": "markdown",
   "id": "7507c1e1",
   "metadata": {},
   "source": [
    "Nykyisin yleisin lainamuoto asunto- ja kulutusluotoissa on **tasaerälaina**, jossa laina maksetaan takaisin koko laina-ajan samansuuruisina pysyvinä suorituksina, jotka sisältävät sekä lyhennyksen että koron.    \n",
    "\n",
    "Alla on kaava maksuerän suuruuden laskemiseen.  Kaava voidaan johtaa käyttämällä geometrisen sarjan summan kaavaa, joka löytyy kaavakirjoista. "
   ]
  },
  {
   "cell_type": "markdown",
   "id": "0fd590a5",
   "metadata": {},
   "source": [
    "```{admonition} **Tasaerälainan maksuerän laskukaava**\n",
    ":class: tip  \n",
    "\n",
    "$p=\\frac{k\\hspace{1mm}i}{1-(1+i)^{-n}}$      \n",
    "\n",
    "k = lainamäärä, i = korkojakson korkoprosentti, n = erien määrä    \n",
    "\n",
    "Huom! Kaavaa vastaava Excel funktio on MAKSU (engl. Excelissä PMT)\n",
    "```"
   ]
  },
  {
   "cell_type": "markdown",
   "id": "9012c69a",
   "metadata": {},
   "source": [
    "```{admonition} Esim. Maija ostaa tietokoneen luotolla, jonka maksuaika on 18 kk. Luottosumma on 800 Euroa, korko 6% vuodessa eli 0.5% kk:ssa. Mikä on kuukausierän suuruus?\n",
    ":class: dropdown\n",
    "\n",
    "Periaate:  Maksuerien nykyarvojen summan on oltava yhtäsuuri kuin ostohinta.     \n",
    "\n",
    "Kuukausierä p on yhtälön $800 = \\frac {p}{1.005}+ \\frac {p}{1.005^2} + ... + \\frac {p}{1.005^18}$ ratkaisu. \n",
    "\n",
    "Yhtälö on liian pitkä laskimella ratkaistavaksi. Käytetään **tasaerän laskukaavaa**   \n",
    "\n",
    "$p=\\frac{k\\hspace{1mm}i}{1-(1+i)^{-n}}$, missä k = lainattu summa, i = lyhennyskauden korko,     \n",
    "n = lyhennysten lukumäärä     \n",
    "\n",
    "Sijoitusten jälkeen saadaan tasaeräksi $p= \\frac{800\\hspace{1mm}\\cdot \\hspace{1mm}0.005}{1-1.005^{-18}} = 46.59 $     \n",
    "\n",
    "Excel-ratkaisu: $\\color{blue}{\\text{=MAKSU(0,5%;18;800)}}$\n",
    "\n",
    "```"
   ]
  },
  {
   "cell_type": "markdown",
   "id": "836f4cb5",
   "metadata": {},
   "source": [
    "```{admonition} **Tasaerälaina, jossa viimeiseen erään on lisätty lainan jäännösarvo**\n",
    ":class: tip  \n",
    "\n",
    "$p=\\frac{k\\hspace{1mm}i-K\\hspace{1mm}i (1+i)^{-n}}{1-(1+i)^{-n}}$      \n",
    "\n",
    "k = lainamäärä, i = korkojakson korkoprosentti, n = erien määrä, K = jäännösarvo    \n",
    "\n",
    "Huom! Kaavaa vastaava Excel funktio on MAKSU (engl. Excelissä PMT)   \n",
    "   \n",
    "```"
   ]
  },
  {
   "cell_type": "markdown",
   "id": "6c9835b3",
   "metadata": {},
   "source": [
    "```{admonition} Esim. Eero ostaa vaihtoauton osamaksulla, jonka maksuaika on 36 kk. Luottosumma on 6000 euroa, korko 6% vuodessa eli 0.5% kk:ssa. Mikä on kuukausierän suuruus, kun viimeiseen erään on lisätty jäännösarvo 2000 euroa?\n",
    ":class: dropdown\n",
    "\n",
    "Periaate:  Maksuerien nykyarvojen summan on oltava yhtäsuuri kuin ostohinta.     \n",
    "\n",
    "Käytetään **laskukaavaa**   \n",
    "\n",
    "$p=\\frac{k\\hspace{1mm}i-K\\hspace{1mm}i (1+i)^{-n}}{1-(1+i)^{-n}}$, missä k = lainattu summa, i = lyhennyskauden korko,       \n",
    "n = lyhennysten lukumäärä (laina-aika) ja K on viimeiseen erään lisätty ns. jäännösarvo     \n",
    "\n",
    "Sijoitusten jälkeen saadaan tasaeräksi \n",
    "$p=\\frac{6000\\hspace{1mm}0.05-2000\\hspace{1mm}0.005\\cdot 1.005^{-36}}{1-1.005^{-36}} = 131.69 $      \n",
    "\n",
    "Excel-ratkaisu: $\\color{blue}{\\text{=MAKSU(0,5%;36;5000,-2000)}}$\n",
    "\n",
    "```"
   ]
  },
  {
   "cell_type": "markdown",
   "id": "e15f15d5",
   "metadata": {},
   "source": [
    "## Kannattavuuslaskennan menetelmiä"
   ]
  },
  {
   "cell_type": "markdown",
   "id": "1a40fdef",
   "metadata": {},
   "source": [
    "### 1. Nykyarvomenetelmä"
   ]
  },
  {
   "cell_type": "markdown",
   "id": "2fd3dd84",
   "metadata": {},
   "source": [
    "```{admonition} **Investoinnin kannattavuuden laskeminen nykyarvomenetelmällä**\n",
    ":class: tip\n",
    " \n",
    "$1.$ Lasketaan arvioidujen vuosituottojen $R_1, R_2, ..., R_n$ nykyarvojen summa $K_{NA}$ kaavalla      \n",
    "\n",
    "Nykyarvo $K_{NA} = \\frac {R_1}{1+i}+\\frac {R_2}{(1+i)^2} + .... + \\frac {R_n}{(1+i)^n}$        \n",
    "\n",
    "$2.$ Verrataan tulosta investoituun summaan. Jos nykyarvojen summa ylittää investoidun summan, investointi on kannattava.      \n",
    "\n",
    "\n",
    "Menetelmää sovellettaessa tulos riippuu nykyarvojen laskennassa käytettävän korkokannan i valinnasta.   \n",
    "\n",
    "Korkokanta voidaan  käyttää kahta vaihtoehtoista periaatetta:       \n",
    "A. **Kustannusperusteinen** korkokanta, joka on käypä rahoituskorko, johon on lisätty riski      \n",
    "B. **Tuottoperusteinen** korkokanta, joka sisältää edellisen lisäksi yrityksen itselleen asettaman korkotuottotavoitteen\n",
    "\n",
    "```"
   ]
  },
  {
   "cell_type": "markdown",
   "id": "af9099de",
   "metadata": {},
   "source": [
    "```{admonition} Yritys harkitsee investointia 90000 hintaiseen työkoneeseen, jonka käyttöikä on 5 vuotta. Se arvioi saavansa investoinnista vuosituotot 21000, 23000, 25000, 26000 ja 25000. Täyttääkö hanke kannattavuuskriteerin, kun kannattavuuslaskelma tehdään käyttämällä 9.0% korkokantaa, joka sisältää kustannusten lisäksi tuottotavoitteen?   \n",
    ":class: dropdown\n",
    "\n",
    "**Tapa1: Lasketaan tuottojen nykyarvo laskimella**   \n",
    "korkokannalla\n",
    "$K_{NA} = \\frac {21000}{1.09}+\\frac {23000}{1.09^2} +\\frac {25000}{1.09^3}+\\frac {26000}{1.09^4} + \\frac {25000}{1.09^5} = 92597$ \n",
    "     \n",
    "Vastaus:  Tuottojen nykyarvo ylittää investoinnin arvon, joten investointi on kannattava.    \n",
    "\n",
    "**Tapa2: Lasketaan tuottojen nykyarvo Excelin funktiolla NA (engl. PV)**      \n",
    "![na](images/kuva38.PNG)    \n",
    "    \n",
    "<span style=\"color:blue\">NA funktion ohje: Esim. rivin 1 tulos -19266,06 saadaan kaavalla =NA(9%;B2;;A2), missä B2 viittaa aikasarakkeen lukuun 1 ja A2 viittaa tuottoon 21000. Argumentti 9% on korko. Käyttämällä soluviittauksia kaavan voi kopioida alaspäin. Excelissä nykyarvoilla ja tulevilla arvoilla on aina eri etumerkki. Tästä syystä nykyarvot ovat negatiivisia lukuja.</span>  \n",
    "\n",
    "```\n"
   ]
  },
  {
   "cell_type": "markdown",
   "id": "12e9e84e",
   "metadata": {},
   "source": [
    "### 2.  Sisäisen koron menetelmä"
   ]
  },
  {
   "cell_type": "markdown",
   "id": "d8865b47",
   "metadata": {},
   "source": [
    "Sisäisen koron menetelmä (\"Internal Rate of Return\" eli IRR) vastaa nykyarvomenetelmää tarkemmin kysymykseen, mikä on investoinnin tuottoprosentti olettaen, että arvioivut vuosituotot toteutuvat."
   ]
  },
  {
   "cell_type": "markdown",
   "id": "cc08ab0c",
   "metadata": {},
   "source": [
    "```{admonition} **Investoinnin sisäinen korko**\n",
    ":class: tip\n",
    " \n",
    "$1.$ Arvioiden vuosituottojen $R_1, R_2, ..., R_n$ nykyarvojen summa $K_{NA}$ on täsmälleen yhtä suuri kuin investoidu summa k jollakin korkokannalla i.   Menetelmässä pyritään ratkaisemaan tämä korkokanta, jota voidaan pitää investoinnin todellisena tuottonkorkona. Tehtävä voidaan muotoilla seuraavasti:       \n",
    "\n",
    "\n",
    "solve $k = \\frac {R_1}{1+i}+\\frac {R_2}{(1+i)^2} + .... + \\frac {R_n}{(1+i)^n}$ for i        \n",
    "\n",
    "Koron i ratkaiseminen yhtälöstä palautuu n:nen asteen polyomiyhtälön ratkaisuun, mikä onnistuu vain hyvillä algebralaskimilla, kuten WolframAlpha online -laskimella.  Toisaalta Excel:ssä on monipuolinen valikoima talousfunktioita, joista funktio IRR on juuri sisäisen koron laskentaan laadittu funktio.\n",
    "\n",
    "```"
   ]
  },
  {
   "cell_type": "markdown",
   "id": "bd016e58",
   "metadata": {},
   "source": [
    "```{admonition} Yritys harkitsee investointia 90000 hintaiseen työkoneeseen, jonka käyttöikä on 5 vuotta. Se arvio saavansa investoinnista vuosituotot 21000, 23000, 25000, 26000 ja 25000. Mikä on investoinnin tuottokorko näillä tiedoilla?  \n",
    ":class: dropdown      \n",
    "\n",
    "**Tapa1: Ratkaisu WolframAlpha -laskimella**\n",
    "\n",
    "Lasketaan tuottokorko WolframAlpha -laskimella seuraavasti  :   \n",
    "\n",
    "$\\color{red}{\\text{solve }90000 = \\frac {21000}{1+i}+\\frac {23000}{(1+i)^2} +\\frac {25000}{(1+i)^3}+\\frac {26000}{(1+i)^4} + \\frac {25000}{(1+i)^5}\\text{ for i }}$      \n",
    "\n",
    "Laskimen vastaus on 0.101\n",
    "     \n",
    "Vastaus:  Investointi antaa 10.1% bruttotuoton      \n",
    "\n",
    "\n",
    "**Tapa2: Ratkaisu Excelin IRR funktiota käyttäen**\n",
    "\n",
    "Merkitään alekkain ”kassavirta”: Investointi negatiivisena, sen alle vuosituotot positiivisena.       \n",
    "Lasketaan sisäinen korko Excel funktiolla IRR ao. ohjeen mukaisesti:    \n",
    "\n",
    "![irr1](images/kuva37.PNG)    \n",
    "\n",
    "     \n",
    "Vastaus:  Investointi antaa 10% bruttotuoton    \n",
    "(Lisää desimaaleja saa näkyviin muuttamalla solun muotomäärityksiä)\n",
    "```"
   ]
  },
  {
   "cell_type": "markdown",
   "id": "2bb6e3e2",
   "metadata": {},
   "source": [
    "### 3. Annuiteettimenetelmä"
   ]
  },
  {
   "cell_type": "markdown",
   "id": "09a9b0e5",
   "metadata": {},
   "source": [
    "Menetelmällä voidaan määrittää, kuinka suuri pitäisi olla investoinnista saatava vuosituotto, jotta se kattaisi investointikustannukset. "
   ]
  },
  {
   "cell_type": "markdown",
   "id": "47bcb65d",
   "metadata": {},
   "source": [
    "```{admonition} Yritys harkitsee investointia 90000 hintaiseen työkoneeseen, jonka käyttöikä on 5 vuotta. Laske investoinnin vuotuiset pääomakulut käyttäen 4.5% korkokantaa. (Ollakseen kannattava vuosituottojen on oltava vähintään pääomakulujen suuruiset.)\n",
    ":class: dropdown\n",
    "\n",
    "Vuotuisten pääomamenojen annuiteetti $p=\\frac{k\\hspace{1mm}i}{1-(1+i)^{-n}} = \\frac{90000\\hspace{1mm}0.045}{1-1.045^{-5}} = n. 20500 $    \n",
    "\n",
    "Vastaus: Vuosituottojen on oltava vähintään 20500, jotta investointi kattaisi pääomamenot. (Ollakseen kannattava, investoinnin tulisi tuottaa lisäksi voittoa, joten 20500 ei ole riittävä tuotto).\n",
    "```"
   ]
  }
 ],
 "metadata": {
  "jupytext": {
   "cell_metadata_filter": "-all",
   "notebook_metadata_filter": "-all",
   "text_representation": {
    "extension": ".md",
    "format_name": "markdown"
   }
  },
  "kernelspec": {
   "display_name": "Python 3 (ipykernel)",
   "language": "python",
   "name": "python3"
  },
  "language_info": {
   "codemirror_mode": {
    "name": "ipython",
    "version": 3
   },
   "file_extension": ".py",
   "mimetype": "text/x-python",
   "name": "python",
   "nbconvert_exporter": "python",
   "pygments_lexer": "ipython3",
   "version": "3.9.7"
  }
 },
 "nbformat": 4,
 "nbformat_minor": 5
}
