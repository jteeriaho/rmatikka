{
 "cells": [
  {
   "cell_type": "markdown",
   "id": "58d5a3e4",
   "metadata": {},
   "source": [
    "# Tilastollinen virheenarviointi   "
   ]
  },
  {
   "cell_type": "markdown",
   "id": "c30486f7",
   "metadata": {},
   "source": [
    "       \n",
    "Mittausvirheet voidaan jakaa kahteen tyyppiin:     \n",
    "\n",
    "Tyyppi A: virheet, jotka johtuvat satunnaisista tekijöistä     \n",
    "Tyyppi B: virheet, jotka vaikuttavat määrättyyn suuntaan (esim. mittarin kalibrointivirheet)       \n",
    "\n",
    "\n",
    "![virhelajit](images/kuva55.PNG)       \n",
    "\n",
    "      \n",
    "      \n",
    "Satunnaisvirheen vaikutus tulokseen voidaan eliminoida toistamalla mittausta, jolloin mittaustulosten keskiarvo lähestyy suureen todellista arvoa. Systemaattisen virheen vaikutusta ei voi eliminoida toistolla.\n"
   ]
  },
  {
   "cell_type": "markdown",
   "id": "42ccff8a",
   "metadata": {},
   "source": [
    "## Otannalla saadun tuloksen virhemarginaali"
   ]
  },
  {
   "cell_type": "markdown",
   "id": "93243061",
   "metadata": {},
   "source": [
    "### Otantavirheet"
   ]
  },
  {
   "cell_type": "markdown",
   "id": "9752dbb0",
   "metadata": {},
   "source": [
    "```{admonition} Otantavirhe  \n",
    ":class: tip\n",
    "**Otantavirhe on otosten poiminnan satunnaisuudesta aiheutuva virhelähde.**\n",
    "```"
   ]
  },
  {
   "cell_type": "markdown",
   "id": "eea5b543",
   "metadata": {},
   "source": [
    "#### Esimerkki otantavirheistä"
   ]
  },
  {
   "cell_type": "markdown",
   "id": "44989e6a",
   "metadata": {},
   "source": [
    "Oletetaan, että miespuolisten varusmiesten pituus noudattaa Gaussin normaalijakaumaa, jonka keskiarvo on 180 cm ja keskihajonta 8 cm.       \n",
    "\n",
    "Tutkittaessa varusmiesten pituuksia käyttämällä 25 henkilön otoksia, otosten pituusjakaumat poikkeavat toisistaan johtuen otantavirheestä.       \n",
    "Kuvassa on kolmen otoksen jakaumat.\n",
    "\n",
    "![otantavirhe](images/kuva56.PNG)       \n",
    "\n",
    "Huolimatta eroavaisuuksista, otoskeskiarvot 180.3 cm, 180.7 cm ja 181.3 cm ovat lähellä toisiaan.  \n",
    "\n",
    "Voidaan todistaa, että kun otoskokoa kasvatetaan, otoskeskiarvo lähestyy populaatiokeskiarvoa (tässä esimerkissä siis 180 cm).       \n",
    "\n",
    "Lisäksi otoskeskiarvot ovat normaalisti jakautuneet. \n",
    "> Otoskeskiarvojen keskihajonta on $\\frac{s}{\\sqrt{n}}$ ,missä s on populaation keskihajonta ja n on otoskoko.   \n",
    ">\n",
    ">    \n",
    "> Otoskokoa (= mittauksen toistojen lukumäärää) kasvattamalla saadaan otantavirhe pienentymään halutulle tasolle. \n",
    "\n",
    "![otosvirhe](images/kuva57.PNG)"
   ]
  },
  {
   "cell_type": "markdown",
   "id": "7b770c42",
   "metadata": {},
   "source": [
    "###  Mittaussarjan keskiarvon keskivirhe"
   ]
  },
  {
   "cell_type": "markdown",
   "id": "38ca84e0",
   "metadata": {},
   "source": [
    "```{admonition} **Otoskeskiarvon keskivirhe**\n",
    ":class: tip\n",
    "Olkoon X tilastomuuttuja, jonka arvoista otetaan n:n kappaleen otos.Tällöin    \n",
    "\n",
    "1.  Paras arvio muuttujan X keskiarvoksi on otoskeskiarvo\n",
    "\n",
    "2.  Otoskeskiarvojen keskihajonta eli keskivirhe on $\\frac{s}{\\sqrt{n}}$, \n",
    "missä n on otoskoko ja s on muuttujan X keskihajonta            \n",
    "(jos X:n keskihajonta ei tunneta, käytetään otoksen keskihajontaa)\n",
    "\n",
    "3.  Muuttujan X  keskiarvon virhemarginaali riippuu vaaditusta luottamustasosta, joka määritellään todennäköisyytenä, että oikea keskiarvo on virhemarginaalin sisäpuolella.\n",
    "\n",
    "X:n virhemarginaali $\\Delta X = t \\frac{s}{\\sqrt{n}}$  , missä \n",
    "t = otoskoosta ja luottamustasosta riippuva **kattavuuskerroin**    \n",
    "\n",
    "> Suurilla otoskoon arvoilla ( n > 50) 95% luottamustasoa vastaa t = 1.96, ja       \n",
    "> 99% luottamustasoa vastaa t = 2.58    (perustuvat normaalijakauman kertymäfunktioon)   \n",
    "> \n",
    "> **Merkitsevyystaso.** Luottamustason sijasta esim. Excel-funktioissa käyttää sen komplementtia, jota sanotaan *merkitsevyystasoksi*.     \n",
    "> Ts.  95% luottamustaso vastaa 5% merkitsevyystasoa, 99% luottamustasoa vastaa 1% merkitsevyystaso\n",
    "\n",
    "```"
   ]
  },
  {
   "cell_type": "markdown",
   "id": "cf3a1e74",
   "metadata": {},
   "source": [
    "```{admonition} **Numeerisen muuttujan mittaussarjan virhemarginaali**\n",
    ":class: tip\n",
    "\n",
    "$\\Delta X = t \\frac{s}{\\sqrt{n}}$  , missä \n",
    "t = kattavuuskerroin, s = populaatiokeskihajonta (tai otoskeskihajonta, jos em. ei tiedossa), n = otoskoko    \n",
    "\n",
    "Kattavuuskerroin t riippuu otoskoosta ja luottamustasosta (yleensä joko 95% tai 99%).      \n",
    "Ilman laskinta tai Exceliä kattavuuskertoimet eri otoskoille löytyvät taulukkokirjoista tai netistä. Alla taulukko kattavuuskertoimista eri suuruisille otoksille.  \n",
    "\n",
    "```"
   ]
  },
  {
   "cell_type": "markdown",
   "id": "259cefdd",
   "metadata": {},
   "source": [
    "**Kattavuuskertoimia** t tavallisimmille merkitsevyystasoille, n - 1 =  otoskoko - 1      \n",
    "\n",
    "![ttaulu](images/kuva58.PNG)   \n",
    "\n",
    "> Taulukon sijasta virhemarginaali voidaan laskea Excel- funktiolla LUOTTAMUSVÄLI.T."
   ]
  },
  {
   "cell_type": "markdown",
   "id": "4fa66b3a",
   "metadata": {},
   "source": [
    "###  Excel -funktio LUOTTAMUSVÄLI.T (engl. CONFIDENCE.T)"
   ]
  },
  {
   "cell_type": "markdown",
   "id": "14e11635",
   "metadata": {},
   "source": [
    "Pienillä otoksilla (n < 50) otoskeskiarvojen jakauma noudattaa ns. Studentin T -jakaumaa, joka lähestyy suuremmilla otoksilla normaalijakaumaa.       \n",
    "\n",
    "Excel -funktio **LUOTTAMUSVÄLI.T(merkitsevyystaso; keskihajonta; otoskoko)** laskee virhemarginaalin otoksesta saadulle muuttujan X keskiarvolle käyttäen kaavaa $\\Delta X = t \\frac{s}{\\sqrt{n}}$.      \n"
   ]
  },
  {
   "cell_type": "markdown",
   "id": "a3e06c71",
   "metadata": {},
   "source": [
    "```{admonition} Asfaltin tiheys määritettiin kymmenestä näytteestä, joiden tiheydet olivat 2468, 2431, 2569, 2518, 2667, 2608, 2494, 2334, 2629ja 2570.  Otoskeskiarvo ja -keskihajonta ovat $2529 g/cm^3$ ja $101 g/cm^3$. Mikä on mittaussarjan perusteella asfaltin tiheys? \n",
    ":class: dropdown      \n",
    "1) Asfaltin tiheydeksi annetaan otoskeskiarvo eli 2529     \n",
    "\n",
    "2) Tiheyden absoluuttinen virhe 95% merkitsevyystasolla saadaan Excel funktiolla    \n",
    "**= LUOTTAMUSVÄLI.T(5%;101;10)**, joka antaa virheeksi **72.2**      \n",
    "\n",
    "(Ilman Exceliä tulos saadaan kaavalla $\\Delta X = t \\frac{s}{\\sqrt{n}} = 2.262\\frac{101}{\\sqrt{10}}= 72.2$.      \n",
    "Kattavuuskerroin 2.262 löytyy yo. taulukosta riviltä n - 1 = 10 - 1 = 9) \n",
    "\n",
    "```"
   ]
  },
  {
   "cell_type": "markdown",
   "id": "b4387062",
   "metadata": {},
   "source": [
    "###  Suhteellisen osuuden luottamusväli"
   ]
  },
  {
   "cell_type": "markdown",
   "id": "57991bac",
   "metadata": {},
   "source": [
    "Gallup - tutkimuksissa tutkittava muuttujana on jonkin ehdokkaan tai ajatuksen kannatusprosentti, ts. **suhteellinen osuus**.   Otoskoot Gallup tutkimuksissa ovat suuria, yleensä 500 - 2500. Satunnaistettujen otosten tulokset noudattavat ns. binomijakaumaa.    \n",
    "\n",
    "Suhteellisen osuuden virhemarginaali riippuu otoskoosta n ja ehdokkaan kannatuksesta p seuraavasti:  "
   ]
  },
  {
   "cell_type": "markdown",
   "id": "1e1c9a40",
   "metadata": {},
   "source": [
    "```{admonition} **Suhteellisen osuuden virhemarginaali**\n",
    ":class: tip\n",
    "\n",
    "$\\Delta p = t \\sqrt\\frac{p(1-p)}{n}$\n",
    "\n",
    "n = otoskoko, p = kannatusprosentti desimaalilukuna (esim. 0.35 vastaa 35% kannatusta), \n",
    "kattavuuskerroin t = 1.96 (95% luottamustaso) tai t = 2.34 (99% luottamustasolla)\n",
    "\n",
    "```"
   ]
  },
  {
   "cell_type": "markdown",
   "id": "dd3a8f77",
   "metadata": {},
   "source": [
    "```{admonition} Sähköauton hankintaa harkitsi 38.4 % kyselyyn osallistuneista. Otoskoko oli 1000 henkeä. Mikä oli kyselyn virhemarginaali? \n",
    ":class: dropdown\n",
    "$\\Delta p = t \\sqrt\\frac{p(1-p)}{n} = 1.96 \\sqrt\\frac{0.384(1-0.384)}{1000} = 0.030 = 3.0\\%$      \n",
    "\n",
    "Vastaus: virhemarginaali on $\\pm 3.0$ prosenttiyksikköä\n",
    "```"
   ]
  },
  {
   "cell_type": "markdown",
   "id": "987a2e86",
   "metadata": {},
   "source": [
    "Jos asetetaan Gallup- tutkimukselle etukäteen vaatimus tietystä virhemarginaalista, voidaan tarvittava otoskoko n ratkaista em. yhtälöstä seuraavassa muodossa:  "
   ]
  },
  {
   "cell_type": "markdown",
   "id": "6c772354",
   "metadata": {},
   "source": [
    "```{admonition} **Otoskoon määrittäminen, kun virhemarginaali on annettu**\n",
    ":class: tip\n",
    "\n",
    "Otoskoko $n=\\frac{p(1-p)t^2}{\\Delta p^2}$\n",
    "\n",
    "p = kannatusprosentti desimaalilukuna, t = kattavuuskerroin, $\\Delta p$ = virhemarginaali\n",
    "\n",
    "\n",
    "```"
   ]
  },
  {
   "cell_type": "markdown",
   "id": "d6ed13d6",
   "metadata": {},
   "source": [
    "```{admonition} Presidenttigallupissa eniten kannatusta omaavan ehdokkaan on 23 % luokkaa. Kuinka suuri otoskoko tarvitaan seuraavassa gallupissa, jotta ehdokkaan kannatusmittauksessa päästäisiin 2 % virhemarginaaliin?   \n",
    ":class: dropdown\n",
    "Otoskoko $n=\\frac{0.23(1-1.023)1.96^2}{0.02^2} = 1701$      \n",
    "\n",
    "Vastaus: Otoskoon on oltava n. 1700\n",
    "```"
   ]
  },
  {
   "cell_type": "markdown",
   "id": "e93bc663",
   "metadata": {},
   "source": [
    "Huom!  Otoskoko riippuu kannatusprosentista siten, että suurin otoskoko tarvitaan n. 50 % kannatusta mitattaessa tiettyyn virhemarginaaliin pääsemiseksi."
   ]
  },
  {
   "cell_type": "markdown",
   "id": "83919c6d",
   "metadata": {},
   "source": [
    "### Ratkaistuja esimerkkejä"
   ]
  },
  {
   "cell_type": "markdown",
   "id": "96074e88",
   "metadata": {},
   "source": [
    "```{admonition} Tavaratalon asiakkaiden keski-ikää selvitettiin kysymällä ikä 200 satunnaisesti valitulta asiakkaalta.  Otoskeskiarvo oli 41.3 v  ja keskihajonta 23.5 v. Ilmoita tutkimuksen perusteella asiakkaiden keski-ikä ja sen virhemarginaali (95% luottamustasolla) \n",
    ":class: dropdown\n",
    "Keski-iäksi annetaan otoskeskiarvo 41.3       \n",
    "\n",
    "Virhemarginaali saadaan Excel-kaavalla      \n",
    "**=LUOTTAMUSVÄLI.T(5% ; 23,5 ; 200)** antaa tuloksen 3.3      \n",
    "\n",
    "Vastaus: Keski-ikä on $(41.3 \\pm 3.3)$ vuotta\n",
    "```"
   ]
  },
  {
   "cell_type": "markdown",
   "id": "05a76bcb",
   "metadata": {},
   "source": [
    "```{admonition} 500 satunnaisesti valitulta suomalaiselta kysyttiin, käyttävätkö he pankkikortin lähimaksuominaisuutta kaupan kassalla. Kyllä – vastauksia oli  47.5 %. Ilmoita tämän perusteella lähimaksua käyttäjien prosenttiosuus Suomessa virherajoineen. \n",
    ":class: dropdown\n",
    "$\\Delta p = t \\sqrt\\frac{p(1-p)}{n} = 1.96 \\sqrt\\frac{0.475(1-0.475)}{500} = 0.044 = 4.4\\%$     \n",
    "\n",
    "Vastaus: Lähimaksua kannattaa $(47.5 \\pm 4.4)\\%$ \n",
    "```"
   ]
  }
 ],
 "metadata": {
  "jupytext": {
   "cell_metadata_filter": "-all",
   "notebook_metadata_filter": "-all",
   "text_representation": {
    "extension": ".md",
    "format_name": "markdown"
   }
  },
  "kernelspec": {
   "display_name": "Python 3 (ipykernel)",
   "language": "python",
   "name": "python3"
  },
  "language_info": {
   "codemirror_mode": {
    "name": "ipython",
    "version": 3
   },
   "file_extension": ".py",
   "mimetype": "text/x-python",
   "name": "python",
   "nbconvert_exporter": "python",
   "pygments_lexer": "ipython3",
   "version": "3.9.7"
  }
 },
 "nbformat": 4,
 "nbformat_minor": 5
}
