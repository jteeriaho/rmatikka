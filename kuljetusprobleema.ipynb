{
 "cells": [
  {
   "cell_type": "markdown",
   "id": "2e1f7b6e",
   "metadata": {},
   "source": [
    "# Kuljetusten optimointi"
   ]
  },
  {
   "cell_type": "markdown",
   "id": "fb0e414f",
   "metadata": {},
   "source": [
    "Eräs infrarakentamisessa käytössä oleva optimointimenetelmä liittyy kuljetuksiin. Menetelmä tunnetaan nimellä **lineaarinen optimointi**.     \n",
    "\n",
    "Sen käyttämän **Simplex -algoritmin** kehitti George Dantzig v. 1946 kehittäessään USA:n ilmavoimille  menetelmiä, joilla suunnitteluprosesseja voitaisiin mekanisoida ja automatisoida.   \n",
    "\n",
    "Lineaarista optimointia käytetään myös teollisuudessa tuotannon optimoinnissa, sekä kaupan alalla, josta syystä lineaarista optimointia opetetaan myös ekonomiopintojen matematiikassa.  "
   ]
  },
  {
   "cell_type": "markdown",
   "id": "cd80bb14",
   "metadata": {},
   "source": [
    "## Yksinkertainen 2 muuttujan tapaus"
   ]
  },
  {
   "cell_type": "markdown",
   "id": "7dffc2f7",
   "metadata": {},
   "source": [
    "Lineaarisen ausekkeen a x + b y , missä vakiot , suurimman tai pienimmän arvon määrittämistä tasoalueessa nimitetään lineaariseksi optimoinniksi. Lauseke voi esittää esim. kahden eri tuotteen myyntivoittoa. \n",
    "Näiden tuotteiden valmistusta rajoittavat ehdot, jotka aiheituvat rajallisista työaika-, valmistusmateriaali- ja tuotantokustannusresursseista, voidaan usein havainnollistaa tasoalueena."
   ]
  },
  {
   "cell_type": "markdown",
   "id": "28aad3ea",
   "metadata": {},
   "source": [
    "```{admonition} Esim. Epäyhtälöt $x + 3 y ≤ 18,  3 x + 2 y ≤ 19, x ≥  0\\text{ ja }y ≥  0$ määrittävät nelikulmion   x,y – tasossa. Määritä lausekkeen $f =  5x +4 y$ suurin arvo nelikulmiossa    \n",
    ":class: tip     \n",
    "WolframAlphalla kuva rajoitteiden määräämästä nelikulmiosta syntyy kätevästi komennolla:       \n",
    "$\\color{red}{\\text{plot }\\{x + 3 y ≤ 18,  3 x + 2 y ≤ 19, x ≥  0, y ≥  0\\}}$ \n",
    "![linop](images/kuva19.PNG) \n",
    "  \n",
    "Maksimoitavan funktion f = 5 x + 4 y osittaisderivaattojen muodostamaa vektoria $(\\frac{\\partial f}{\\partial x},\\frac{\\partial f}{\\partial y}) = (5,4) $ kutsutaan funktion  **gradientiksi**.    \n",
    "\n",
    "\n",
    "Lineaarisen funktion f kuvaaja on tasopinta 3D - avaruudessa. Gradientti kertoo, mihin suuntaan x,y - tasossa funktio f = 5x+4y kasvaa jyrkimmin.   \n",
    "\n",
    "Kuvaan on piirretty gradientin suuntaisia vektoreita. Kuvan perusteella on ilmeistä, että funktio f saavuttaa suurimman arvonsa pisteessä P, joka on gradientin suunnassa kauimmainen nelikulmion piste.      \n",
    "\n",
    "    \n",
    "Piste P on kahden nelikulmion  rajaviivan x + 3 y = 18 ja 3 x + 2 y = 19 risteyskohdassa. Ratkaisemalla yhtälöpari esim. laskinkomennolla $\\color{red}{\\text{solve }x + 3 y = 18,  3 x + 2 y = 19}$, saadaan P:n koordinaateiksi x = 3 ja  y = 5.      \n",
    "\n",
    "Funktion f  suurin arvo on siten $f(3,5) = 5\\cdot 3 + 4\\cdot 5 = 35$  \n",
    "\n",
    "```"
   ]
  },
  {
   "cell_type": "markdown",
   "id": "b380ed9f",
   "metadata": {},
   "source": [
    "## Usean muuttujan lineaarinen optimointi  "
   ]
  },
  {
   "cell_type": "markdown",
   "id": "5bcf9f76",
   "metadata": {},
   "source": [
    "![linop](images/kuva20.PNG) \n",
    "  \n"
   ]
  },
  {
   "cell_type": "markdown",
   "id": "1d3759c8",
   "metadata": {},
   "source": [
    "```{admonition} Maksimoitava tai minimoitava ns. **tavoitefunktio** f on lineaarinen muuttujien $x_1,x_2,....,x_n$ lauseke $f = a_1 x_1+a_2 x_2+....+a_n x_n$. Rajoitteet ovat muuttujien välisiä lineaarisia yhtälöitä tai epäyhtälöitä.  \n",
    ":class: tip     \n",
    "1. Edellisen esimerkin monikulmiota vastaa moniulotteisen avaruuden monitahokas. \n",
    "\n",
    "  \n",
    "2. Tavoitefunktion f gradientti $(\\frac{\\partial f}{\\partial x_1},\\frac{\\partial f}{\\partial x_2},....) = (a_1,a_2,...,a_n) $ muodostuu muuttujien kertoimista.      \n",
    "\n",
    "\n",
    "3. Tavoitefunktion f maksimi löytyy monitahokaan gradientin suunnassa kauimmaisesta kärkipisteestä. Minimi löytyy gradientille vastakkaisessa suunnassa olevasta kauimmaisesta kärkipisteestä.     \n",
    "\n",
    "\n",
    "4. Simplex - algoritmissa valitaan lähtökohdaksi jokin kärkipiste. Algoritmissa edetään piste pisteeltä kohti tavoitetta gradientin suuntaisesti.      \n",
    "\n",
    "\n",
    "5. Käsin laskettuna algoritmi on hidas toteuttaa, mutta tietokoneelle koodattuna tehokas. Simplex algoritmi on mukana lukuisissa tietokoneohjelmissa, mm. Excel taulukkolaskentaohjelmassa.  Netistä löytyy lineaariseen ohjelmointiin ilmaisia online  -laskimia, joita käytämme tämän osuuden tehtävän ratkaisemiseen.   \n",
    "    \n",
    "```"
   ]
  },
  {
   "cell_type": "markdown",
   "id": "4e0d7b99",
   "metadata": {},
   "source": [
    "## Kuljetusprobleema"
   ]
  },
  {
   "cell_type": "markdown",
   "id": "aa7495a1",
   "metadata": {},
   "source": [
    "Kuljetusten optimoinnissa tavoite on säästää kuljetuskustannuksia vähentämällä ajokilometrit minimiin. Minimoitava funktio on lineaarinen, muuttujina ovat kuljetettavat määrät ja kertoimina kilometrimäärät.  "
   ]
  },
  {
   "cell_type": "markdown",
   "id": "ddd717d1",
   "metadata": {},
   "source": [
    "```{admonition} Esimerkki  \n",
    ":class: tip     \n",
    "Kuljetusyritys toimittaa soraa tierakennuskohteisiin. Sillä on kolme soravarastoa  V1, V2 ja V3 joissa on soraa 1500 $m^3$, 3000 $m^3$ ja 2000 $m^3$.   Toimituskohteita on myös kolme:   K1, K2 ja K3, joihin toimitettavat määrät ovat 1200 $m^3$, 1900 $m^3$ ja 2100 $m^3$.   Alla olevassa taulukossa on ruutuihin kirjoitettu etäisyydet soravarastojen ja kohteiden välillä.    Määritä kustakin soravarastosta kuhunkin kohteeseen toimitettavat määrät siten, että kuljetusten kokonaiskilometrimäärä on mahdollisimman pieni.\n",
    "![sora](images/kuva21.PNG)\n",
    "\n",
    "```"
   ]
  },
  {
   "cell_type": "markdown",
   "id": "cbb510cd",
   "metadata": {},
   "source": [
    "## Ongelman matemaattinen muotoilu"
   ]
  },
  {
   "cell_type": "markdown",
   "id": "40e1641a",
   "metadata": {},
   "source": [
    "Merkitään varastoista kohteisiin kuljetettavia kuutiomääriä muuttujilla x1,x2,...,x9 ao. taulukon mukaisesti:        \n",
    "\n",
    "\n",
    "|    | V1 | V2 | V3 |\n",
    "|----|----|----|----|\n",
    "| K1 | x1 | x2 | x3 |\n",
    "| K2 | x4 | x5 | x6 |\n",
    "| K3 | x7 | x8 | x9 |\n",
    "\n",
    "Ongelma voidaan esittää matemaattisessa muodossa seuraavasti.    \n",
    "\n",
    "**Minimoi** 32x1 +54x2 +17x3 +26x4 +41x5 +19x6 +38x7 +17x8 +24x9       \n",
    "**ehdoilla**          \n",
    "x1 + x2 + x3 = 1200          \n",
    "x4 + x5 + x6 = 1900         \n",
    "x7 + x8 + x9 = 2100          \n",
    "x1 + x4 + x7 ≤ 1500        \n",
    "x2 + x5 + x8 ≤ 3000       \n",
    "x3 + x6 + x9 ≤ 2000         \n",
    "x1,x2,x3,x4,x5,x6,x7,x8,x9 ≥ 0    \n",
    "\n",
    "Osa ehdoista on yhtälöitä johtuen siitä että kohteisiin tarvitaan täsmälleen oikea määrä soraa.    \n",
    "Toiset ehdot ovat epäyhtälöitä, joiden rajoitteina on varastojen sisältämät maksimimäärät.  "
   ]
  },
  {
   "cell_type": "markdown",
   "id": "8cf510e8",
   "metadata": {},
   "source": [
    "## Ratkaisu online laskimella  http://www.phpsimplex.com/en/ "
   ]
  },
  {
   "cell_type": "markdown",
   "id": "992350cf",
   "metadata": {},
   "source": [
    "1. Siirryttyäsi linkin sivulle, käynnistä 1. rivillä olevasta linkistä **PHPSimplex** laskimeen       \n",
    "\n",
    "2. Aloitussivulla kysytään muuttujien $x_i$ määrää ja rajoitteiden määrää.  Rajoitteiden määrään lasketaan varastohin liittyvät 3 epäyhtälöä ja kohteisiin liityvät 3 yhtälöä.     \n",
    "\n",
    "$\\color{blue}{\\text{    How many decision variables are the problem? }}   \\color{red}9$  \n",
    "$\\color{blue}{\\text{    How many constraints? }}   \\color{red}6$\n",
    "\n",
    "3. Paina Continue - painiketta. Avautuvassa lomakkeessa kysytään aluksi, haetaanko funktiolle maksimia vai minimiä. Oletusarvona on maksimi, mikä kuljetusprobleemassa pitää muistaa vaihtaa.     \n",
    "\n",
    "$\\color{blue}{\\text{   What is the objective of the function? }}   \\color{red}{minimize}$       \n",
    "\n",
    "4. Täytä kohtaan **Function:** tavoitefunktion kertoimet 32, 54, 17, 26, ....      \n",
    "\n",
    "5. Täytä kohtaan **Constraints:** kutakin ehtoa vastaavat kertoimet, yhtäsuuruus tai erisuuruusmerkki, sekä rajoitteen oikean puolen arvo. \n",
    "\n",
    "Esim. ensimmäinen rajoite on yhtälö x1 + x2 + x3 = 1200.     \n",
    "Kirjoita lomakkeeseen muuttujien x1, x2 ja x3 kertoimiksi luku 1,  muuta ≤ -merkki = - merkiksi, kirjoita rivin loppuun 1200.  Muiden muuttujien kertoimet ovat nollia, ne voi jättää tyhjäksi.   \n",
    "\n",
    "Täytetty lomake näyttää seuraavalta:     \n",
    "![simp](images/kuva22.PNG) \n",
    "\n",
    "6. Paina **Continue** painiketta\n",
    "\n",
    "7. Valitse **Direct Solution**  ja saat ratkaisun, jonka ylärivillä on tavoitefunktion maksimiarvo, ja alemmilla riveillä optimia vastaavat muuttujien arvot  (kuljetusmäärät kustakin varastosta kuhunkin kohteeseen)    \n",
    "\n",
    "The optimal solution value is Z = 99900      \n",
    "X1 = 0                 \n",
    "X2 = 0                \n",
    "X3 = 1200               \n",
    "X4 = 1100                \n",
    "X5 = 0               \n",
    "X6 = 800             \n",
    "X7 = 0              \n",
    "X8 = 2100              \n",
    "X9 = 0            "
   ]
  },
  {
   "cell_type": "markdown",
   "id": "bede0086",
   "metadata": {},
   "source": [
    "Optimiratkaisua vastaavat kuljetusmäärät taulukkoon täydennettyinä          \n",
    "![optimi](images/kuva25.PNG)"
   ]
  }
 ],
 "metadata": {
  "jupytext": {
   "cell_metadata_filter": "-all",
   "notebook_metadata_filter": "-all",
   "text_representation": {
    "extension": ".md",
    "format_name": "markdown"
   }
  },
  "kernelspec": {
   "display_name": "Python 3 (ipykernel)",
   "language": "python",
   "name": "python3"
  },
  "language_info": {
   "codemirror_mode": {
    "name": "ipython",
    "version": 3
   },
   "file_extension": ".py",
   "mimetype": "text/x-python",
   "name": "python",
   "nbconvert_exporter": "python",
   "pygments_lexer": "ipython3",
   "version": "3.9.7"
  }
 },
 "nbformat": 4,
 "nbformat_minor": 5
}
