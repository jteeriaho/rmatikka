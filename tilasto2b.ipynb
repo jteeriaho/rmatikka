{
 "cells": [
  {
   "cell_type": "markdown",
   "id": "58d5a3e4",
   "metadata": {},
   "source": [
    "# Regressioanalyysi   "
   ]
  },
  {
   "cell_type": "markdown",
   "id": "c30486f7",
   "metadata": {},
   "source": [
    "       \n",
    "Regressioanalyysissä tutkitaan yhden tai useamman selittävän muuttujan vaikutusta selitettävään muuttujaan.     \n",
    "\n",
    "Analyysin tuloksena saadaan matemaattinen malli $y = f(x_1,..., x_n)$, missä y on ns. **selitettävä muuttuja** *(dependent variable)* ja $x_1,....,x_n$  ovat ns. **selittäviä muuttujia** *(independent variables)*.   \n",
    "\n",
    "Yleisimmässä, ns. **lineaarisessa regressiomallissa**  pyritään löytämään lineaarinen funktio   \n",
    "$y = b_0 + b_1 x_1 +....+ b_n x_n$ , joka kuvaa muuttujan y riippuvuutta selittävistä muuttujista $x_i$.   \n",
    "\n",
    "Lineaariseen regressioanalyysiin tarvittavat funktiot löytyvät hyvistä laskimista, sekä Excelistä."
   ]
  },
  {
   "cell_type": "markdown",
   "id": "7bcefbbb",
   "metadata": {},
   "source": [
    "## Yhden muuttujan lineaarinen regressio - pienimmän neliösumman suora"
   ]
  },
  {
   "cell_type": "markdown",
   "id": "62957a1e",
   "metadata": {},
   "source": [
    "**Yhden muuttujan regressioanalyysissä**  (x,y) - pareja sisältävään mittausdataan pyritään sovittamaan suoran yhtälö y = a x + b siten, että suora mahdollisimman hyvin kuvaisi muuttujien x ja y välistä riippuvuutta.     \n",
    "\n",
    "Suoran sovitus tapahtuu määrittämällä kulmakerroin a  ja vakio b siten, että havaittujen y-arvojen ja mallista laskettujen y - arvojen erotusten $y_i - (a x_i + b)$ neliöiden summa on mahdollisimman pieni. Tästä periaatteesta johtuu nimitys **pienimmän neliösumman suora**  "
   ]
  },
  {
   "cell_type": "markdown",
   "id": "56c6e213",
   "metadata": {},
   "source": [
    "### Esimerkki"
   ]
  },
  {
   "cell_type": "markdown",
   "id": "0f1491fc",
   "metadata": {},
   "source": [
    "**Määritä regressiosuoran y = a x + b  parametrit a ja b perustuen seuraavaan mittausdataan**      \n",
    "\n",
    "\n",
    "| x |  1.0 |  1.5 |  2.0 |  2.5 |  3.0 |  3.5 |\n",
    "|:-:|:----:|:----:|:----:|:----:|:----:|:----:|\n",
    "| y | 42.5 | 42.8 | 43.2 | 43.5 | 43.9 | 44.2 |     \n",
    "\n",
    "Tapa1: (harvinainen, yleensä regressioanalyysi tehdään tilasto-ohjelmistolla tai Excelillä)      \n",
    "\n",
    "Muodostetaan ns. residuaalivektori **e** mallin antamien ja havaittujen y-arvojen erotuksista.     \n",
    "$e = (a\\cdot 1+b-42.5, a\\cdot1.5+b-42.8, a\\cdot2+b-43.2,a\\cdot2.5+b-43.5, a\\cdot3+b-43.9,a\\cdot3.5+b-44.2)$    \n",
    "\n",
    "Residuaalivektorin komponentit näkyvä ao. kuvassa pystyviivoina       \n",
    "![res](images/kuva60.PNG)        \n",
    "\n",
    "Minimoidaan residuaalien neliösumma käyttäen WolframAlphan minimize komentoa.       \n",
    "$\\text{minimize } (a\\cdot 1.0+ b-42.5)^2 + (a\\cdot 1.5+ b-42.8)^2+ (a\\cdot 2+ b-43.2)^2$     \n",
    "$+ (a\\cdot 2.5+ b-43.8)^2+ (a\\cdot 3+ b-43.9)^2+ (a\\cdot 3.5+ b-44.2)^2$\n",
    "\n",
    "Tulos:  kulmakerroin a = 0.6914 ja vakio b = 41.7943    \n",
    "![res2](images/kuva61.PNG)"
   ]
  },
  {
   "cell_type": "markdown",
   "id": "8627594e",
   "metadata": {},
   "source": [
    "```{admonition} Tapa2. Yhden muuttujan regressioanalyysi Excelillä - ohjeet\n",
    ":class: dropdown  \n",
    "> Mikäli parametrien a ja b arvot riittävät ilman virherajojen määritystä, on helpointa käyttää Excelin grafiikkaan > liittyvää Trendiviiva toimintoa.       \n",
    "> Siinä havaintodatasta luodaan ensin pistekaavio, johon lisätään lineaarinen trendiviiva yhtälöineen ao. kuvasarjan mukaisesti. \n",
    "![trend](images/kuva62.PNG)       \n",
    "\n",
    "> Mittaussarjaan perustuva regressioanalyysi on altis satunnaisuudesta otantavirheelle.   \n",
    "> Satunnaisuuden lisäksi y:n arvojen vaihteluun voi olla muitakin selittäviä tekijöitä kuin muuttuja x.      \n",
    ">\n",
    ">Parametrien satunnaiseen vaihteluun ja mallin hyvyyteen liittyviä tuloksia saadaan käyttämällä Excelin funktiota LINREGR, joka antaa mm. parametrien a ja b keskivirheet, sekä mallin selitysasteen R².     \n",
    "![trend](images/kuva63.PNG)\n",
    "```"
   ]
  },
  {
   "cell_type": "markdown",
   "id": "48ea5316",
   "metadata": {},
   "source": [
    "### Monen muuttujan lineaarinen regressio  ( väh. 2 selittävää muuttujaa)"
   ]
  },
  {
   "cell_type": "markdown",
   "id": "3c01d896",
   "metadata": {},
   "source": [
    "Jos data koostuu pistekolmikoista $(x_1,x_2,y)$, missä y on selitettävä muuttuja ja $x_1$ ja $x_2$ selittäviä muuttujia, niin lineaarinen malli on muotoa $y = a_1 x_1 + a_2 x_2 + b$.  Geometrisesti malli edustaa tasoa 3D avaruudessa.     \n",
    "\n",
    "Mallin parametreina on kaksi kulmakerrointa $a_1$ ja $a_2$ sekä vakiotermi b.   \n",
    "\n",
    "Parametrien arvot määräytyvät siten, että residuaalien $e_i = y_i – (ax_{1i} + bx_{2i} + c)$   neliösummalla on minimikohta.    \n",
    "\n",
    "![3d](images/kuva64.PNG)"
   ]
  },
  {
   "cell_type": "markdown",
   "id": "cddd7f02",
   "metadata": {},
   "source": [
    "```{admonition} Monen muuttujan regressioanalyysi Excelillä - esimerkki ja ohjeet\n",
    ":class: dropdown  \n",
    "> Taulukossa on nettiauto.com sivustolta tietoja Skoda Octavia -merkkisten vaihtoautojen hinnoista.     \n",
    "> Selittäviä muuttujia on km-määrä ja vuosimalli.      \n",
    "> Kuvasarja esittää regressioanalyysi Excel:n funktiota LINREGR käyttäen  \n",
    "\n",
    "![trend](images/kuva65.PNG)\n",
    "```"
   ]
  },
  {
   "cell_type": "markdown",
   "id": "97c5daac",
   "metadata": {},
   "source": [
    "##  Epälineaarisia regressiomalleja"
   ]
  },
  {
   "cell_type": "markdown",
   "id": "f25915ef",
   "metadata": {},
   "source": [
    "Excelin grafiikan trendiviiva - toiminto sisältää lineaarisen mallin lisäksi muitakin yhden muuttujan regressiomalleja:      \n",
    "\n",
    "eksponenttimalli $y = a e^{bx}$, logaritmimalli $y = a \\text{ ln}(x) +  b$, polynomimallit asteluvuille 0 - 6, esim. $y =a x^2 + b x + c $, potenssimalli $y = a x^{b}$.     \n"
   ]
  },
  {
   "cell_type": "markdown",
   "id": "720db30c",
   "metadata": {},
   "source": [
    "Excel-ohje:  \n",
    "1. Luo pistekaavio datasta    \n",
    "2. Klikkaa jotain datapistettä käyttäen hiiren oikeaa painiketta. Valitse Lisää Trendiviiva     \n",
    "3. Valitse haluamasi malli kuvagalleriasta            \n",
    "4. Rastita kohta Näytä kaava kaaviossa    \n",
    "\n",
    "Kuvissa eksponenttimallin ja 2. asteen polynomimallin sovitus datapisteisiin.     \n",
    "![malleja](images/kuva67.PNG)      \n",
    "\n",
    "  \n",
    "Epälineaarisissa malleissa ei voi käyttää LINREGR funktiota, eikä niistä siten ole saatavissa mallin parametrien keskivirheitä.  Mallin selitysaste $R^2$ sen sijaan saadaan näkyviin rastittamalla sitä vastaava optio trendiviiva -lomakkeessa. "
   ]
  }
 ],
 "metadata": {
  "jupytext": {
   "cell_metadata_filter": "-all",
   "notebook_metadata_filter": "-all",
   "text_representation": {
    "extension": ".md",
    "format_name": "markdown"
   }
  },
  "kernelspec": {
   "display_name": "Python 3 (ipykernel)",
   "language": "python",
   "name": "python3"
  },
  "language_info": {
   "codemirror_mode": {
    "name": "ipython",
    "version": 3
   },
   "file_extension": ".py",
   "mimetype": "text/x-python",
   "name": "python",
   "nbconvert_exporter": "python",
   "pygments_lexer": "ipython3",
   "version": "3.9.7"
  }
 },
 "nbformat": 4,
 "nbformat_minor": 5
}
