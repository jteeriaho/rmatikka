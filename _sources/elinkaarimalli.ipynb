{
 "cells": [
  {
   "cell_type": "markdown",
   "id": "58d5a3e4",
   "metadata": {},
   "source": [
    "# Elinkaarimalli  "
   ]
  },
  {
   "cell_type": "markdown",
   "id": "19b00027",
   "metadata": {},
   "source": [
    "## Elinkaarimalli julkisessa rakentamisessa"
   ]
  },
  {
   "cell_type": "markdown",
   "id": "8df0985e",
   "metadata": {},
   "source": [
    "**Elinkaarimalli** on suomalainen versio kansainvälisestä Public Private Partnership (PPP) hankintamallista.\n",
    "Elinkaari tai PPP mallilla toteutettavassa hankinnassa yksityinen yritys vastaa julkisen hankkeen toteutuksesta\n",
    "kokonaisuutena ja tyypillisesti huomattavasti tavanomaisia sopimuksia pidemmän ajan     "
   ]
  },
  {
   "cell_type": "markdown",
   "id": "997c6bff",
   "metadata": {},
   "source": [
    "**Elinkaarikustannuslaskennan teoria on yksinkertainen** ja perustuu koronkorkolaskentaan."
   ]
  },
  {
   "cell_type": "markdown",
   "id": "45fe11c3",
   "metadata": {},
   "source": [
    "Monimutkaisinta siinä on se, että pitää osata mallintaa tarkasteltavan investointikohteen elinkaari: mikä on kohteen pitoaika? Millaisia kustannuksia syntyy käytön aikana? Millaisia tuottoja investointikohteesta saadaan sen käytön aikana?"
   ]
  },
  {
   "cell_type": "markdown",
   "id": "6a65c511",
   "metadata": {},
   "source": [
    "**Kenen intresseissä on, että rakennus on elinkaariedullinen tai taloudellinen?**     \n",
    "\n",
    "Suurin intressi on rakennuksen omistajalla. Varsinkin, jos rakennettava tai korjattava rakennus aiotaan pitää omistuksessa pitkään, on omistajan etu että rakennus palvelee käyttäjiään ja pitoajalla syntyvä kulurakenne on terve .       \n",
    "\n",
    "Tosin uudet toteutusmallit, ns. elinkaaritoteutusmallit, pakottavat myös rakentajat ottamaan huomiin käytön aikaiset tuotot ja kustannukset. Elinkaaritoteutuksessahan urakoitsija vastaa ainakin osittain käytön aikaisista kustannuksista (esim. Lahden moottoritie ja Kuninkaantien lukio Espoossa)"
   ]
  },
  {
   "cell_type": "markdown",
   "id": "720bf905",
   "metadata": {},
   "source": [
    "**Elinkaarikustannukset**                   \n",
    "\n",
    "Rakennuksen pitämisestä aiheutuu kustannuksia sen koko elinkaaren ajan. Vastaavasti kustannukset on katettava\n",
    "vuokrilla, vastikkeilla ja muilla käyttökorvauksilla sekä rakennuksen tai sen osien myynnistä saata villa tuotoilla\n",
    "(jäännösarvo)"
   ]
  },
  {
   "cell_type": "markdown",
   "id": "6d8c9df6",
   "metadata": {},
   "source": [
    "**Rakennuksen elinkaarikustannuksia ovat mm. seuraavat:**\n",
    "\n",
    "> Rakennuskustannukset      \n",
    "> Ylläpitokustannukset (hoito ja kunnossapito)             \n",
    "> Muutoskorjauskustannukset             \n",
    "> Ajanmukaistamiskustannukset              \n",
    "> Purkukustannukset       "
   ]
  },
  {
   "cell_type": "markdown",
   "id": "bcdcdd3c",
   "metadata": {},
   "source": [
    "**Kuinka pitkä on tarkastelujakso, jolle elinkaarikustannukset lasketaan?**    \n",
    "\n",
    "Asuinrakennuksilla taloudellinen pitoaika on ollut 30 - 40 vuotta         \n",
    "\n",
    "Toimisto- ja liikerakennuksilla n. 20 vuotta"
   ]
  },
  {
   "cell_type": "markdown",
   "id": "56d1ef43",
   "metadata": {},
   "source": [
    "### Kiinteistön elinkaarikustannukset, kun rakennus pidetään purkamiseen asti"
   ]
  },
  {
   "cell_type": "markdown",
   "id": "b7994bd5",
   "metadata": {},
   "source": [
    "> Nollaviivan alapuolella olevat pylväät ovat kustannuksia sisältäen rakennuskustannusten lisäksi ylläpito-, muutos- ja purkukustannuksia.       \n",
    "> Nollaviivan yläpuolella ovat vuokratuotot. Elinkaaren lopussa rakennuksen jäännösarvo on vähäinen.      \n",
    "\n",
    "![elink](images/kuva35.PNG)"
   ]
  },
  {
   "cell_type": "markdown",
   "id": "3688c4a5",
   "metadata": {},
   "source": [
    "### Kiinteistön elinkaarikustannukset, kun rakennuksella on arvoa myytäessä"
   ]
  },
  {
   "cell_type": "markdown",
   "id": "e0c810ff",
   "metadata": {},
   "source": [
    "> Erona edelliseen tässä kuvassa näkyy rakennuksesta pitoajan lopussa saatava myyntitulo. "
   ]
  },
  {
   "cell_type": "markdown",
   "id": "813be465",
   "metadata": {},
   "source": [
    "![elink2](images/kuva36.PNG)"
   ]
  },
  {
   "cell_type": "markdown",
   "id": "e5da8479",
   "metadata": {},
   "source": [
    "> **Rakennuskustannukset** sisältävät rakennustekniikan, talotekniikan ja hankepalvelujen kustannukset.      \n",
    ">> Rakennuskustannusten lisäksi kiinteistöstä aiheutuu kustannuksia mm. tontista ja liittymistä.        \n",
    ">> Kiinteistökustannukset voivat syntyä heti tai tulevan elinkaaren aikana.       \n",
    "\n",
    "> **Ylläpitokustannukset** muodostuvat puolestaan kiinteistönhoidosta ja kunnossapidosta.      \n",
    ">> A. Kiinteistön hoitokustannukset sisältävät isännöinnin, rakennuksen ja ulkoalueiden huollon,\n",
    ">> siivouksen, energian ja veden kulutuksen, vuosikorjaukset, vakuutukset ja verot.      \n",
    ">> B. Kunnossapitokustannukset aiheutuvat sykleittäin toistuvista kunnostus tai uusimistoimen piteistä, joilla\n",
    ">> pidetään rakennus ja sen osat toimintakunnossa. Purkukustannukset syntyvät rakennuksen elinkaaren lopussa."
   ]
  }
 ],
 "metadata": {
  "jupytext": {
   "cell_metadata_filter": "-all",
   "notebook_metadata_filter": "-all",
   "text_representation": {
    "extension": ".md",
    "format_name": "markdown"
   }
  },
  "kernelspec": {
   "display_name": "Python 3 (ipykernel)",
   "language": "python",
   "name": "python3"
  },
  "language_info": {
   "codemirror_mode": {
    "name": "ipython",
    "version": 3
   },
   "file_extension": ".py",
   "mimetype": "text/x-python",
   "name": "python",
   "nbconvert_exporter": "python",
   "pygments_lexer": "ipython3",
   "version": "3.9.7"
  }
 },
 "nbformat": 4,
 "nbformat_minor": 5
}
