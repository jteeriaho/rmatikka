{
 "cells": [
  {
   "cell_type": "markdown",
   "id": "58d5a3e4",
   "metadata": {},
   "source": [
    "# Osittaisderivaatat    "
   ]
  },
  {
   "cell_type": "markdown",
   "id": "c91833db",
   "metadata": {},
   "source": [
    "Edellä käsiteltiin yhden muuttujan funktioiden f(x) derivaattoja, joiden arvot kuvaavat funktion kasvunopeutta tangentin kulmakertoimen avulla.\n",
    "\n",
    "Usean muuttujan funktiolle voidaan laskea ns. **osittaisderivaatat** kunkin muuttujan suhteen. Osittaisderivaatat lasketaan aiemmin esitetyillä derivoimiskaavoilla. Laskettaessa osittaisderivaattaa jonkin muuttujan suhteen, käsitellään muita funktion muuttujia vakioina.     \n",
    "\n",
    "Osittaisderivaattoja voidaan myös tulkita geometrisesti.  Esim. kahden muuttujan funktion z = f(x,y) kuvaaja on pinta 3D- avaruudessa. Osittaisderivaatat kohdassa $(x_0,y_0)$ antavat pinnan tangentin kulmakertoimet koordinaattiakselien suunnassa kyseisessä pisteessä."
   ]
  },
  {
   "cell_type": "markdown",
   "id": "1e1c9a40",
   "metadata": {},
   "source": [
    "```{admonition} **Osittaisderivaattojen merkintätavat**\n",
    ":class: tip\n",
    "Olkoon f(x,y) kahden muuttujan funktio, jolla on osittaisderivaatat molempien muuttujien suhteen.     \n",
    "\n",
    "Osittaisderivaattaa muuttujien x ja y suhteen merkitään $ \\frac{\\partial f}{\\partial x}$ ja $ \\frac{\\partial f}{\\partial y}$.      \n",
    "<span style=\"color: brown;\">     *(luetaan: \"doo ef doo x\")*</span>     \n",
    "\n",
    "Myös $f_x$ ja $D(f,x)$, sekä $f_y$ ja $D(f,y)$  ovat mahdollisia merkintätapoja.   \n",
    "\n",
    "\n",
    "```"
   ]
  },
  {
   "cell_type": "markdown",
   "id": "6d7802d0",
   "metadata": {},
   "source": [
    "````{admonition} Laske lausekkeen $y x^2+4x+5y$ osittaisderivaatat.\n",
    ":class: dropdown\n",
    "Ratkaisu:\n",
    "```{admonition} a) Osittaisderivaatta x:n suhteen D($y x^2+4x+5y,x)$\n",
    ":class: dropdown\n",
    "Derivointi kohdistetaan muuttujan x potensseihin, y:tä käsitellään vakiona     \n",
    "\n",
    "D ($y\\color{red}{x^2}\\color{black}+4\\color{red}{x}\\color{black}+5y,\\color{red}{x})$ = $y\\cdot \\color{red}{2x}\\color{black}+4\\cdot \\color{red}{1}\\color{black}+0$ = $2xy+4$\n",
    "```\n",
    "```{admonition} b) Osittaisderivaatta y:n suhteen D($y x^2+4x+5y,y)$\n",
    ":class: dropdown\n",
    "Derivointi kohdistetaan muuttujan y potensseihin, x:ää käsitellään vakiona     \n",
    "\n",
    "D ($\\color{red}{y}\\color{black} x^2+4x+5\\color{red}{y},\\color{red}{y})$ = $ \\color{red}{1}\\cdot\\color{black} x^2+0+5\\cdot \\color{red}{1}$ = $\\color{black}x^2+5$\n",
    "```\n",
    "````"
   ]
  },
  {
   "cell_type": "markdown",
   "id": "5ac098c3",
   "metadata": {},
   "source": [
    "```{admonition} Sähköteho lasketaan kaavalla P = $\\frac {U^2}{R}$. Laske tehon lausekkeen osittaisderivaatat muuttujien U (jännite) ja R (resistanssi) suhteen.\n",
    ":class: dropdown\n",
    "\n",
    "$\\frac{\\partial P}{\\partial U}$ = $D(\\frac {\\color {red} U^2}{R},\\color {red}U)$ = $\\frac {2U}{R}$      \n",
    "\n",
    "$\\frac{\\partial P}{\\partial R}$ = $D(\\frac { U^2}{\\color {red}R},\\color {red}R)$ = $-\\frac {U^2}{R^2}$      \n",
    "\n",
    "(käytetty kaavoja:   $Dx^2=2x$  ja $D\\frac {1}{x}=-\\frac {1}{x^2}$)\n",
    "```"
   ]
  },
  {
   "cell_type": "markdown",
   "id": "facc57c1",
   "metadata": {},
   "source": [
    "```{admonition} Neliöpohjaisen laatikon tilavuus $V(a,h) = a^2 h$. Laske funktion V osittaisderivaatat muuttujien a ja h suhteen       \n",
    ":class: dropdown\n",
    "![laatikko](images/kuva4.PNG)  \n",
    "$\\frac{\\partial V}{\\partial a}$ = $D(a^2 h,a)$ = $2ah$      \n",
    "\n",
    "$\\frac{\\partial V}{\\partial h}$ = $D(a^2 h,h)$ = $a^2$     \n",
    "\n",
    "```"
   ]
  },
  {
   "cell_type": "markdown",
   "id": "27512f70",
   "metadata": {},
   "source": [
    "##  Funktion f(x,y) gradientti  $\\nabla f$"
   ]
  },
  {
   "cell_type": "markdown",
   "id": "79b1ed30",
   "metadata": {},
   "source": [
    "```{admonition} Gradientin määritelmä\n",
    ":class: tip\n",
    "Funktion f(x,y) **gradientti** on sen osittaisderivaattojen muodostama vektori $(\\frac{\\partial f}{\\partial x},\\frac{\\partial f}{\\partial y})$. Gradienttia merkitään usein $\\nabla f$.       \n",
    "\n",
    "Kahden muuttujan funktion z = f(x,y) kuvaaja 3D avaruudessa on pinta. Pisteessä (x,y) laskettu funktion f gradienttivektori kertoo, mihin suuntaan funktio kasvaa nopeimmin pinnan pisteessä (x,y,z), missä z=f(x,y)).      \n",
    "\n",
    "Esim. Funktion $z = f(x,y) =  4 - x^2- y^2$ kuvaaja on alaspäin aukeava paraboloidi.    \n",
    "Sen gradienttivektorin yleinen lauseke on $(\\frac{\\partial f}{\\partial x},\\frac{\\partial f}{\\partial y})$ = $(-2x,-2y)$. \n",
    "\n",
    "Kysyttäessä missä suunnassa pisteestä (1,0.5) on paraboloidin huippu, voidaan vastauksena antaa gradienttivektori $(-2\\cdot 1,-2\\cdot 0.5) = (-2,-1)$.  \n",
    "\n",
    "![nabla](images/kuva23.PNG)\n",
    "```"
   ]
  },
  {
   "cell_type": "markdown",
   "id": "032d4d3e",
   "metadata": {},
   "source": [
    "```{admonition} Määritä funktion $f(x,y) = 2 x^2 + 5 x y + y^2$ a) gradienttivektorin yleinen lauseke b) gradientti pisteessä (3,2). \n",
    ":class: dropdown     \n",
    "a) Gradientti muodostuu osittaisderivatoista:  $\\nabla f = (\\frac{\\partial f}{\\partial x},\\frac{\\partial f}{\\partial y}) =(4x+5y, 5x+2y)$     \n",
    "\n",
    "b) Pisteessä (3,2) gradientin arvo on $(4\\cdot 3+5\\cdot 2, 5\\cdot 3+2\\cdot 2) = (22, 19) $\n",
    "```"
   ]
  },
  {
   "cell_type": "markdown",
   "id": "9874a9c5",
   "metadata": {},
   "source": [
    "## Korkeamman asteen derivaatat"
   ]
  },
  {
   "cell_type": "markdown",
   "id": "c55e720d",
   "metadata": {},
   "source": [
    "Funktion y = f(x) derivointia voidaan jatkaa derivaatan $f'(x)$ laskemisen jälkeen edelleen. Näin saadaan *korkeamman asteen derivaattoja*:      \n",
    "\n",
    "toinen derivaatta $f''(x)$ , jota voidaan merkitä myös y'  tai $ \\frac{d^2f(x)}{dx^2} $  \n",
    "kolmas derivaatta $f'''(x)$      \n",
    "j.n.e"
   ]
  },
  {
   "cell_type": "markdown",
   "id": "6ed9b898",
   "metadata": {},
   "source": [
    "```{admonition} Laske funktion $y = 2x^3 + 5x^2 + 7x + 2$ kolme ensimmäistä derivaattaa.\n",
    ":class: tip\n",
    "$y' = 6x^2 + 10 x + 7$       \n",
    "$y''= 12 x + 10 $      \n",
    "$y''' = 12 $\n",
    "```"
   ]
  },
  {
   "cell_type": "markdown",
   "id": "f74d8c6e",
   "metadata": {},
   "source": [
    "## Derivaatat antavat tietoa funktion kulusta"
   ]
  },
  {
   "cell_type": "markdown",
   "id": "9b8624c9",
   "metadata": {},
   "source": [
    "Funktion y = f(x) derivaatta on funktion kuvaajan tangentin kulmakerroin. Siten\n",
    "\n",
    "1) Jos $f'(x) > 0$ , funktion on kasvava     \n",
    "\n",
    "\n",
    "2) Jos $f'(x) < 0$ , funktion on vähenevä      \n",
    "\n",
    "\n",
    "3) Jos $f'(x) = 0$ , funktiolla on usein ääriarvo: minimi tai maksimi      \n",
    "\n",
    "![deriv](images/kuva5.PNG)"
   ]
  },
  {
   "cell_type": "markdown",
   "id": "00d25900",
   "metadata": {},
   "source": [
    "```{admonition} Millä x:n arvolla lauseke $2.5 + 6.0x -1.5x^2$ saa suurimman arvonsa.\n",
    ":class: dropdown\n",
    "Funktion kuvaaja on alaspäin aukeava paraabeli, jonka maksimikohdassa derivaatta = 0      \n",
    "\n",
    "Lasketaan derivaatan nollakohta: D$(2.5 + 6.0 x - 1.5 x^2) = 6.0 - 3.0 x = 0$     \n",
    "=> $x = 6.0/3.0 = 2.0$      \n",
    "\n",
    "Suurin arvo löytyy kohdasta x = 2 ja se on $2.5 + 6\\cdot 2 - 1.5\\cdot 2^2$ = 8.5\n",
    "```"
   ]
  },
  {
   "cell_type": "markdown",
   "id": "8ad00b98",
   "metadata": {},
   "source": [
    "### Toisen derivaatan $f''(x)$ merkki kertoo käyrän kuperuussuunnan"
   ]
  },
  {
   "cell_type": "markdown",
   "id": "46d05703",
   "metadata": {},
   "source": [
    "![kuperuus](images/kuva6.PNG)"
   ]
  },
  {
   "cell_type": "markdown",
   "id": "1f50cfe3",
   "metadata": {},
   "source": [
    "```{admonition} Ääriarvon laadun määrääminen\n",
    ":class: tip\n",
    "Kuten aiemmin on todettu, funktion suurin tai pienin arvo löytyvät usein derivaatan nollakohdasta.   \n",
    "Kun derivaatan nollakohta on löydetty, eikä funktion kuvaajaa ole käytettävissä, pitää vielä osoittaa ääriarvon laatu: ts. onko kyseessä maksimikohta vai minimikohta.     \n",
    "\n",
    "Eräs menetelmä ääriarvon laadun määräämiseksi on laskea funktion toinen derivaatta ko. pisteessä ja päätellä sen etumerkistä ääriarvon laatu: \n",
    "\n",
    "Jos $f''(x) > 0$ , niin kyseessä on minimikohta        (käyrä alaspäin kupera)         \n",
    "\n",
    "Jos $f''(x) < 0$ , niin kyseessä on mamksimikohta      (käyrä ylöspäin kupera) \n",
    "```"
   ]
  },
  {
   "cell_type": "markdown",
   "id": "49abcb2e",
   "metadata": {},
   "source": [
    "```{admonition} Määritä funktion $f(x) = e^x - x + 1$ pienin arvo\n",
    ":class: dropdown       \n",
    "Funktion derivaatan $f'(x) = e^x - 1$ nollakohta saadaan yhtälöstä $e^x = 1$, josta ratkaistuna x = ln(1)=0.     \n",
    "\n",
    "Lasketaan funktion 2. derivaatta  $f''(x) = e^x$ ääriarvon laadun määrittämiseksi.    \n",
    "Sen arvo derivaatan nollakohdassa on $f''(0) = e^0 = 1$,  joka on positiivinen.     \n",
    "Funktiolla f(x) on siten minimi kohdassa x=0.      \n",
    "Minimiarvo on $f(0) = e^0 - 0 + 1 = 1+1 = 2$ \n",
    "```"
   ]
  },
  {
   "cell_type": "markdown",
   "id": "79dc5f15",
   "metadata": {},
   "source": [
    "Huom! Nykyisin ääriarvon laadun määrittämiseen riittää useini funktion kuvaajan piirtäminen grafiikkalaskimella.   Ääriarvotehtäviä käsitellään myöhemmin laajemmin. "
   ]
  }
 ],
 "metadata": {
  "jupytext": {
   "cell_metadata_filter": "-all",
   "notebook_metadata_filter": "-all",
   "text_representation": {
    "extension": ".md",
    "format_name": "markdown"
   }
  },
  "kernelspec": {
   "display_name": "Python 3 (ipykernel)",
   "language": "python",
   "name": "python3"
  },
  "language_info": {
   "codemirror_mode": {
    "name": "ipython",
    "version": 3
   },
   "file_extension": ".py",
   "mimetype": "text/x-python",
   "name": "python",
   "nbconvert_exporter": "python",
   "pygments_lexer": "ipython3",
   "version": "3.9.7"
  }
 },
 "nbformat": 4,
 "nbformat_minor": 5
}
