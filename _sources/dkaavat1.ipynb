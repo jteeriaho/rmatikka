{
 "cells": [
  {
   "cell_type": "markdown",
   "id": "58d5a3e4",
   "metadata": {},
   "source": [
    "# Derivoimiskaavoja   "
   ]
  },
  {
   "cell_type": "markdown",
   "id": "c30486f7",
   "metadata": {},
   "source": [
    "       \n",
    "Derivaattafunktion määrittämisen eli **derivoinnin** perinteinen menetelmä on derivoimiskaavojen käyttäminen. Derivoimiskaavoja löytyy matematiikan taulukkokirjoista. Derivoimiskaavat on johdettu derivaatan raja-arvomääritelmää käyttäen. Osa kaavoista on ilmeisiä.    \n",
    "\n",
    "Nykyisin derivaatan laskeminen on vielä helpompaa, koska se voidaan tehdä algebralaskimilla.    \n"
   ]
  },
  {
   "cell_type": "markdown",
   "id": "42ccff8a",
   "metadata": {},
   "source": [
    "## Potenssifunktion derivaatta"
   ]
  },
  {
   "cell_type": "markdown",
   "id": "1e1c9a40",
   "metadata": {},
   "source": [
    "```{admonition} **Vakiofunktion ja potenssifunktion derivaatta**\n",
    ":class: tip\n",
    "Seuraavissa kaavoissa käytetään derivaatasta merkintää Df(x)    \n",
    "\n",
    "1.  D(c) = 0                 (vakiofunktion f(x) = c derivaatta = 0)\n",
    "\n",
    "2.  $Dx^n = n x^{n-1}$     (potenssifunktion derivaatta)\n",
    "\n",
    "3.  D(x) = 1 \n",
    "\n",
    "4.  $D\\frac {1}{x^n}$ =  $- \\frac {n}{x^{n+1}}$  \n",
    "\n",
    "```"
   ]
  },
  {
   "cell_type": "markdown",
   "id": "a0125815",
   "metadata": {},
   "source": [
    "Kaavojen perusteluja:\n",
    "1. Vakiofunktion f(x) = c kuvaaja on vaakasuora viiva, jonka kulmakerroin = 0    \n",
    "       \n",
    "\n",
    "2. Jaollisuusopin kaavan mukaan derivaatan määritelmän mukainen erotusosamäärä sievenee muotoon       \n",
    "$f'(x_0)=\\underset{x\\to x_0}{lim}\\frac{x^n-x_0^n}{x-x_0}= \\underset{x\\to x_0}{lim}(x^{n-1}+x^{n-2}x_0+x^{n-3}x_0^2+...+x_0^{n-1})$      \n",
    "$\\hspace{36mm}= x_0^{n-1}+x_0^{n-1}x_0+... + x_0^{n-1} = nx_0^{n-1}$      \n",
    "         \n",
    "\n",
    "3. Suoran f(x) = x  kulmakerroin eli derivaatta on 1. Kaavan voi myös johtaa sijoittamalla n=1 kaavaan (2), jolloin saadaan $Dx^1 = 1\\cdot x^0 = 1$     \n",
    "        \n",
    "\n",
    "4. Kaavaa (2) voidaan soveltaa myös, kun potenssi n on negatiivinen.  Tällöin $D\\frac {1}{x^n} = Dx^{-n}=-n x^{-n-1} = -\\frac {n}{x^{n+1}}$"
   ]
  },
  {
   "cell_type": "markdown",
   "id": "dd3a8f77",
   "metadata": {},
   "source": [
    "````{admonition} Laske funktion $f(x) = x^5$ a) derivaattafunktio, b) tangentin kulmakerroin kohdassa x=2, c) tangentin kulmakerroin kohdassa x = -1.\n",
    ":class: dropdown\n",
    "a) $f'(x) = Dx^5 = 5 x^4$       \n",
    "b) $f'(2) = 5*2^4 = 80$       \n",
    "c) $f'(-1) = 5*(-1)^4 = 5$\n",
    "````"
   ]
  },
  {
   "cell_type": "markdown",
   "id": "d6ed13d6",
   "metadata": {},
   "source": [
    "````{admonition} Derivoi a) $x^{2015}$, b) $\\frac {1}{x}$ c) $\\frac {1}{x^5}$\n",
    ":class: dropdown\n",
    "a) $Dx^{2015} = 2015 x^{2014}$   \n",
    "\n",
    "b) $D\\frac {1}{x} = -\\frac {1}{x^{1+1}}=-\\frac {1}{x^2} $   \n",
    "\n",
    "c) $D\\frac {1}{x^5} = -\\frac {5}{x^{5+1}}=-\\frac {5}{x^6} $\n",
    "````"
   ]
  },
  {
   "cell_type": "markdown",
   "id": "83919c6d",
   "metadata": {},
   "source": [
    "## Juurilausekkeiden derivointi"
   ]
  },
  {
   "cell_type": "markdown",
   "id": "96074e88",
   "metadata": {},
   "source": [
    "```{admonition} **Potenssin derivoimiskaavan sovellus murtopotensseihin**\n",
    ":class: tip\n",
    "\n",
    "Juurilausekkeet voidaan esittää myös potenssimuodossa käyttäen murtopotensseja:      \n",
    "$\\sqrt{x}=x^{\\frac {1}{2}}$ , $\\sqrt[3]{x} =x^\\frac{1}{3}$, $\\frac{1}{\\sqrt{x}}=x^{-\\frac{1}{2}}$     \n",
    "\n",
    "Juurilausekkeiden derivaatat voidaan laskea potenssin derivoimissäännöllä. Esim.      \n",
    "\n",
    "$D\\sqrt{x}= Dx^{\\frac {1}{2}}=\\frac {1}{2}x^{-\\frac {1}{2}}= \\frac{1}{2\\sqrt{x}}$    \n",
    "\n",
    "$D\\sqrt[3]{x}= Dx^{\\frac {1}{3}}=\\frac {1}{3}x^{-\\frac {2}{3}}= \\frac{1}{3\\sqrt[3]{x^2}}$\n"
   ]
  },
  {
   "cell_type": "markdown",
   "id": "01f76da9",
   "metadata": {},
   "source": [
    "## Polynomin derivointi   "
   ]
  },
  {
   "cell_type": "markdown",
   "id": "ae771b93",
   "metadata": {},
   "source": [
    "Polynomien derivointiin tarvitaan potenssifunktion derivoimissäännön lisäksi kaksi muuta sääntöä, joiden mukaan derivointi on lineaarinen operaatio: ts. vakion voi siirtää derivaattaoperaattorin eteen ja summafunktion derivaatta on sen termien derivaattojen summa.     "
   ]
  },
  {
   "cell_type": "markdown",
   "id": "56d6ab01",
   "metadata": {},
   "source": [
    "```{admonition} **Derivointioperaation lineaarisuussäännöt**\n",
    ":class: tip    \n",
    "\n",
    "1)   $D(a f(x)) = a Df(x)$ \n",
    "\n",
    "2)  $D(f(x)+g(x)) = Df(x) + Dg(x)$     \n",
    "\n",
    "```"
   ]
  },
  {
   "cell_type": "markdown",
   "id": "3b639ef1",
   "metadata": {},
   "source": [
    "```{admonition} Derivoi $-3x^3 + 5x^2 - 4x + 7$\n",
    ":class: dropdown\n",
    "$D(-3x^3 + 5x^2 - 4x + 7) =-3\\cdot 3x^2+5\\cdot 2x - 4\\cdot 1+ 0 =-9 x^2+ 10 x -4 $      \n",
    "\n",
    "```"
   ]
  },
  {
   "cell_type": "markdown",
   "id": "11757b55",
   "metadata": {},
   "source": [
    "```{admonition} Derivoi $5x^2 + \\frac {2}{x^2} - 5\\sqrt{x} + 3$\n",
    ":class: dropdown\n",
    "$D(5x^2 + \\frac {2}{x^2} - 5\\sqrt{x} + 3) =10x - \\frac {2\\cdot 2}{x^3}-5\\frac {1}{2\\sqrt{x}}=10x-\\frac {4}{x^3}-\\frac {5}{2\\sqrt{x}}$      \n",
    "\n",
    "```"
   ]
  },
  {
   "cell_type": "markdown",
   "id": "e5887091",
   "metadata": {},
   "source": [
    "## Erikoisfunktioiden derivoimiskaavoja"
   ]
  },
  {
   "cell_type": "markdown",
   "id": "375c1bf0",
   "metadata": {},
   "source": [
    "```{admonition} **Tavallisimpien erikoisfunktioiden derivoimiskaavoja**\n",
    ":class: tip    \n",
    "\n",
    "1)  $D\\hspace{2mm} sin(x) = cos(x)$ \n",
    "\n",
    "2)  $D\\hspace{2mm} cos(x) = - sin(x)$\n",
    "\n",
    "3)  $D\\hspace{2mm} tan(x) = \\frac {1}{cos(x)^2}$\n",
    "\n",
    "4)  $D\\hspace{2mm} e^x = e^x$\n",
    "\n",
    "5)  $D\\hspace{2mm} ln(x) = \\frac {1}{x}$\n",
    "```"
   ]
  },
  {
   "cell_type": "markdown",
   "id": "b9a67c85",
   "metadata": {},
   "source": [
    "```{admonition} Derivoi $5 sin(x) - 2 cos(x) - 3 ln(x) + 4 e^x$\n",
    ":class: dropdown\n",
    "$D(5 sin(x) - 2 cos(x) - 3 ln(x) + 4 e^x)$ =      \n",
    "\n",
    "$5 cos(x) + 2 sin(x) - \\frac {3}{x} + 4 e^x$\n",
    "\n",
    "```"
   ]
  },
  {
   "cell_type": "markdown",
   "id": "b30059cb",
   "metadata": {},
   "source": [
    "## Derivointi WolframAlpha laskimella"
   ]
  },
  {
   "cell_type": "markdown",
   "id": "f56434d1",
   "metadata": {},
   "source": [
    "esim. WoframAlpha-komento  $\\color {red} {D(-3x^3 + 5x^2 - 4x + 7)}$    \n",
    "\n",
    "antaa vastaukseksi $\\color {blue} {-9x^2+10x-4}$      \n"
   ]
  },
  {
   "cell_type": "markdown",
   "id": "6e47e5bb",
   "metadata": {},
   "source": [
    "## Tulon ja osamäärän derivoimiskaavat"
   ]
  },
  {
   "cell_type": "markdown",
   "id": "8ca68a63",
   "metadata": {},
   "source": [
    "Perusfunktioista voidaan lineaariyhdistelmien lisäksi muodostaa monimutkaisempia funktioita kerto- ja jakolaskun avulla. Näiden funktioiden derivoinnissa tarvitaan **tulon ja osamäärän derivoimiskaavoja**.  "
   ]
  },
  {
   "cell_type": "markdown",
   "id": "bc3cfb48",
   "metadata": {},
   "source": [
    "```{admonition} **Tulon derivoimiskaava**\n",
    ":class: tip    \n",
    "\n",
    "$D\\hspace{2mm}(f(x)\\cdot g(x)) = f'(x)\\cdot g(x) + f(x)\\cdot g'(x)$  \n",
    "\n",
    "Tulon derivaatta on summalauseke, jossa on derivoitu yhtä tekijää kerrallaan muiden pysyessä ennallaan.    \n",
    "Periaate on sama kun tulossa on enemmän kuin kaksi funktiota.\n",
    "```"
   ]
  },
  {
   "cell_type": "markdown",
   "id": "b61810d0",
   "metadata": {},
   "source": [
    "```{admonition} Derivoi $x^2\\cdot sin(x)$\n",
    ":class: dropdown\n",
    "Kaavan merkinnöillä $f(x)=x^2$ ja $g(x)=sin(x)$     \n",
    "ja niiden derivaatat $f'(x) = 2x$ ja $g'(x) = cos(x)$    \n",
    "\n",
    "Sijoitus kaavaan $D\\hspace{2mm}(f(x)\\cdot g(x)) = f'(x)\\cdot g(x) + f(x)\\cdot g'(x)$ antaa    \n",
    "\n",
    "\n",
    "D $(x^2sin(x)) = 2x\\cdot sin(x)+ x^2\\cdot cos(x)$     \n",
    "\n",
    "```"
   ]
  },
  {
   "cell_type": "markdown",
   "id": "18866650",
   "metadata": {},
   "source": [
    "```{admonition} Derivoi $(2x+1)\\cdot ln(x)\\cdot e^x$\n",
    ":class: dropdown\n",
    "Nyt tulossa on kolme tekijää $f(x)=2x+1$, $g(x)=ln(x)$ ja $h(x)=e^x$, joiden derivaatat ovat $f'(x) = 2$ , $g'(x) = \\frac {1}{x}$ ja $h'(x) = e^x$    \n",
    "\n",
    "Tulon derivoimissäännön periaatteen mukaan saadaan kolme termiä, joissa yksi tulon $f\\cdot g\\cdot h$ tekijä kerrallaan on derivoitu.     \n",
    "\n",
    "\n",
    "D $(2x+1)\\cdot ln(x)\\cdot e^x = 2\\cdot ln(x)\\cdot e^x + (2x+1)\\cdot \\frac {1}{x}\\cdot e^x+(2x+1)\\cdot ln(x)\\cdot e^x$   \n",
    "\n",
    "```"
   ]
  },
  {
   "cell_type": "markdown",
   "id": "ac6e1813",
   "metadata": {},
   "source": [
    "```{admonition} **Osamäärän derivoimiskaava**\n",
    ":class: tip    \n",
    "\n",
    "$\\frac {f(x)}{g(x)} = \\frac {f'(x)\\cdot g(x) - f(x)\\cdot g'(x)}{g(x)^2}$  \n",
    "\n",
    " \n",
    "```"
   ]
  },
  {
   "cell_type": "markdown",
   "id": "3ddd385d",
   "metadata": {},
   "source": [
    "```{admonition} Derivoi $\\frac {sin(x)}{x}$\n",
    ":class: dropdown\n",
    "Osoittajan $f(x)=sin(x)$, nimittäjän $g(x)=x$ lisäksi tarvitaan derivaatat $f'(x) = cos(x)$ ja $g'(x) = 1$    \n",
    "\n",
    "Sijoittamalla nämä osamäärän derivoimiskaavaan, saadaan      \n",
    "\n",
    "\n",
    "D $\\frac {sin(x)}{x} = \\frac {cos(x)\\cdot x-sin(x)\\cdot 1}{x^2} = \\frac {x\\cdot cos(x)-sin(x)}{x^2}$   \n",
    "\n",
    "```"
   ]
  },
  {
   "cell_type": "markdown",
   "id": "0eceed38",
   "metadata": {},
   "source": [
    "```{admonition} Derivoi $\\frac {2x}{5x+1}$\n",
    ":class: dropdown\n",
    "Osoittajan $f(x)=2x$, nimittäjän $g(x)=5x+1$ lisäksi tarvitaan derivaatat $f'(x) = 2$ ja $g'(x) = 5$    \n",
    "\n",
    "Sijoittamalla nämä osamäärän derivoimiskaavaan, saadaan      \n",
    "\n",
    "\n",
    "D $\\frac {2x}{5x+1} = \\frac {2\\cdot (5x+1)-2x\\cdot 5}{(5x+1)^2} = \\frac {10x+2-10x}{(5x+1)^2}=\\frac {2}{(5x+1)^2}$   \n",
    "\n",
    "```"
   ]
  },
  {
   "cell_type": "markdown",
   "id": "3f651ea9",
   "metadata": {},
   "source": [
    "## Yhdistetyn funktion derivaatta"
   ]
  },
  {
   "cell_type": "markdown",
   "id": "fb363c44",
   "metadata": {},
   "source": [
    "Perusfunktioista voidaan muodostaa monimutkaisempia funktiota myös asettamalla niitä sisäkkäin. Niistä käytetään nimitystä **yhdistetyt funktiot**.  \n",
    "\n",
    "Esimerkiksi funktio y = cos(4x+1) on muodostettu kosinifunktiosta, jonka sisällä on polynomi 4x+1. \n",
    "Funktiota y = cos(x) kutsutaan **ulkofunktioksi** ja funktiota y = 4x+1 **sisäfunktioksi**     \n",
    "\n",
    "\n",
    "Funktion $e^{-2x^2}$ ulkofunktio on y = $e^x$ ja sisäfunktio $-2x^2$      \n",
    "\n",
    "Funktion $(3x+1)^4$ ulkofunktio on y = $x^4$  ja sisäfunktio y = 3 x + 1 \n"
   ]
  },
  {
   "cell_type": "markdown",
   "id": "509f0bb2",
   "metadata": {},
   "source": [
    "```{admonition} **Yhdistetyn funktion derivaatta**\n",
    ":class: tip    \n",
    "\n",
    "$D\\hspace{2mm} g(f(x)) = g'(f(x))\\cdot f'(x)$  \n",
    "\n",
    "Kaavaa kutsutaan usein **ketjusäännöksi**, mikä viittaa siihen, että yhdistetyn funktion derivaatta on ulkofunktion derivaatan ja sisäfunktion derivaatan tulo.  Mikäli yhdistetty funktio koostuu useammasta kuin kahdesta sisäkkäisestä funktiosta, jokainen ketjussa oleva funktio derivoidaan.\n",
    "```"
   ]
  },
  {
   "cell_type": "markdown",
   "id": "377a41b2",
   "metadata": {},
   "source": [
    "```{admonition} Derivoi a) $cos(4x+1)$  b) $e^{-2x^2}$  c) $(3x+1)^4$\n",
    ":class: dropdown\n",
    "a) Ulkofunktio g(x)= cos(x) ja sisäfunktio f(x) = 4x+1.     \n",
    "Derivaatat g'(x)=-sin(x) ja f'(x) = 4 =>     \n",
    "D $cos(4x+1) = g'(f(x))\\cdot f'(x) = -sin(4x+1)\\cdot 4 = -4 sin(4x+1)$       \n",
    "\n",
    "b) Ulkofunktio $g(x)= e^x$ ja sisäfunktio $f(x) = -2x^2$.      \n",
    "Derivaatat $g'(x)=e^x$ ja $f'(x) = -4x$ =>     \n",
    "D $e^{-2x^2} = g'(f(x))\\cdot f'(x) = e^{-2x^2}\\cdot (-4x) = -4x e^{-2x^2}$        \n",
    "\n",
    "c) Ulkofunktio $g(x)= x^4$ ja sisäfunktio f(x) = 3x+1.       \n",
    "Derivaatat $g'(x)=4 x^3$ ja f'(x) = 3 =>     \n",
    "D $(3x+1)^4 = g'(f(x))\\cdot f'(x) = 4(3x+1)^3\\cdot 3 = 12 (3x+1)^3$ \n",
    "\n",
    "\n",
    "```"
   ]
  },
  {
   "cell_type": "markdown",
   "id": "06c6e574",
   "metadata": {},
   "source": [
    "Yhdistetyn funktion derivoimiskaavan käyttöä helpottaa, kun kaava puretaan useaksi kaavaksi tavallisille ulkofunktoille."
   ]
  },
  {
   "cell_type": "markdown",
   "id": "1ca6a655",
   "metadata": {},
   "source": [
    "```{admonition} **Yhdistetyn funktion derivointikaavoja eri ulkofunktioille**\n",
    ":class: tip    \n",
    "\n",
    "1) $D\\hspace{2mm} sin(f(x)) = cos(x)\\cdot f'(x)$       \n",
    "2) $D\\hspace{2mm} cos(f(x)) =-sin(x)\\cdot f'(x)$     \n",
    "3) $D\\hspace{2mm} e^{f(x)}  = e^{f(x)}\\cdot f'(x)$       \n",
    "4) $D\\hspace{2mm} ln(f(x))  = \\frac {f'(x)}{f(x)}$        \n",
    "5) $D\\hspace{2mm} {f(x)}^n  = n {f(x)}^{n-1}\\cdot f'(x)$       \n",
    "6) $D\\hspace{2mm} \\sqrt{f(x)} = \\frac {f'(x)}{2\\sqrt{f(x)}}$ \n",
    "\n",
    "```"
   ]
  },
  {
   "cell_type": "markdown",
   "id": "58079c61",
   "metadata": {},
   "source": [
    "Esimerkkejä:"
   ]
  },
  {
   "cell_type": "markdown",
   "id": "3f5a48b5",
   "metadata": {},
   "source": [
    "```{admonition} Laske  D $sin(5x)$  \n",
    ":class: dropdown\n",
    "D $sin(5x)$ =$cos(5x)\\cdot 5 = 5\\hspace{1mm}cos(5x)$ \n",
    "```"
   ]
  },
  {
   "cell_type": "markdown",
   "id": "6865e83f",
   "metadata": {},
   "source": [
    "```{admonition} Laske  D $(4x+7)^3$  \n",
    ":class: dropdown\n",
    "D $(4x+7)^3$=$3(4x+7)^2\\cdot 4 = 12\\hspace{1mm}(4x+7)^2$ \n",
    "```"
   ]
  },
  {
   "cell_type": "markdown",
   "id": "9eb59339",
   "metadata": {},
   "source": [
    "```{admonition} Laske  D $cos(2x^2)$  \n",
    ":class: dropdown\n",
    "D $cos(2x^2)$ = $-sin(2x^2)\\cdot 4x = -4x\\hspace{1mm}sin(2x^2)$ \n",
    "```"
   ]
  },
  {
   "cell_type": "markdown",
   "id": "24e57d81",
   "metadata": {},
   "source": [
    "```{admonition} Laske  D $ln(2x+3)$  \n",
    ":class: dropdown\n",
    "D $ln(2x+3)$ = $\\frac {2}{2x+3} $ \n",
    "```"
   ]
  },
  {
   "cell_type": "markdown",
   "id": "cd73bf88",
   "metadata": {},
   "source": [
    "```{admonition} Laske  D$\\sqrt{x^2+5}$  \n",
    ":class: dropdown\n",
    "D$\\sqrt{x^2+5}$ =  $\\frac {1}{2\\sqrt{x^2+5}}\\cdot 2x =\\frac {x}{\\sqrt{x^2+5}}$  \n",
    "```"
   ]
  }
 ],
 "metadata": {
  "jupytext": {
   "cell_metadata_filter": "-all",
   "notebook_metadata_filter": "-all",
   "text_representation": {
    "extension": ".md",
    "format_name": "markdown"
   }
  },
  "kernelspec": {
   "display_name": "Python 3 (ipykernel)",
   "language": "python",
   "name": "python3"
  },
  "language_info": {
   "codemirror_mode": {
    "name": "ipython",
    "version": 3
   },
   "file_extension": ".py",
   "mimetype": "text/x-python",
   "name": "python",
   "nbconvert_exporter": "python",
   "pygments_lexer": "ipython3",
   "version": "3.9.7"
  }
 },
 "nbformat": 4,
 "nbformat_minor": 5
}
