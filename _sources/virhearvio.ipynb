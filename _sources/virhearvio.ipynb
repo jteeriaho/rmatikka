{
 "cells": [
  {
   "cell_type": "markdown",
   "id": "58d5a3e4",
   "metadata": {},
   "source": [
    "# Virheenarviointia derivaatoilla   "
   ]
  },
  {
   "cell_type": "markdown",
   "id": "2099089d",
   "metadata": {},
   "source": [
    "Fysiikassa tekniikassa tehdään mittauksia, joihin liittyy aina tietty epävarmuus. Jos muita epävarmuustekijöitä ei ole, mittausvirheenä tai -epätarkkuutena voidaan käyttää mittauksessa käytetyn välineen tarkkuutta.  Esim. mitattaessa laudan pituutta metrinmitalla, on mittausvirhe ainakin 0.5 mm, todennäköisesti suurempikin.    \n",
    "\n",
    "Kun mitatuista suureista lasketaan kaavoja käyttäen muita suureita, on tärkeä tietää, miten yksittäisten mittausten virhemarginaaleista voidaan johtaa niistä lasketun lausekkeen virhemarginaaliin. Tässä derivaatalla ja osittaisderivaatoilla on keskeinen merkitys.  \n",
    " "
   ]
  },
  {
   "cell_type": "markdown",
   "id": "1e1c9a40",
   "metadata": {},
   "source": [
    "```{admonition} **Suureen x virhemarginaali voidaan ilmaista kahdella tavalla**\n",
    ":class: tip\n",
    "absoluuttisena virheenä $\\Delta{x}$     \n",
    "\n",
    "$\\hspace{1cm}x = (2.15 \\pm 0.05)$ mm  \n",
    "\n",
    "suhteellisena virheenä $\\frac {\\Delta{x}}{x}\\cdot 100\\%$     \n",
    "\n",
    "$\\hspace{1cm}x = 2.15 mm \\pm 2.4\\%$\n",
    "\n",
    "esim. virtamittarin tarkkuus on usein ilmaistu suhteellisen virheen avulla  \n",
    "\n",
    "```"
   ]
  },
  {
   "cell_type": "markdown",
   "id": "01f76da9",
   "metadata": {},
   "source": [
    "## Yhden muuttujan funktion virhe "
   ]
  },
  {
   "cell_type": "markdown",
   "id": "ae771b93",
   "metadata": {},
   "source": [
    "```{admonition} **Yhden muuttujan funktion virhe**\n",
    ":class: tip\n",
    "Funktion f(x) virhe = derivaatta $\\cdot$ muuttujan virhe       \n",
    "\n",
    "$\\Delta{f}=f'(x)\\Delta{x}$       \n",
    "\n",
    "Derivaatta on käyrän tangentin kulmakerroin.        \n",
    "\n",
    "Kulmakerroin määritellään funktion arvon muutoksen ja muuttujan arvon muutoksen suhteena.\n",
    "\n",
    "![virhe](images/kuva7.PNG)\n",
    "\n",
    "```"
   ]
  },
  {
   "cell_type": "markdown",
   "id": "6d7802d0",
   "metadata": {},
   "source": [
    "````{admonition} Esim. Laske kuularingin ala virherajoineen, kun halkaisija d =$(213\\pm 1)$ cm.\n",
    ":class: dropdown\n",
    "Vastaus: $(3.56\\pm 0.04) m^2$ \n",
    "```{admonition} Ratkaisu\n",
    ":class: dropdown\n",
    "Ringin pinta-ala A = $\\frac{\\pi}{4}d^2 = \\frac{\\pi}{4}{2.13m}^2 = 3.5633 m^2 $       \n",
    "\n",
    "Alan virhe  $\\Delta{A}=A'(d)\\Delta{d} =\\frac{\\pi}{2}d\\Delta{d} =\\frac{\\pi}{2}2.13\\cdot0.01 = 0.033 m^2$      \n",
    "\n",
    "Virhemarginaali on tapana pyöristää aina ylöspäin, jotta suureen arvo olisi varmasti rajojen sisällä.       \n",
    "\n",
    "Vastaus: A = $(3.56\\pm 0.04) m^2$ \n",
    "\n",
    "```\n",
    "````"
   ]
  },
  {
   "cell_type": "markdown",
   "id": "ea9cb2cd",
   "metadata": {},
   "source": [
    "## Monen muuttujan funktion virhe"
   ]
  },
  {
   "cell_type": "markdown",
   "id": "88afe6f1",
   "metadata": {},
   "source": [
    "Otetaan esimerkkinä funktio f(x,y,z), jossa on kolme muuttujaa x, y ja z.   \n",
    "\n",
    "Funktiolla on kolme osittaisderivaattaa $\\frac{\\partial f}{\\partial x},\\frac{\\partial f}{\\partial y}$ ja $ \\frac{\\partial f}{\\partial z}$, jotka antavat funktion muutosnopeudet koordinaattiakselien suunnissa.     \n",
    "\n",
    "Tulot $\\frac{\\partial f}{\\partial x}\\Delta{x}, \\frac{\\partial f}{\\partial y}\\Delta{y}$ ja $\\frac{\\partial f}{\\partial z}\\Delta{z}$  edustavat funktion arvon muutoksia, jotka vastaavat muuttujien virheitä $\\Delta{x},\\Delta{y}$ ja $\\Delta{z}$.     \n",
    "\n",
    "Osittaisderivaatat voivat olla etumerkiltään positiivisia tai negatiivisia, samoin muuttujien mittausvirheet voivat mittaustilanteessa tapahtua kumpaan suuntaan tahansa. Huonoimmassa tapauksessa kaikki virheet kasautuvat samaan suuntaan.  Arvio maksimivirheelle saadaan laskemalla ym. tulojen itseisarvot yhteen. "
   ]
  },
  {
   "cell_type": "markdown",
   "id": "54149311",
   "metadata": {},
   "source": [
    "```{admonition} **Monen muuttujan funktion virhe**      \n",
    ":class: tip\n",
    "\n",
    "Monen muuttujan funktion absoluuttisen virheen yläraja:       \n",
    "\n",
    "$\\Delta{f}\\le |\\frac{\\partial f}{\\partial x}\\Delta{x}|+|\\frac{\\partial f}{\\partial y}\\Delta{y}|+ |\\frac{\\partial f}{\\partial z}\\Delta{z}|$           \n",
    "\n",
    "Summan termit edustavat **osavirheitä**, jotka aiheutuvat muuttujien x,y ja z mittausepävarmuuksista.  \n",
    "\n",
    "```"
   ]
  },
  {
   "cell_type": "markdown",
   "id": "43ef5997",
   "metadata": {},
   "source": [
    "````{admonition} Esim. Suorakaiteen muotoisen tontin sivuiksi mitattiin a = $(45.3\\pm 0.5)m$ ja b = $(30.5\\pm 0.4)m$. Laske tontin ala virherajoineen.\n",
    ":class: dropdown\n",
    "Vastaus: $(1382\\pm 34)m^2$\n",
    "```{admonition} Ratkaisu\n",
    ":class: dropdown\n",
    "Tontin ala A = a b = $45.3\\cdot 30.5 m^2$ = $1381.65 m^2$  \n",
    "\n",
    "Osavirheet:     \n",
    "$\\frac{\\partial (ab)}{\\partial a}\\Delta{a} = b\\Delta{a}=30.5\\cdot 0.5 m^2 = 15.25 m^2 $        \n",
    "$\\frac{\\partial (ab)}{\\partial b}\\Delta{b} = a\\Delta{b}=45.3\\cdot 0.4 m^2 = 18.12 m^2 $       \n",
    "\n",
    "Alan absol.virhe on osavirheiden summa = $33.37 m^2$       \n",
    "\n",
    "Vastaus: Ala on $(1382 \\pm 34) m^2$\n",
    "\n",
    "```\n",
    "````"
   ]
  },
  {
   "cell_type": "markdown",
   "id": "930c3825",
   "metadata": {},
   "source": [
    "Puun korkeuden määrittäminen (liittyy seuraavaan esimerkkiin)        \n",
    "Puun korkeus voidaan määrittää mittaamalla mittauskohdan etäisyys r puun tyvestä, sekä kulma jossa puun latva näkyy mittauskohdassa maan pinnasta.  Puun korkeus saadaan tällöin kaavalla $h = r\\hspace{1mm}tan(\\alpha)$      \n",
    "![puu](images/kuva11.PNG)"
   ]
  },
  {
   "cell_type": "markdown",
   "id": "d6a21721",
   "metadata": {},
   "source": [
    "````{admonition} Esim. Puun pituusmäärityksessä saatiin mittaustulokset r = $(25.0\\pm 0.5)m$ ja $\\alpha=(42.5\\pm0.5)^\\circ $. Laske puun korkeus h virherajoineen. \n",
    ":class: dropdown\n",
    "Vastaus: h = $(22.9\\pm 0.9)m$\n",
    "```{admonition} Ratkaisu\n",
    ":class: dropdown\n",
    "Puun korkeus $h = r\\hspace{1mm}tan(\\alpha) = 25m\\cdot tan(42.5^\\circ) = 22.91 m$  \n",
    "\n",
    "Osavirheet liittyen etäisyyden ja kulman mittauksiin:     \n",
    "$\\frac{\\partial (r\\cdot tan\\alpha)}{\\partial r}\\Delta{r} = tan(\\alpha)\\Delta{r}=tan(42.5^\\circ)\\hspace{1mm}0.5 m = 0.458 m $     \n",
    "\n",
    "$\\frac{\\partial (r\\cdot tan\\alpha)}{\\partial \\alpha}\\Delta{\\alpha} = \\frac {r}{cos(\\alpha)^2}\\Delta{\\alpha}=\\frac {25}{cos(42.5)^2}\\color{red}{(0.5\\frac{\\pi}{180})} \\color{black}= 0.40\\hspace{1mm} m$   \n",
    "\n",
    "<span style=\"color: red;\">Huom! Kulmien virhemarginaalit on muunnettava radiaaneiksi, kun lasketaan absoluuttista virhettä. Jos näin tehdä, absoluuttinen virhe tulee paljon todellista arvoa suuremmaksi.</span>    \n",
    "\n",
    "Alan absol.virhe on osavirheiden summa = $0.86 m$       \n",
    "\n",
    "Vastaus: Puun korkeus h = $(22.9\\pm 0.9)m$\n",
    "\n",
    "```\n",
    "````"
   ]
  },
  {
   "cell_type": "markdown",
   "id": "faaaac48",
   "metadata": {},
   "source": [
    "## Suhteellisen virheen menetelmä"
   ]
  },
  {
   "cell_type": "markdown",
   "id": "e46766b1",
   "metadata": {},
   "source": [
    "Menetelmä soveltuu vain sellaisille monen muuttujan funktioille, jotka sisältävät muuttujien potensseja, sekä niiden tuloja ja osamääriä , esim.      \n",
    "\n",
    "\n",
    "$f(x,y,z) = vakio\\cdot \\frac{x^{n}y^{m}}{z^{k}}$"
   ]
  },
  {
   "cell_type": "markdown",
   "id": "c5b6d280",
   "metadata": {},
   "source": [
    "```{admonition} Suhteellisen virheen menetelmä\n",
    ":class: tip\n",
    "Jos $f(x,y,z) = vakio\\cdot \\frac{x^{n}y^{m}}{z^{k}}$, niin funktion f suhteellinen virhe \n",
    "\n",
    " $\\frac{\\Delta{f}}{f}\\le n\\frac{\\Delta{x}}{x}+m\\frac{\\Delta{y}}{y}+k\\frac{\\Delta{z}}{z}$      \n",
    " \n",
    " Funktion f suhteellinen virhe on siten **potensseilla painotettu summa** muuttujien suhteellisista virheistä.  \n",
    "```"
   ]
  },
  {
   "cell_type": "markdown",
   "id": "a2ab9a1a",
   "metadata": {},
   "source": [
    "Kaavan perustelu nojautuu tulon ja osamäärän derivoimissääntöihin, sekä aiemmin esitettyyn absoluuttisen virheen laskutapaan osittaisderivaattojen avulla. Perustelu on pitkähkö ja jätetään se pois tästä esityksestä. "
   ]
  },
  {
   "cell_type": "markdown",
   "id": "24840aa8",
   "metadata": {},
   "source": [
    "\n",
    "````{admonition} Esim. Sylinterin muotoisen säiliön halkaisija d = $(4.50 \\pm 0.05) m$ ja korkeus h = $(2.50 \\pm 0.04) m$. Määritä säiliön tilavuus virherajoineen. Käytä suhteellisen virheen menetelmää. Tilavuuden kaava on $V = \\frac{\\pi}{4}d^{2}h$\n",
    ":class: dropdown\n",
    "     \n",
    "Vastaus: $(39.8\\pm 1.1) m^3$\n",
    "```{admonition} Ratkaisu\n",
    ":class: dropdown\n",
    "Tilavuus V = $\\frac{\\pi}{4}d^{2}h = \\frac{\\pi}{4}4.5^{2}2.5 m^3 = 39.76 m^3 $    \n",
    "\n",
    "Sen suhteellinen virhe $\\frac {\\Delta{V}}{V}= 2\\frac {\\Delta{d}}{d} + \\frac {\\Delta{h}}{h} $ = $2\\frac {0.05}{4.5} + \\frac {0.04}{2.5} = 0.0271 = 2.71\\% $        \n",
    "\n",
    "Tilavuuden absoluuttinen virhe $\\Delta{V}= 2.71\\% \\cdot 39.76 m^3 = 1.08 m^3$      \n",
    "\n",
    "Vastaus: V = $(39.8\\pm 1.1) m^3$\n",
    "```\n",
    "````"
   ]
  },
  {
   "cell_type": "markdown",
   "id": "fb7990e1",
   "metadata": {},
   "source": [
    "Painovoiman kiihtyvyyden määrittämisestä (liittyy seuraavaan esimerkkiin)       \n",
    "Painovoiman kiihtyvyys g voidaan määrittää heilurin avulla mittaamalla heilurin langan pituus L ja edestakaiseen heilahdukseen kulunut aika T.  \n",
    "![heiluri](images/kuva10.PNG)\n",
    "\n",
    "\n",
    "Putoamiskiihtyvyys saadaan kaavasta  $g = \\frac {4\\pi^2 L}{T^2}$."
   ]
  },
  {
   "cell_type": "markdown",
   "id": "9be854cf",
   "metadata": {},
   "source": [
    "````{admonition} Esim. Opiskelijaryhmä sai fysiikan tunnilla heilahdusajaksi $T = (2.462\\pm 0.017) s$ ja langan pituudeksi $L = (1.50\\pm 0.005) m$. Määritä g virherajoineen.     \n",
    ":class: dropdown   \n",
    "\n",
    "Vastaus: $g = (9.77\\pm 0.17) m/s^2$\n",
    "```{admonition} Ratkaisu\n",
    ":class: dropdown\n",
    "Putoamiskiihtyvyys $g = \\frac {4\\pi^2 L}{T^2} = \\frac {4\\pi^2\\cdot 1.50m}{(2.462s)^2} = 9.7696\\hspace{1mm} m/s^2 $  \n",
    "\n",
    "g:n suhteellinen virhe $\\frac {\\Delta{g}}{g}= 2\\frac {\\Delta{T}}{T} + \\frac {\\Delta{L}}{L} $ = $2\\frac {0.017}{2.462} + \\frac {0.005}{1.5} = 0.017 = 1.7\\% $        \n",
    "\n",
    "g:n absoluuttinen virhe $\\Delta{g}= 1.7\\% \\cdot 9.7696\\hspace{1mm}m/s^2 = 0.17\\hspace{1mm}m/s^2$      \n",
    "\n",
    "Vastaus: $g = (9.77\\pm 0.17)\\hspace{1mm}m/s^2$\n",
    "```\n",
    "````"
   ]
  }
 ],
 "metadata": {
  "jupytext": {
   "cell_metadata_filter": "-all",
   "notebook_metadata_filter": "-all",
   "text_representation": {
    "extension": ".md",
    "format_name": "markdown"
   }
  },
  "kernelspec": {
   "display_name": "Python 3 (ipykernel)",
   "language": "python",
   "name": "python3"
  },
  "language_info": {
   "codemirror_mode": {
    "name": "ipython",
    "version": 3
   },
   "file_extension": ".py",
   "mimetype": "text/x-python",
   "name": "python",
   "nbconvert_exporter": "python",
   "pygments_lexer": "ipython3",
   "version": "3.9.7"
  }
 },
 "nbformat": 4,
 "nbformat_minor": 5
}
