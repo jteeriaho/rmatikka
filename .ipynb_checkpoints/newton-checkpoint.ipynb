{
 "cells": [
  {
   "cell_type": "markdown",
   "id": "58d5a3e4",
   "metadata": {},
   "source": [
    "# Newtonin menetelmä   "
   ]
  },
  {
   "cell_type": "markdown",
   "id": "e0b9ec04",
   "metadata": {},
   "source": [
    "**Newtonin menetelmä**  on differentiaalilaskentaan perustuva tehokas algoritmi funktion nollakohtien likiarvojen etsimisessä.  \n",
    "\n",
    "Nollakohdan etsiminen aloitetaan asettamalla nollakohdalle **alkuarvaus $x_0$** iteraation lähtökohdaksi.    \n",
    "\n",
    "1. Seuraavaksi muodostetaan funktion **tangentin yhtälö** pisteeseen $(x_0, f(x_0)$ käyttäen kulmakertoimena derivattaa $f'(x_0)$.       \n",
    "\n",
    "\n",
    "> Tangentin yhtälö on:    $y - f(x_0) = f'(x_0)\\cdot (x-x_0)$   \n",
    "\n",
    "\n",
    "3. Lasketaan tangentin ja x-akselin leikkauskohta $x_1$ sijoittamalla yhtälöön y = 0, jolloin saadaan  $x_1=x_0-\\frac{f(x_0)}{f'(x_0)}$ \n",
    "\n",
    "            \n",
    "4. Tämän jälkeen asetetaan $x_1$ uudeksi alkuarvaukseksi ja jatketaan samaan tapaan, kunnes lukujonon $x_0, x_1, x_2, ...$ arvot vakiintuvat tiettyyn arvoon. Lukujonon raja-arvo on yhtälön f(x) = 0 juuren likiarvo."
   ]
  },
  {
   "cell_type": "markdown",
   "id": "469ac334",
   "metadata": {},
   "source": [
    "Kuva näyttää, miten käyrän tangentti johtaa iteraatioaskeleessa lähemmäs juurta.\n",
    "![iter](images/kuva26.PNG)"
   ]
  },
  {
   "cell_type": "markdown",
   "id": "1e1c9a40",
   "metadata": {},
   "source": [
    "```{admonition} **Newtonin menetelmä yhtälön f(x) = 0 juuren likiarvon laskemiksi**\n",
    ":class: tip\n",
    "1. Annetaan alkuarvaus $x_0$ iteraation lähtökohdaksi     \n",
    "\n",
    "2. Lasketaan kaavalla $x_{n+1} = x_n -\\frac {f(x_n)}{f'(x_n)}$ lukujonon $x_0, x_1, ...$ arvoja.\n",
    "\n",
    "Useimmiten 4 - 5 arvon jälkeen lukujonon viimeisimmät arvot eivät enää juurikaan poikkea toisistaan. Lukujono lähestyy yhtälön f(x) = 0  juuren arvoa. \n",
    "\n",
    "Jos yhtälöllä f(x) = 0 on useita juuria, eri alkuarvot $x_0$ johtavat eri juuriin. On siis tarpeen suorittaa iteraatio useilla alkuarvoilla. \n",
    "\n",
    "```"
   ]
  },
  {
   "cell_type": "markdown",
   "id": "6d7802d0",
   "metadata": {},
   "source": [
    "```{admonition} Esim. Määritä yhtälön  $x^3 + 3 x - 1 = 0$ juuri 2 desimaalin tarkkuudella. \n",
    ":class: dropdown       \n",
    "Asetetaan alkuarvaukseksi x = 1     \n",
    "Iteraatiokaava on esimerkin tapauksessa $x_{n+1} = x_n -\\frac {{x_n}^3 + 3x_n -1}{3 {x_n}^2+3}$.  \n",
    "\n",
    "Lasketaan kaavaa käyttäen jonon pisteitä. WolframAlphalla tämä käy nopeasti, koska samaan lausekkeen voi evaluoida uudella muuttujan arvolla vaihtamalla where sanan jälkeistä arvoa.   \n",
    "\n",
    "$\\begin{matrix}\n",
    "x_n&\\text{WolframAlpha komento}&x_{n+1}\\\\\n",
    "1.0 &\\text{x - (x^3+3x-1)/(x^3+3) where x=1.0} & 0.5 \\\\\n",
    "0.5 &\\text{x - (x^3+3x-1)/(x^3+3) where x=0.5} & 0.333 \\\\\n",
    "0.333&\\text{x - (x^3+3x-1)/(x^3+3) where x=0.333} & 0.322 \\\\\n",
    "0.322&\\text{x - (x^3+3x-1)/(x^3+3) where x=0.322} & 0.322\n",
    "\\end{matrix}$                  \n",
    "\n",
    "Lukujonon arvota näyttävän nopeasti suppenevan kohti arvoa 0.322, joka on juuren likiarvo.  \n",
    "\n",
    "Vastaus: Juuri on n. 0.32\n",
    "\n",
    "```"
   ]
  },
  {
   "cell_type": "markdown",
   "id": "95dafb0d",
   "metadata": {},
   "source": [
    "````{admonition} Esim. Määritä yhtälön  $e^x - x - 3 = 0$ juuret (2 juurta) 1 desimaalin tarkkuudella. \n",
    ":class: dropdown\n",
    "Vastaus: -2.9 ja 1.5\n",
    "```{admonition} Ratkaisu\n",
    ":class: dropdown\n",
    "Iteraatiokaava on nyt $x_{n+1} = x_n -\\frac {e^{x_n} - x_n - 3}{e^{x_n}-1}$.  \n",
    "\n",
    "Lasketaan kaavaa käyttäen jonon pisteitä.      \n",
    "\n",
    "Iteraatio alkuarvauksella 2 johtaa juureen 1.51\n",
    "\n",
    "$\\begin{matrix}\n",
    "x_n&\\text{WolframAlpha komento}&x_{n+1}\\\\\n",
    "2 &\\text{(x-e^x-x-3)/(e^x-1) where x=2}  & 1.61 \\\\\n",
    "1.63 &\\text{(x-e^x-x-3)/(e^x-1) where x=1.63}  & 1.51 \\\\\n",
    "1.51 &\\text{(x-e^x-x-3)/(e^x-1) where x=1.51}  & 1.51\n",
    "\\end{matrix}$\n",
    "\n",
    "\n",
    "Iteraatio alkuarvauksella -2 johtaa juureen -2.95\n",
    "\n",
    "$\\begin{matrix}\n",
    "x_n&\\text{WolframAlpha komento}&x_{n+1}\\\\\n",
    "-2 &\\text{(x-e^x-x-3)/(e^x-1) where x=-2}  & -3 \\\\\n",
    "-3 &\\text{(x-e^x-x-3)/(e^x-1) where x=-3}  & -2.95 \\\\\n",
    "-2.95 &\\text{(x-e^x-x-3)/(e^x-1) where x=-2.95}  & -2.95\n",
    "\\end{matrix}$\n",
    "```\n",
    "````"
   ]
  }
 ],
 "metadata": {
  "jupytext": {
   "cell_metadata_filter": "-all",
   "notebook_metadata_filter": "-all",
   "text_representation": {
    "extension": ".md",
    "format_name": "markdown"
   }
  },
  "kernelspec": {
   "display_name": "Python 3 (ipykernel)",
   "language": "python",
   "name": "python3"
  },
  "language_info": {
   "codemirror_mode": {
    "name": "ipython",
    "version": 3
   },
   "file_extension": ".py",
   "mimetype": "text/x-python",
   "name": "python",
   "nbconvert_exporter": "python",
   "pygments_lexer": "ipython3",
   "version": "3.9.7"
  }
 },
 "nbformat": 4,
 "nbformat_minor": 5
}
