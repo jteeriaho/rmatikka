{
 "cells": [
  {
   "cell_type": "markdown",
   "id": "58d5a3e4",
   "metadata": {},
   "source": [
    "# Optimointimenetelmiä    "
   ]
  },
  {
   "cell_type": "markdown",
   "id": "5dbcf529",
   "metadata": {},
   "source": [
    "Ääriarvotehtävissä tavoite on löytää **funktion suurin tai pienin arvo**.     \n",
    "\n",
    "Käytännön sovelluksina ovat erilaiset **optimointiprobleemat**, joissa halutaan esim. maksimoida tuottoa tai minimoida materiaalin käyttöä ym. kuluja.  \n",
    "\n",
    "Funktiossa, jonka suurinta tai pienintä arvoa etsitään, voi olla **yksi tai useampi muuttuja**\n",
    "\n",
    "![aariarvo](images/kuva12.PNG)"
   ]
  },
  {
   "cell_type": "markdown",
   "id": "95b29f50",
   "metadata": {},
   "source": [
    "## Yhden muuttujan funktion ääriarvo"
   ]
  },
  {
   "cell_type": "markdown",
   "id": "cb3dde78",
   "metadata": {},
   "source": [
    "Funktiolla voi olla kahdenlaisia ääriarvoja.  **Globaali maksimi tai globaali minimi** tarkoittaa funktion suurinta tai pienintä arvoa koko määritysjoukossa.  \n",
    "**Lokaali maksimi tai globaali minimi** ovat paikallisia ääriarvoja, jotka ovat funktion suurimpia ja pienimpiä arvoja jossakin suppeammassa ympäristössä.\n",
    "\n",
    "Jatkuvalla yhden muuttujan funktiolla voi olla globaaleja ääriarvoja derivaatan nollakohtien lisäksi määrittelyvälin päätepisteissä ja sellaisissa kohdissa, missä derivaatta ei ole jatkuva (esim. käyrällä olevat kärjet).    \n",
    "![aari](images/kuva24.PNG)\n",
    "\n",
    "Seuraavissa esimerkeissä etsitään globaaleja ääriarvoja derivaatan nollakohdista."
   ]
  },
  {
   "cell_type": "markdown",
   "id": "6d7802d0",
   "metadata": {},
   "source": [
    "````{admonition} Esim. Lentävän ammuksen lentoradan korkeuskoordinaatti y riippuu ajasta t kaavan $y = 40 +320 t-4.9 t^2 $ mukaisesti. Määritä lentoradan korkein kohta.       \n",
    ":class: dropdown\n",
    "\n",
    "Vastaus: $y_{max}= 5264$ m\n",
    "```{admonition} Ratkaisu\n",
    ":class: dropdown\n",
    "y-koordinaatin lauseke on 2. asteen polynomifunktio, jossa $t^2$:n kerroin on negatiivinen. Lausekkeen kuvaaja on alaspäin aukeava paraabeli, jonka huippukohdassa derivaatta on nolla.  Lasketaan huipun koordinaatit.\n",
    "\n",
    "Huipun t:   D ($40 +320 t-4.9 t^2$) = 320 - 9.8 t = 0 =>  t = 320/9.8 = 32.65 s        \n",
    "Huipun y:   $y_{max} = 40 + 320\\cdot 32.65 - 4.9\\cdot {32.65}^2 = 5264.4 $       \n",
    "\n",
    "Vastaus: Radan korkein kohta on 5264 m . Se saavutetaan ajanhetkellä 32.65 s.\n",
    "```\n",
    "````"
   ]
  },
  {
   "cell_type": "markdown",
   "id": "8039af54",
   "metadata": {},
   "source": [
    "````{admonition} Esim. Suunnistaja siirtyy metsässä olevalta rastilta A suolla olevalle rastille B (ks. kuva alempana). Juoksunopeus metsässä on 3.0 m/s ja suolla 1.5 m/s. Määritä kohta X siten, että juoksuaika A:sta B:hen on minimissään.       \n",
    ":class: tip    \n",
    "![suunnistus](images/kuva14.PNG)      \n",
    "Vastaus: $x = 718 m$     \n",
    "```{admonition} Tapa1: derivaatan nollakohdan etsiminen\n",
    ":class: dropdown\n",
    "Välillä AB kuluva aika t on metsässä ja suolla kuluvien aikojen summa:       \n",
    "\n",
    "$t=\\frac{\\sqrt{200^2+x^2}}{3.0}+\\frac{\\sqrt{150^2+(800-x)^2}}{1.5}$   (aika=matka/nopeus)\n",
    "\n",
    "Ratkaisu WoframAlphalla:    \n",
    "\n",
    "Derivaatan nollakohta: $\\color{red}{\\text{solve D}(\\frac{\\sqrt{200^2+x^2}}{3.0}+\\frac{\\sqrt{150^2+(800-x)^2}}{1.5}=0,x)}$  antaa tulokseksi  $t\\approx 717.562$.     \n",
    "\n",
    "Sen, että kyseessä on minimikohta, voi varmistaa piirtämällä t(x):n lausekkeen esim. välillä [500,800]:   \n",
    "$\\color{brown}{\\text{plot }\\frac{\\sqrt{200^2+x^2}}{3.0}+\\frac{\\sqrt{150^2+(800-x)^2}}{1.5}\\text{from 600 to 800}}$     \n",
    "![min](images/kuva15.PNG)\n",
    "```\n",
    "```{admonition} Tapa2: laskimen *minimize* toiminto\n",
    ":class: dropdown \n",
    "   \n",
    "Komento $\\color{brown}{\\text{minimize }\\frac{\\sqrt{200^2+x^2}}{3.0}+\\frac{\\sqrt{150^2+(800-x)^2}}{1.5}}$         \n",
    "antaa tulokseksi $\\text{min}\\{\\frac{\\sqrt{200^2+x^2}}{3.0}+\\frac{\\sqrt{150^2+(800-x)^2}}{1.5}\\}\\approx 362.4\\text{ at }x\\approx 717.562$\n",
    "\n",
    "```\n",
    "````"
   ]
  },
  {
   "cell_type": "markdown",
   "id": "1bc16dbf",
   "metadata": {},
   "source": [
    "**Ääriarvot algebralaskimissa**  \n",
    "\n",
    "Algebralaskimissa on ääriarvojen etsimiseen valmiit funktiot (esim. TI-CAS laskimissa FindMaximum, FindMinimum). \n",
    "\n",
    "\n",
    "WolframAlpha - online laskimessa vastaavat komennot ovat **maximize** ja **minimize**.  Edellinen esimerkki olisi voitu ratkaista W.A:ssa yhdellä komennolla:\n",
    "\n",
    "<span style=\"color:red\">maximize 40 +320 t-4.9 t^2</span>  , joka antaa ratkaisun muodossa      \n",
    "<span style=\"color:green\">max{40+320 t - 4.9 t^2} $\\approx $ 5264.5 at t$\\approx$ 32.653</span> "
   ]
  },
  {
   "cell_type": "markdown",
   "id": "ea9cb2cd",
   "metadata": {},
   "source": [
    "## Usean muuttujan funktion ääriarvo"
   ]
  },
  {
   "cell_type": "markdown",
   "id": "88afe6f1",
   "metadata": {},
   "source": [
    "Kahden muuttujan funktion z = f(x,y) kuvaaja on 3D -avaruuden pinta. Mikäli funktiolla on suurin tai pienin arvo, ne näkyvät pinnassa huippuina tai kuoppina.     \n",
    "\n",
    "Ääriarvokohdassa usein molemmat osittaisderivaatat saavat arvon nolla (tangentit x- ja y-suunnissa ovat vaakasuoria)"
   ]
  },
  {
   "cell_type": "markdown",
   "id": "43ef5997",
   "metadata": {},
   "source": [
    "````{admonition} Etsi piste P=(x,y), jonka kolmesta kiinteästä pisteestä A(3,8), B(14,2) ja C(1,5) laskettujen etäisyyksien summa on mahdollisimman pieni.\n",
    ":class: dropdown\n",
    "Vastaus: $P = (3.17, 6.63)$\n",
    "```{admonition} Tapa1. Yhtälöpari, joka ratkaistaan W.A:lla tai algebralaskimella\n",
    ":class: dropdown\n",
    "$\\color{brown}{\\text{solve D}(\\sqrt{(x-3)^2+(y-8)^2}+\\sqrt{(x-14)^2+(y-2)^2}+}$        \n",
    "$\\color{brown}{\\sqrt{(x-1)^2+(y-5)^2},x)=0,D(\\sqrt{(x-3)^2+(y-8)^2}+}$            \n",
    "$\\color{brown}{\\sqrt{(x-14)^2+(y-2)^2}+\\sqrt{(x-1)^2+(y-5)^2},y)=0}$      \n",
    "antaa tuloksen $x\\approx 3.17, y\\approx 6.63$       \n",
    "\n",
    "Komento on varsin pitkä ja voi olla, ettei mahdu W.A:n syöttösoluun\n",
    "```\n",
    "```{admonition} Tapa2. W.A:n mimimize komennon käyttö\n",
    ":class: dropdown\n",
    "$\\color{brown}{\\text{minimize }\\sqrt{(x-3)^2+(y-8)^2}+\\sqrt{(x-14)^2+(y-2)^2}+}$       \n",
    "$\\color{brown}{\\sqrt{(x-1)^2+(y-5)^2}}\\hspace{5mm}$ antaa tuloksen $x\\approx 3.17, y\\approx 6.63$      \n",
    "\n",
    "Komento on lyhyempi ja mahtuu syöttösoluun\n",
    "```\n",
    "```{admonition} Tapa3. W.A:n grafiikkakomento ContourPlot\n",
    ":class: dropdown\n",
    "$\\color{brown}{\\text{contourplot }\\sqrt{(x-3)^2+(y-8)^2}+\\sqrt{(x-14)^2+(y-2)^2}+}$       \n",
    "$\\color{brown}{\\sqrt{(x-1)^2+(y-5)^2}}$   \n",
    "\n",
    "antaa korkeuskäyräkuvan pinnasta. Minimi löytyy tummasävyisimmästä kohdasta.     \n",
    "![cont](images/kuva13.PNG)\n",
    "\n",
    "```\n",
    "````"
   ]
  },
  {
   "cell_type": "markdown",
   "id": "faaaac48",
   "metadata": {},
   "source": [
    "##  Ehdolliset ääriarvot (constraint minima/maxima)"
   ]
  },
  {
   "cell_type": "markdown",
   "id": "e46766b1",
   "metadata": {},
   "source": [
    "Monissa sovelluksissa optimoitava funktio sisältää useita muuttujia, joita kuitenkin sitovat toisiinsa rajoittavat ehdot. Ehtoja hyödyntäen muuttujia voidaan eliminoida siten, että loppujen lopuksi kyse on yhden muuttujan funktion ääriarvotehtävästä.   \n",
    "\n",
    "Tämän tyyppisistä tilanteista käytetään englanninkielisie termejä **constraint maximum** ja **constraint minimum**. Sana *constraint* käännetään suomeksi *rajoite*"
   ]
  },
  {
   "cell_type": "markdown",
   "id": "c5b6d280",
   "metadata": {},
   "source": [
    "````{admonition} Esimerkki\n",
    ":class: tip\n",
    "Määritä sellaisen suorakulmion suurin mahdollinen pinta-ala, jonka piirin pituus on 500.     \n",
    "![suorak](images/kuva16.PNG)        \n",
    "Merkitään suorakulmion sivuja x:llä ja y:llä. Ongelma voidaan muotoilla matemaattisesti seuraavalla tavalla:      \n",
    "\n",
    "**Maksimoi x y ehdolla 2x + 2y = 500**     \n",
    "\n",
    "Ratkaisumenetelmiä:\n",
    "```{admonition} Tapa1: muuntaminen yhden muuttujan funktion ääriarvotehtäväksi:  \n",
    ":class: dropdown      \n",
    "1) Ratkaistaan y ehdosta 2x+2y=500 muuttujan x funktiona:   y = 250 - x        \n",
    "2) Muunnetaan maksimoitava lauseke yhden muuttujan funktioksi kohdasta 1) saadulla sijoituksella ja sievennetään:      \n",
    "Ala $A = x y = x (250 - x) = 250 x - x^2$ \n",
    "3) Etsitään derivaatan nollakohta: $D(250 x - x^2)$ = 250 - 2x = 0 => x = 125      \n",
    "4) Lasketaan toisen sivun pituus y = 250 - x = 250 - 125 = 125 \n",
    "5) Kohdassa 2) saadun funktion $250 x-x^2$ kuvaaja on alaspäin aukeava paraabeli, jolla tunnetusti on derivaatan nollakohdassa maksimi.  (kuvaa ei tarvita)\n",
    "``` \n",
    "```{admonition} Tapa2: WolframAlphan ehdollisen ääriarvon ratkaisutoiminto:  \n",
    ":class: dropdown      \n",
    "WolframAlhassa **Maksimoi x y ehdolla 2x + 2y = 500** voidaan ratkaista suoraan komennolla, joka on melkein suora käännös em. lauseesta:      \n",
    "$\\color{red}{\\text{maximize x*y on 2x+2y=500}}$     \n",
    "\n",
    "Vastaus tulee muodossa $\\color{blue}{\\text{max{x y|2 x + 2 y = 500} = 15625 at (x, y) = (125, 125)}}$    \n",
    "Siitä löytyy paitsi suorakaiteen sivujen mitat x=y=125, myös suurin pinta-ala, joka on 15625. \n",
    "``` \n",
    "```{admonition} Tapa3: Lagrangen menetelmä (Sopii laajan matematiikan kurssilla esitettäväksi)  \n",
    ":class: dropdown      \n",
    "Ranskalainen 1700-luvun matemaatikko Lagrange kehitti seuraavanlaisen menetelmän ehdollisten ääriarvojen ratkaisuun:       \n",
    "Jos f(x,y) on optimoitava funktio, jossa muuttujia sitoo ehto g(x,y) = c  (c = vakio), muodostetaan näistä lisäparametrin $\\lambda$ sisältävä ns.      \n",
    "\n",
    "Lagrangen funktio $L = f(x,y)- \\lambda \\cdot (g(x,y)-c)$     \n",
    "\n",
    "Ääriarvo löytyy kohdasta, jossa Lagrangen funktion osittaisderivaatat $\\frac{\\partial L}{\\partial x},\\frac{\\partial L}{\\partial y}\\text{ ja }\\frac{\\partial L}{\\partial \\lambda}$ ovat nollia.  \n",
    "\n",
    "Esimerkissämme Lagrangen funktio on $L = x\\cdot y-\\lambda \\cdot (2x+2y-500)$      \n",
    "\n",
    "Osittaisderivaatat ovat $\\frac{\\partial L}{\\partial x}=y-2\\lambda\\text{,  }\\frac{\\partial L}{\\partial y}=x-2\\lambda\\text{  ja    }\\frac{\\partial L}{\\partial \\lambda}=2x+2y-500$.  Merkitään ne kaikki nolliksi ja ratkaistaan yhtälöryhmä komennolla       \n",
    "\n",
    "$\\color{red}{\\text{solve }y-2\\lambda =0, x-2\\lambda =0 , 2x+2y-500=0}$.     \n",
    "Ratkaisu on x = 125, y = 125 ja $\\lambda = 62.5$\n",
    "\n",
    "\n",
    "Vastaus on siis sama kuin aiemmilla menetelmillä:  x = y = 125.\n",
    "``` \n",
    "````"
   ]
  },
  {
   "cell_type": "markdown",
   "id": "616a1d95",
   "metadata": {},
   "source": [
    "Seuraavassa esimerkissä tarvitaan sylinteriin liittyviä kaavoja:\n",
    "![syl](images/kuva17.PNG)"
   ]
  },
  {
   "cell_type": "markdown",
   "id": "8cfdf3aa",
   "metadata": {},
   "source": [
    "````{admonition} Tynnyrin materiaalin kulutuksen minimin etsiminen\n",
    ":class: tip\n",
    "Määritä sellaisen 100 litran tynnyrin mitat (pohjan säde r ja korkeus h), jonka pinta-ala on mahdollisimman pieni.       \n",
    "Pinta-alaan kuuluu pohja ja kansi, ja vaippa. Niiden yhteispinta-ala $A = 2\\pi r^2 + 2\\pi r h$      \n",
    "Niitä rajoittaa ehto, jonka mukaan tilavuus $V = \\pi r^2 h = 100 {dm}^3$.     \n",
    "\n",
    "Ongelman matemaattinen muotoilu on seuraava:      \n",
    "\n",
    "**Minimoi $2\\pi r^2 + 2\\pi r h$  ehdolla $\\pi r^2 h = 100$**     \n",
    "\n",
    "Ratkaisumenetelmiä:\n",
    "```{admonition} Tapa1: muuntaminen yhden muuttujan funktion ääriarvotehtäväksi:  \n",
    ":class: dropdown      \n",
    "1) Ratkaistaan tilavuusehdosta h muuttujan r funktiona:   $h = \\frac {100}{\\pi r^2}$        \n",
    "2) Muunnetaan maksimoitava lauseke yhden muuttujan funktioksi kohdasta 1) saadulla sijoituksella ja sievennetään:      \n",
    "Ala $A = 2\\pi r^2 + 2\\pi r h = 2\\pi r^2 +  \\frac {100\\cdot 2\\pi r}{\\pi r^2}=2\\pi r^2 +  \\frac {200}{r}$ \n",
    "3) Etsitään derivaatan nollakohta: $D(2\\pi r^2 +  \\frac {200}{r}) = 4\\pi r-\\frac {200}{r^2}=0 => r = 2.52$      \n",
    "4) Lasketaan korkeus $h = \\frac {100}{\\pi r^2}= \\frac {100}{\\pi 2.52^2}= 5.01$ \n",
    "5) Varmistutaan vielä, että kyseessä on minimi piirtämällä kuva A:n lausekkeesta välillä [2,3].\n",
    "$\\color{red}{\\text{plot }2\\pi r^2 +  \\frac {200}{r}\\text{ from 2 to 3}}$      \n",
    "![min2](images/kuva18.PNG)    \n",
    "\n",
    "``` \n",
    "```{admonition} Tapa2: WolframAlphan ehdollisen ääriarvon ratkaisutoiminto:  \n",
    ":class: dropdown      \n",
    "WolframAlhassa ratkaisu tulee helposti yhdellä komennolla       \n",
    "$\\color{red}{\\text{minimize } 2\\pi r^2 + 2\\pi r h\\text{ on }\\pi r^2 h=100}$     \n",
    "\n",
    "Vastaus tulee muodossa $\\color{blue}{\\text{min{2 π r^2 + 2 π r h|π h r^2 = 100}≈119.265 at (h, r)≈(5.0308, 2.5154)}}$    \n",
    "Siitä löytyy r, h sekä tynnyrin pinta-ala minimikohdassa, joka on $119 dm^2$  \n",
    "``` \n",
    "\n",
    "````"
   ]
  }
 ],
 "metadata": {
  "jupytext": {
   "cell_metadata_filter": "-all",
   "notebook_metadata_filter": "-all",
   "text_representation": {
    "extension": ".md",
    "format_name": "markdown"
   }
  },
  "kernelspec": {
   "display_name": "Python 3 (ipykernel)",
   "language": "python",
   "name": "python3"
  },
  "language_info": {
   "codemirror_mode": {
    "name": "ipython",
    "version": 3
   },
   "file_extension": ".py",
   "mimetype": "text/x-python",
   "name": "python",
   "nbconvert_exporter": "python",
   "pygments_lexer": "ipython3",
   "version": "3.9.7"
  }
 },
 "nbformat": 4,
 "nbformat_minor": 5
}
